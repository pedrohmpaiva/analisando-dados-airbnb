{
  "nbformat": 4,
  "nbformat_minor": 0,
  "metadata": {
    "colab": {
      "name": "Analisando os Dados do Airbnb - Nashville.ipynb",
      "provenance": [],
      "collapsed_sections": [],
      "include_colab_link": true
    },
    "kernelspec": {
      "display_name": "Python 3",
      "language": "python",
      "name": "python3"
    },
    "language_info": {
      "codemirror_mode": {
        "name": "ipython",
        "version": 3
      },
      "file_extension": ".py",
      "mimetype": "text/x-python",
      "name": "python",
      "nbconvert_exporter": "python",
      "pygments_lexer": "ipython3",
      "version": "3.8.5"
    }
  },
  "cells": [
    {
      "cell_type": "markdown",
      "metadata": {
        "id": "view-in-github",
        "colab_type": "text"
      },
      "source": [
        "<a href=\"https://colab.research.google.com/github/pedrohmpaiva/analisando-dados-airbnb/blob/main/Analisando_os_Dados_do_Airbnb_Nashville.ipynb\" target=\"_parent\"><img src=\"https://colab.research.google.com/assets/colab-badge.svg\" alt=\"Open In Colab\"/></a>"
      ]
    },
    {
      "cell_type": "markdown",
      "metadata": {
        "id": "kLI0gJtzDGuQ"
      },
      "source": [
        "<img alt=\"Colaboratory logo\" width=\"15%\" src=\"https://github.com/pedrohmpaiva/portfolio/blob/main/banner.png?raw=true\">\n",
        "\n",
        "*por: [Pedro Henrique M. Paiva](https://www.linkedin.com/in/pedro-henrique-paiva/)*\n",
        "\n",
        "---\n",
        "\n",
        "# Análise dos Dados do Airbnb - *Nashville, Tennessee, Estados Unidos*\n",
        "\n",
        "<center><img alt=\"Analisando Airbnb\" width=\"50%\" src=\"https://rotadeferias.com.br/wp-content/uploads/2019/08/JakeMatthews_HonkeyTonkHwy_2019.jpg\"></center>\n",
        "\n",
        "---\n",
        "O [Airbnb](https://www.airbnb.com.br/) já é considerado como sendo a **maior empresa hoteleira da atualidade**. Ah, o detalhe é que ele **não possui nenhum hotel**!\n",
        "\n",
        "Conectando pessoas que querem viajar (e se hospedar) com anfitriões que querem alugar seus imóveis de maneira prática, o Airbnb fornece uma plataforma inovadora para tornar essa hospedagem alternativa.\n",
        "\n",
        "No final de 2018, a Startup fundada 10 anos atrás, já havia **hospedado mais de 300 milhões** de pessoas ao redor de todo o mundo, desafiando as redes hoteleiras tradicionais.\n",
        "\n",
        "Uma das iniciativas do Airbnb é disponibilizar dados do site, para algumas das principais cidades do mundo. Por meio do portal [Inside Airbnb](http://insideairbnb.com/get-the-data.html), é possível baixar uma grande quantidade de dados para desenvolver projetos e soluções de *Data Science*.\n",
        "\n",
        "<br/><br/>\n",
        "**Neste *notebook*, iremos analisar os dados referentes à cidade Nashville, e ver quais insights podem ser extraídos a partir de dados brutos.**\n",
        "<br/><br/>\n",
        "\n",
        "Nashville é a capital do estado do Tennessee, nos EUA, e é onde fica a Universidade Vanderbilt. Um dos principais espaços de eventos da lendária música country é a Grand Ole Opry House, casa do famoso programa de rádio e palco \"Grand Ole Opry\". O Country Music Hall of Fame and Museum e o histórico Ryman Auditorium ficam no centro da cidade, assim como o Distrito, com bares \"honky-tonk\" com música ao vivo e o Johnny Cash Museum, que celebra a vida do cantor. \n",
        "\n",
        "Fonte ― Google\n",
        "\n",
        "---"
      ]
    },
    {
      "cell_type": "markdown",
      "metadata": {
        "id": "0zxQHhIUDF_2"
      },
      "source": [
        "# **Obtendo os Dados**\n",
        "---"
      ]
    },
    {
      "cell_type": "markdown",
      "metadata": {
        "id": "-14WT3n3CN1a"
      },
      "source": [
        "Para a análise exploratória inicial, foi baixado o seguinte arquivo:\n",
        "\n",
        "* `listings.csv` - *Summary information and metrics for listings in Nashville (good for visualisations).*\n",
        "\n",
        "Este dataset é uma versão resumida, ideal apenas para uma abordagem inicial.\n"
      ]
    },
    {
      "cell_type": "code",
      "metadata": {
        "id": "Vhp2wMPgJ6zX"
      },
      "source": [
        "# importar os pacotes necessarios\n",
        "\n",
        "import pandas as pd\n",
        "\n",
        "import matplotlib.pyplot as plt\n",
        "import seaborn as sns\n",
        "\n",
        "import numpy as np\n",
        "%matplotlib inline"
      ],
      "execution_count": 1,
      "outputs": []
    },
    {
      "cell_type": "code",
      "metadata": {
        "id": "tUmoAT8DLQ5T"
      },
      "source": [
        "# importando o arquivo listings.csv para um DataFrame\n",
        "\n",
        "dados = pd.read_csv('http://data.insideairbnb.com/united-states/tn/nashville/2021-09-21/visualisations/listings.csv')"
      ],
      "execution_count": 2,
      "outputs": []
    },
    {
      "cell_type": "markdown",
      "metadata": {
        "id": "qb5By2nIMS6m"
      },
      "source": [
        "# **Análise dos Dados**\n",
        "---"
      ]
    },
    {
      "cell_type": "markdown",
      "metadata": {
        "id": "RYgvuebKNg8-"
      },
      "source": [
        "**Dicionário das variáveis**\n",
        "\n",
        "\n",
        "* `id` - número de id gerado para identificar o anúncio do imóvel\n",
        "* `name` - nome da propriedade anunciada\n",
        "* `host_id` - número de id do proprietário (anfitrião) da propriedade\n",
        "* `host_name` - Nome do anfitrião\n",
        "* `neighbourhood_group` - esta coluna não contém nenhum valor válido\n",
        "* `neighbourhood` - nome do bairro\n",
        "* `latitude` - coordenada da latitude da propriedade\n",
        "* `longitude` - coordenada da longitude da propriedade\n",
        "* `room_type` - informa o tipo de quarto que é oferecido\n",
        "* `price` - preço para alugar o imóvel\n",
        "* `minimum_nights` - quantidade mínima de noites para reservar\n",
        "* `number_of_reviews` - número de reviews que a propriedade possui\n",
        "* `last_review` - data do último review\n",
        "* `reviews_per_month` - quantidade de reviews por mês\n",
        "* `calculated_host_listings_count` - quantidade de imóveis do mesmo anfitrião\n",
        "* `availability_365` - número de dias de disponibilidade dentro de 365 dias\n",
        "\n",
        "\n",
        "\n",
        "\n",
        "Antes de iniciar qualquer análise, vamos verificar a cara do nosso *dataset*, analisando as 5 primeiras entradas."
      ]
    },
    {
      "cell_type": "code",
      "metadata": {
        "id": "2iS_dae7YQtO",
        "colab": {
          "base_uri": "https://localhost:8080/",
          "height": 360
        },
        "outputId": "3598b4b1-bf3c-4a15-b4c4-8d9dd8abed16"
      },
      "source": [
        "# mostrando as 5 primeiras entradas\n",
        "dados.head()"
      ],
      "execution_count": 3,
      "outputs": [
        {
          "output_type": "execute_result",
          "data": {
            "text/html": [
              "<div>\n",
              "<style scoped>\n",
              "    .dataframe tbody tr th:only-of-type {\n",
              "        vertical-align: middle;\n",
              "    }\n",
              "\n",
              "    .dataframe tbody tr th {\n",
              "        vertical-align: top;\n",
              "    }\n",
              "\n",
              "    .dataframe thead th {\n",
              "        text-align: right;\n",
              "    }\n",
              "</style>\n",
              "<table border=\"1\" class=\"dataframe\">\n",
              "  <thead>\n",
              "    <tr style=\"text-align: right;\">\n",
              "      <th></th>\n",
              "      <th>id</th>\n",
              "      <th>name</th>\n",
              "      <th>host_id</th>\n",
              "      <th>host_name</th>\n",
              "      <th>neighbourhood_group</th>\n",
              "      <th>neighbourhood</th>\n",
              "      <th>latitude</th>\n",
              "      <th>longitude</th>\n",
              "      <th>room_type</th>\n",
              "      <th>price</th>\n",
              "      <th>minimum_nights</th>\n",
              "      <th>number_of_reviews</th>\n",
              "      <th>last_review</th>\n",
              "      <th>reviews_per_month</th>\n",
              "      <th>calculated_host_listings_count</th>\n",
              "      <th>availability_365</th>\n",
              "      <th>number_of_reviews_ltm</th>\n",
              "      <th>license</th>\n",
              "    </tr>\n",
              "  </thead>\n",
              "  <tbody>\n",
              "    <tr>\n",
              "      <th>0</th>\n",
              "      <td>6422</td>\n",
              "      <td>Nashville Charm</td>\n",
              "      <td>12172</td>\n",
              "      <td>Michele</td>\n",
              "      <td>NaN</td>\n",
              "      <td>District 6</td>\n",
              "      <td>36.17315</td>\n",
              "      <td>-86.73581</td>\n",
              "      <td>Private room</td>\n",
              "      <td>40</td>\n",
              "      <td>30</td>\n",
              "      <td>674</td>\n",
              "      <td>2020-03-02</td>\n",
              "      <td>6.72</td>\n",
              "      <td>1</td>\n",
              "      <td>123</td>\n",
              "      <td>0</td>\n",
              "      <td>NaN</td>\n",
              "    </tr>\n",
              "    <tr>\n",
              "      <th>1</th>\n",
              "      <td>25613</td>\n",
              "      <td>Room in Historic East Nashville Craftsman Home</td>\n",
              "      <td>95811</td>\n",
              "      <td>Nell</td>\n",
              "      <td>NaN</td>\n",
              "      <td>District 6</td>\n",
              "      <td>36.17826</td>\n",
              "      <td>-86.74162</td>\n",
              "      <td>Private room</td>\n",
              "      <td>77</td>\n",
              "      <td>2</td>\n",
              "      <td>510</td>\n",
              "      <td>2020-03-14</td>\n",
              "      <td>5.31</td>\n",
              "      <td>1</td>\n",
              "      <td>256</td>\n",
              "      <td>0</td>\n",
              "      <td>NaN</td>\n",
              "    </tr>\n",
              "    <tr>\n",
              "      <th>2</th>\n",
              "      <td>258817</td>\n",
              "      <td>ButterflyRoom-private bath- open in oct</td>\n",
              "      <td>22296</td>\n",
              "      <td>Diana</td>\n",
              "      <td>NaN</td>\n",
              "      <td>District 12</td>\n",
              "      <td>36.16249</td>\n",
              "      <td>-86.58988</td>\n",
              "      <td>Private room</td>\n",
              "      <td>29</td>\n",
              "      <td>30</td>\n",
              "      <td>96</td>\n",
              "      <td>2019-12-14</td>\n",
              "      <td>1.14</td>\n",
              "      <td>7</td>\n",
              "      <td>276</td>\n",
              "      <td>0</td>\n",
              "      <td>NaN</td>\n",
              "    </tr>\n",
              "    <tr>\n",
              "      <th>3</th>\n",
              "      <td>289242</td>\n",
              "      <td>MorningstarHouse, monthly room- open sept</td>\n",
              "      <td>22296</td>\n",
              "      <td>Diana</td>\n",
              "      <td>NaN</td>\n",
              "      <td>District 12</td>\n",
              "      <td>36.16102</td>\n",
              "      <td>-86.59207</td>\n",
              "      <td>Private room</td>\n",
              "      <td>28</td>\n",
              "      <td>30</td>\n",
              "      <td>76</td>\n",
              "      <td>2019-01-12</td>\n",
              "      <td>0.65</td>\n",
              "      <td>7</td>\n",
              "      <td>325</td>\n",
              "      <td>0</td>\n",
              "      <td>NaN</td>\n",
              "    </tr>\n",
              "    <tr>\n",
              "      <th>4</th>\n",
              "      <td>319705</td>\n",
              "      <td>SuperSweetSTUDIO, jacuzzi, monthly</td>\n",
              "      <td>22296</td>\n",
              "      <td>Diana</td>\n",
              "      <td>NaN</td>\n",
              "      <td>District 12</td>\n",
              "      <td>36.16296</td>\n",
              "      <td>-86.59187</td>\n",
              "      <td>Private room</td>\n",
              "      <td>31</td>\n",
              "      <td>30</td>\n",
              "      <td>48</td>\n",
              "      <td>2020-07-03</td>\n",
              "      <td>0.41</td>\n",
              "      <td>7</td>\n",
              "      <td>347</td>\n",
              "      <td>0</td>\n",
              "      <td>NaN</td>\n",
              "    </tr>\n",
              "  </tbody>\n",
              "</table>\n",
              "</div>"
            ],
            "text/plain": [
              "       id  ... license\n",
              "0    6422  ...     NaN\n",
              "1   25613  ...     NaN\n",
              "2  258817  ...     NaN\n",
              "3  289242  ...     NaN\n",
              "4  319705  ...     NaN\n",
              "\n",
              "[5 rows x 18 columns]"
            ]
          },
          "metadata": {},
          "execution_count": 3
        }
      ]
    },
    {
      "cell_type": "markdown",
      "metadata": {
        "id": "6-B_qtEaYEd-"
      },
      "source": [
        "# **1. Quantos atributos (variáveis) e quantas entradas o nosso conjunto de dados possui? Quais os tipos das variáveis?**\n",
        "---"
      ]
    },
    {
      "cell_type": "code",
      "metadata": {
        "id": "TFRK0tniLV-G",
        "colab": {
          "base_uri": "https://localhost:8080/"
        },
        "outputId": "af91ab85-4668-4dc6-aa36-ef692080c351"
      },
      "source": [
        "# Identificando o volume de dados do dataset e posteriormente verificando os tipos das variáveis.\n",
        "\n",
        "print('***************************************************')\n",
        "print('*** O dataset possui {} linhas e {} colunas   ***'.format(dados.shape[0],dados.shape[1]))\n",
        "print('***************************************************')\n",
        "\n",
        "dados.dtypes"
      ],
      "execution_count": 4,
      "outputs": [
        {
          "output_type": "stream",
          "name": "stdout",
          "text": [
            "***************************************************\n",
            "*** O dataset possui 6240 linhas e 18 colunas   ***\n",
            "***************************************************\n"
          ]
        },
        {
          "output_type": "execute_result",
          "data": {
            "text/plain": [
              "id                                  int64\n",
              "name                               object\n",
              "host_id                             int64\n",
              "host_name                          object\n",
              "neighbourhood_group               float64\n",
              "neighbourhood                      object\n",
              "latitude                          float64\n",
              "longitude                         float64\n",
              "room_type                          object\n",
              "price                               int64\n",
              "minimum_nights                      int64\n",
              "number_of_reviews                   int64\n",
              "last_review                        object\n",
              "reviews_per_month                 float64\n",
              "calculated_host_listings_count      int64\n",
              "availability_365                    int64\n",
              "number_of_reviews_ltm               int64\n",
              "license                           float64\n",
              "dtype: object"
            ]
          },
          "metadata": {},
          "execution_count": 4
        }
      ]
    },
    {
      "cell_type": "markdown",
      "metadata": {
        "id": "yz1urSUGW9iE"
      },
      "source": [
        "# **2. Qual a porcentagem de valores ausentes no *dataset*?**\n",
        "---"
      ]
    },
    {
      "cell_type": "code",
      "metadata": {
        "id": "plk2FjbCXOqP",
        "colab": {
          "base_uri": "https://localhost:8080/"
        },
        "outputId": "52af887b-5478-4073-c01b-010306fa32fe"
      },
      "source": [
        "# Verificando a porcentagem de dados faltantes em cada atributo\n",
        "\n",
        "(dados.isnull().sum() / dados.shape[0]).sort_values(ascending= False) * 100"
      ],
      "execution_count": 5,
      "outputs": [
        {
          "output_type": "execute_result",
          "data": {
            "text/plain": [
              "license                           100.000000\n",
              "neighbourhood_group               100.000000\n",
              "reviews_per_month                  11.506410\n",
              "last_review                        11.506410\n",
              "host_name                           0.897436\n",
              "longitude                           0.000000\n",
              "name                                0.000000\n",
              "host_id                             0.000000\n",
              "neighbourhood                       0.000000\n",
              "latitude                            0.000000\n",
              "room_type                           0.000000\n",
              "number_of_reviews_ltm               0.000000\n",
              "price                               0.000000\n",
              "minimum_nights                      0.000000\n",
              "number_of_reviews                   0.000000\n",
              "calculated_host_listings_count      0.000000\n",
              "availability_365                    0.000000\n",
              "id                                  0.000000\n",
              "dtype: float64"
            ]
          },
          "metadata": {},
          "execution_count": 5
        }
      ]
    },
    {
      "cell_type": "markdown",
      "metadata": {
        "id": "iHXvvHIxaoNc"
      },
      "source": [
        "# **3. Qual o tipo de distribuição das variáveis?** \n",
        "---"
      ]
    },
    {
      "cell_type": "code",
      "metadata": {
        "id": "q2wWSfeRbmBo",
        "colab": {
          "base_uri": "https://localhost:8080/",
          "height": 879
        },
        "outputId": "5e2bc866-21b6-4c6d-b356-63a992093a94"
      },
      "source": [
        "# Plotando histogramas das variáveis numéricas\n",
        "dados.hist(bins= 15, figsize= (15, 15));"
      ],
      "execution_count": 6,
      "outputs": [
        {
          "output_type": "display_data",
          "data": {
            "image/png": "[encoded data removed]",
            "text/plain": [
              "<Figure size 1080x1080 with 16 Axes>"
            ]
          },
          "metadata": {
            "needs_background": "light"
          }
        }
      ]
    },
    {
      "cell_type": "markdown",
      "metadata": {
        "id": "pjZYrOiHCN1j"
      },
      "source": [
        "---\n",
        "* Vendo os gráficos, logo de cara já percebo outliers em `price` e `minimum_nights`. Como as colunas `neighbourhood_group` e `license` estão com 100% dos dados ausentes, irei excluílos da minha análise\n",
        "---"
      ]
    },
    {
      "cell_type": "code",
      "metadata": {
        "id": "mTUIily0CN1j",
        "colab": {
          "base_uri": "https://localhost:8080/",
          "height": 297
        },
        "outputId": "64ff21dd-4ffb-406d-df2e-ffdad0ca1df1"
      },
      "source": [
        "dados[['price', 'minimum_nights', 'number_of_reviews', \n",
        "       'reviews_per_month','calculated_host_listings_count', 'availability_365']].describe().round(2)"
      ],
      "execution_count": 7,
      "outputs": [
        {
          "output_type": "execute_result",
          "data": {
            "text/html": [
              "<div>\n",
              "<style scoped>\n",
              "    .dataframe tbody tr th:only-of-type {\n",
              "        vertical-align: middle;\n",
              "    }\n",
              "\n",
              "    .dataframe tbody tr th {\n",
              "        vertical-align: top;\n",
              "    }\n",
              "\n",
              "    .dataframe thead th {\n",
              "        text-align: right;\n",
              "    }\n",
              "</style>\n",
              "<table border=\"1\" class=\"dataframe\">\n",
              "  <thead>\n",
              "    <tr style=\"text-align: right;\">\n",
              "      <th></th>\n",
              "      <th>price</th>\n",
              "      <th>minimum_nights</th>\n",
              "      <th>number_of_reviews</th>\n",
              "      <th>reviews_per_month</th>\n",
              "      <th>calculated_host_listings_count</th>\n",
              "      <th>availability_365</th>\n",
              "    </tr>\n",
              "  </thead>\n",
              "  <tbody>\n",
              "    <tr>\n",
              "      <th>count</th>\n",
              "      <td>6240.00</td>\n",
              "      <td>6240.00</td>\n",
              "      <td>6240.00</td>\n",
              "      <td>5522.00</td>\n",
              "      <td>6240.00</td>\n",
              "      <td>6240.00</td>\n",
              "    </tr>\n",
              "    <tr>\n",
              "      <th>mean</th>\n",
              "      <td>274.47</td>\n",
              "      <td>7.20</td>\n",
              "      <td>60.40</td>\n",
              "      <td>4.54</td>\n",
              "      <td>18.51</td>\n",
              "      <td>190.65</td>\n",
              "    </tr>\n",
              "    <tr>\n",
              "      <th>std</th>\n",
              "      <td>360.44</td>\n",
              "      <td>19.04</td>\n",
              "      <td>90.21</td>\n",
              "      <td>13.13</td>\n",
              "      <td>33.66</td>\n",
              "      <td>128.72</td>\n",
              "    </tr>\n",
              "    <tr>\n",
              "      <th>min</th>\n",
              "      <td>0.00</td>\n",
              "      <td>1.00</td>\n",
              "      <td>0.00</td>\n",
              "      <td>0.01</td>\n",
              "      <td>1.00</td>\n",
              "      <td>0.00</td>\n",
              "    </tr>\n",
              "    <tr>\n",
              "      <th>25%</th>\n",
              "      <td>118.75</td>\n",
              "      <td>1.00</td>\n",
              "      <td>5.00</td>\n",
              "      <td>1.00</td>\n",
              "      <td>1.00</td>\n",
              "      <td>65.00</td>\n",
              "    </tr>\n",
              "    <tr>\n",
              "      <th>50%</th>\n",
              "      <td>199.00</td>\n",
              "      <td>2.00</td>\n",
              "      <td>27.00</td>\n",
              "      <td>2.29</td>\n",
              "      <td>3.00</td>\n",
              "      <td>204.00</td>\n",
              "    </tr>\n",
              "    <tr>\n",
              "      <th>75%</th>\n",
              "      <td>321.25</td>\n",
              "      <td>3.00</td>\n",
              "      <td>78.00</td>\n",
              "      <td>4.21</td>\n",
              "      <td>17.00</td>\n",
              "      <td>320.00</td>\n",
              "    </tr>\n",
              "    <tr>\n",
              "      <th>max</th>\n",
              "      <td>10000.00</td>\n",
              "      <td>365.00</td>\n",
              "      <td>907.00</td>\n",
              "      <td>493.00</td>\n",
              "      <td>134.00</td>\n",
              "      <td>365.00</td>\n",
              "    </tr>\n",
              "  </tbody>\n",
              "</table>\n",
              "</div>"
            ],
            "text/plain": [
              "          price  ...  availability_365\n",
              "count   6240.00  ...           6240.00\n",
              "mean     274.47  ...            190.65\n",
              "std      360.44  ...            128.72\n",
              "min        0.00  ...              0.00\n",
              "25%      118.75  ...             65.00\n",
              "50%      199.00  ...            204.00\n",
              "75%      321.25  ...            320.00\n",
              "max    10000.00  ...            365.00\n",
              "\n",
              "[8 rows x 6 columns]"
            ]
          },
          "metadata": {},
          "execution_count": 7
        }
      ]
    },
    {
      "cell_type": "markdown",
      "metadata": {
        "id": "AW1b2-neCN1k"
      },
      "source": [
        "# **Tratando outliers**\n",
        "---"
      ]
    },
    {
      "cell_type": "markdown",
      "metadata": {
        "id": "WiuuqhvECN1k"
      },
      "source": [
        "Sobre os outliers em `price` e `minimum_nights`:\n",
        "\n",
        "* A variável `price` tem o mínimo em 0.\n",
        "* Lembrando que a variável `price` trata do preço da diária dos imóveis em dólares (USD), estamos vendo que o Q3 está em 321 dólares, mas o máximo está em 10 mil dórales. Com certeza, um outlier aqui.\n",
        "* A variável `minimum_nights` tem como seu máximo o valor 365, sendo que o Q3 está em 3. Claramente temos outliers nessa variável.\n",
        "* As variáveis `number_of_reviews`, `calculated_host_listings_count` e `availability_365` também podem conter outliers, porém o objetivo desta análise é conseguir insights observando o preço e a quantidade de noites de cada imóvel\n",
        "\n",
        "\n",
        "\n",
        "\n",
        "Para tratamento dos outliers desse conjunto de dados, fiz uma análise da distribuição estatística, plotei boxplots e calculei os limites utilizando a regra do IQR Score.\n",
        "\n",
        "\n",
        "* O IQR é calculado subtraindo o Terceiro Quartil (75%) pelo Primeiro Quartil (25%). Então com estes valores, podemos descobrir os limites superiores e inferiores do nosso conjunto de dados."
      ]
    },
    {
      "cell_type": "code",
      "metadata": {
        "id": "H1d-5vfHCN1k",
        "colab": {
          "base_uri": "https://localhost:8080/"
        },
        "outputId": "a382039e-8d8c-461b-f366-a3657b039a9a"
      },
      "source": [
        "# Calculando o IQR - Price\n",
        "\n",
        "q1_price = dados.price.quantile(.25)\n",
        "q3_price = dados.price.quantile(.75)\n",
        "IQR_price = q3_price - q1_price\n",
        "print('IQR da variável    \"price\": ', IQR_price)\n",
        "\n",
        "# Definindo os limites                                       \n",
        "sup_price = q3_price + 1.5 * IQR_price\n",
        "inf_price = q1_price - 1.5 * IQR_price\n",
        "\n",
        "print('Limite superior de \"price\": ', sup_price)\n",
        "print('Limite inferior de \"price\": ', inf_price)"
      ],
      "execution_count": 8,
      "outputs": [
        {
          "output_type": "stream",
          "name": "stdout",
          "text": [
            "IQR da variável    \"price\":  202.5\n",
            "Limite superior de \"price\":  625.0\n",
            "Limite inferior de \"price\":  -185.0\n"
          ]
        }
      ]
    },
    {
      "cell_type": "code",
      "metadata": {
        "id": "Gs50X1C-CN1l",
        "colab": {
          "base_uri": "https://localhost:8080/"
        },
        "outputId": "1914f5b7-8007-4326-c9da-714bf63a9893"
      },
      "source": [
        "# Calculando o IQR - minimum_nights\n",
        "\n",
        "q1_minimum_nights = dados.minimum_nights.quantile(.25)\n",
        "q3_minimum_nights = dados.minimum_nights.quantile(.75)\n",
        "IQR_minimum_nights = q3_minimum_nights - q1_minimum_nights\n",
        "print('IQR da variável de \"minimum_nights\": ', IQR_minimum_nights)\n",
        "\n",
        "# definindo os limites                                       \n",
        "sup_minimum_nights = q3_minimum_nights + 1.5 * IQR_minimum_nights\n",
        "inf_minimum_nights = q1_minimum_nights - 1.5 * IQR_minimum_nights\n",
        "\n",
        "print('Limite superior de \"minimum_nights\": ', sup_minimum_nights)\n",
        "print('Limite inferior de \"minimum_nights\": ', inf_minimum_nights)"
      ],
      "execution_count": 9,
      "outputs": [
        {
          "output_type": "stream",
          "name": "stdout",
          "text": [
            "IQR da variável de \"minimum_nights\":  2.0\n",
            "Limite superior de \"minimum_nights\":  6.0\n",
            "Limite inferior de \"minimum_nights\":  -2.0\n"
          ]
        }
      ]
    },
    {
      "cell_type": "markdown",
      "metadata": {
        "id": "mFWd66dpCN1l"
      },
      "source": [
        "---\n",
        "* **Limites inferiores a 0 quer dizer que não temos outliers negativos. Mas ainda sim, na variável price, preciso remover o valor 0. Apesar de não ser um outlier, não é condizente com a realidade.**\n",
        "---"
      ]
    },
    {
      "cell_type": "code",
      "metadata": {
        "id": "tQJVcLEBCN1l",
        "colab": {
          "base_uri": "https://localhost:8080/",
          "height": 117
        },
        "outputId": "fa419342-02b3-44b0-fca5-52152b34cacc"
      },
      "source": [
        "# Conferindo o registro price = 0\n",
        "\n",
        "dados.query('price == 0')"
      ],
      "execution_count": 10,
      "outputs": [
        {
          "output_type": "execute_result",
          "data": {
            "text/html": [
              "<div>\n",
              "<style scoped>\n",
              "    .dataframe tbody tr th:only-of-type {\n",
              "        vertical-align: middle;\n",
              "    }\n",
              "\n",
              "    .dataframe tbody tr th {\n",
              "        vertical-align: top;\n",
              "    }\n",
              "\n",
              "    .dataframe thead th {\n",
              "        text-align: right;\n",
              "    }\n",
              "</style>\n",
              "<table border=\"1\" class=\"dataframe\">\n",
              "  <thead>\n",
              "    <tr style=\"text-align: right;\">\n",
              "      <th></th>\n",
              "      <th>id</th>\n",
              "      <th>name</th>\n",
              "      <th>host_id</th>\n",
              "      <th>host_name</th>\n",
              "      <th>neighbourhood_group</th>\n",
              "      <th>neighbourhood</th>\n",
              "      <th>latitude</th>\n",
              "      <th>longitude</th>\n",
              "      <th>room_type</th>\n",
              "      <th>price</th>\n",
              "      <th>minimum_nights</th>\n",
              "      <th>number_of_reviews</th>\n",
              "      <th>last_review</th>\n",
              "      <th>reviews_per_month</th>\n",
              "      <th>calculated_host_listings_count</th>\n",
              "      <th>availability_365</th>\n",
              "      <th>number_of_reviews_ltm</th>\n",
              "      <th>license</th>\n",
              "    </tr>\n",
              "  </thead>\n",
              "  <tbody>\n",
              "    <tr>\n",
              "      <th>5141</th>\n",
              "      <td>49069442</td>\n",
              "      <td>Hotel Preston</td>\n",
              "      <td>267913366</td>\n",
              "      <td>Hotel</td>\n",
              "      <td>NaN</td>\n",
              "      <td>District 13</td>\n",
              "      <td>36.142962</td>\n",
              "      <td>-86.701838</td>\n",
              "      <td>Hotel room</td>\n",
              "      <td>0</td>\n",
              "      <td>1</td>\n",
              "      <td>289</td>\n",
              "      <td>2021-09-19</td>\n",
              "      <td>13.68</td>\n",
              "      <td>1</td>\n",
              "      <td>0</td>\n",
              "      <td>185</td>\n",
              "      <td>NaN</td>\n",
              "    </tr>\n",
              "  </tbody>\n",
              "</table>\n",
              "</div>"
            ],
            "text/plain": [
              "            id           name  ...  number_of_reviews_ltm license\n",
              "5141  49069442  Hotel Preston  ...                    185     NaN\n",
              "\n",
              "[1 rows x 18 columns]"
            ]
          },
          "metadata": {},
          "execution_count": 10
        }
      ]
    },
    {
      "cell_type": "markdown",
      "metadata": {
        "id": "JGJZnjX7CN1m"
      },
      "source": [
        "## Boxplot dos outliers - Antes da limpeza\n",
        "---"
      ]
    },
    {
      "cell_type": "code",
      "metadata": {
        "id": "C4udsBGPCN1m",
        "colab": {
          "base_uri": "https://localhost:8080/",
          "height": 295
        },
        "outputId": "f1082a98-6afd-4b08-ef83-390c0fece8cd"
      },
      "source": [
        "#Plotando um boxplot com outliers da coluna Price\n",
        "dados['price'].plot(kind= 'box', vert= False, figsize= (15,3), \n",
        "                    title= 'Boxplot - Price dataset original')\n",
        "\n",
        "# Verificando quantidade de valores acima de 625 para price. Valor do limite superior obtido no IQR.\n",
        "print(\"\\n-> Price: valores acima de 625 \")\n",
        "print(\"-> {} entradas                   \".format(len(dados[dados.price > 625])))\n",
        "print(\"-> {:.4f}%                       \".format((len(dados[dados.price > 625]) / dados.shape[0])*100))"
      ],
      "execution_count": 11,
      "outputs": [
        {
          "output_type": "stream",
          "name": "stdout",
          "text": [
            "\n",
            "-> Price: valores acima de 625 \n",
            "-> 429 entradas                   \n",
            "-> 6.8750%                       \n"
          ]
        },
        {
          "output_type": "display_data",
          "data": {
            "image/png": "[encoded data removed]",
            "text/plain": [
              "<Figure size 1080x216 with 1 Axes>"
            ]
          },
          "metadata": {
            "needs_background": "light"
          }
        }
      ]
    },
    {
      "cell_type": "code",
      "metadata": {
        "id": "bDxoKzIFCN1m",
        "colab": {
          "base_uri": "https://localhost:8080/",
          "height": 278
        },
        "outputId": "236cedc6-1eeb-4b06-e00a-5aadd11cec7e"
      },
      "source": [
        "# Plotando um boxplot com outliers da coluna minimum_nights\n",
        "dados.minimum_nights.plot(kind='box', vert=False, figsize=(15, 3),\n",
        "                          title= 'Boxplot - minimum_nights dataset original')\n",
        "\n",
        "\n",
        "# Verificando quantidade de valores acima de 6 diárias para minimum_nights. Valor do limite superior obtido no IQR.\n",
        "print(\"minimum_nights: valores acima de 6:\")\n",
        "print(\"{} entradas\".format(len(dados[dados.minimum_nights > 6])))\n",
        "print(\"{:.4f}%\".format((len(dados[dados.minimum_nights > 6]) / dados.shape[0])*100))"
      ],
      "execution_count": 12,
      "outputs": [
        {
          "output_type": "stream",
          "name": "stdout",
          "text": [
            "minimum_nights: valores acima de 6:\n",
            "808 entradas\n",
            "12.9487%\n"
          ]
        },
        {
          "output_type": "display_data",
          "data": {
            "image/png": "[encoded data removed]",
            "text/plain": [
              "<Figure size 1080x216 with 1 Axes>"
            ]
          },
          "metadata": {
            "needs_background": "light"
          }
        }
      ]
    },
    {
      "cell_type": "markdown",
      "metadata": {
        "id": "HcUzQSWICN1n"
      },
      "source": [
        "---\n",
        "* Usando os limites superiores obtidos no IQR, cortei os dados acima dos valores, nas colunas `price ` & `minimum_nights`.\n",
        "\n",
        "* Apesar de ter uma porcentagem considerável de perda dos dados, optei pela exclusão mesmo assim, priorizando a **qualidade** dos dados. A variável mais afetada foi `minimum_nights`, com 12% de perda.\n",
        "---"
      ]
    },
    {
      "cell_type": "markdown",
      "metadata": {
        "id": "ggBbPgXICN1n"
      },
      "source": [
        "## Limpando os dados\n",
        "---"
      ]
    },
    {
      "cell_type": "code",
      "metadata": {
        "id": "47i5uFhCCN1n",
        "colab": {
          "base_uri": "https://localhost:8080/",
          "height": 641
        },
        "outputId": "c54cd0b8-f24d-48c3-bc1f-12a4e66256ec"
      },
      "source": [
        "#Antes de tudo, faço uma cópia do meu dataset\n",
        "dados_filtrados = dados.copy()\n",
        "\n",
        "# Aqui começo a remover os outliers de price e minimum_nights\n",
        "dados_filtrados.drop(dados_filtrados[dados_filtrados['price'] > 625].index,        axis=0, inplace= True)\n",
        "dados_filtrados.drop(dados_filtrados[dados_filtrados['price'] == 0].index,         axis=0, inplace= True)\n",
        "\n",
        "dados_filtrados.drop(dados_filtrados[dados_filtrados['minimum_nights'] > 6].index, axis=0, inplace= True)\n",
        "\n",
        "#Aqui excluo as duas colunas com os valores 100% ausentes\n",
        "dados_filtrados.drop(['neighbourhood_group', 'license'], axis= 1, inplace= True)\n",
        "\n",
        "print('Shape antes da limpeza: ', dados.shape)\n",
        "print('Shape após a limpeza:   ',dados_filtrados.shape)\n",
        "\n",
        "dados_filtrados.hist(bins= 15, figsize=(15,10));"
      ],
      "execution_count": 13,
      "outputs": [
        {
          "output_type": "stream",
          "name": "stdout",
          "text": [
            "Shape antes da limpeza:  (6240, 18)\n",
            "Shape após a limpeza:    (5018, 16)\n"
          ]
        },
        {
          "output_type": "display_data",
          "data": {
            "image/png": "[encoded data removed]",
            "text/plain": [
              "<Figure size 1080x720 with 12 Axes>"
            ]
          },
          "metadata": {
            "needs_background": "light"
          }
        }
      ]
    },
    {
      "cell_type": "code",
      "metadata": {
        "id": "WfXBtZ57CN1n",
        "colab": {
          "base_uri": "https://localhost:8080/",
          "height": 227
        },
        "outputId": "a2a9f7bb-2ad2-4435-e2e9-5c18e99adc3d"
      },
      "source": [
        "#Boxplot - price limpo\n",
        "dados_filtrados['price'].plot(kind= 'box', vert= False, figsize= (15,3), \n",
        "                    title= 'Boxplot - \"Price\" pós limpeza');\n"
      ],
      "execution_count": 14,
      "outputs": [
        {
          "output_type": "display_data",
          "data": {
            "image/png": "[encoded data removed]",
            "text/plain": [
              "<Figure size 1080x216 with 1 Axes>"
            ]
          },
          "metadata": {
            "needs_background": "light"
          }
        }
      ]
    },
    {
      "cell_type": "code",
      "metadata": {
        "id": "1f4nVA4RCN1o",
        "colab": {
          "base_uri": "https://localhost:8080/",
          "height": 227
        },
        "outputId": "4aad8f76-742e-4938-9f4b-734c27a980dc"
      },
      "source": [
        "# Boxplot - minimum_nights limpo\n",
        "\n",
        "dados_filtrados.minimum_nights.plot(kind='box', vert=False, figsize=(15, 3),\n",
        "                          title= 'Boxplot - \"minimum_nights\" pós limpeza');"
      ],
      "execution_count": 15,
      "outputs": [
        {
          "output_type": "display_data",
          "data": {
            "image/png": "[encoded data removed]",
            "text/plain": [
              "<Figure size 1080x216 with 1 Axes>"
            ]
          },
          "metadata": {
            "needs_background": "light"
          }
        }
      ]
    },
    {
      "cell_type": "markdown",
      "metadata": {
        "id": "7x4aw1j5wNmn"
      },
      "source": [
        "# **4. Qual a média dos preços de aluguel?**\n",
        "---"
      ]
    },
    {
      "cell_type": "code",
      "metadata": {
        "id": "ff-8gUahLk-C",
        "colab": {
          "base_uri": "https://localhost:8080/"
        },
        "outputId": "f6152e9b-f841-47cd-99b2-3e94b305d71f"
      },
      "source": [
        "# ver a média da coluna `price``\n",
        "dados['price'].mean()"
      ],
      "execution_count": 16,
      "outputs": [
        {
          "output_type": "execute_result",
          "data": {
            "text/plain": [
              "274.47083333333336"
            ]
          },
          "metadata": {},
          "execution_count": 16
        }
      ]
    },
    {
      "cell_type": "code",
      "metadata": {
        "id": "IFUpJfZLCN1o",
        "colab": {
          "base_uri": "https://localhost:8080/"
        },
        "outputId": "c55e6820-93b7-49a6-f129-bc8a8ed4252b"
      },
      "source": [
        "#Aqui eu verifico quantos anúncios existem por bairro\n",
        "dados['neighbourhood'].value_counts()"
      ],
      "execution_count": 17,
      "outputs": [
        {
          "output_type": "execute_result",
          "data": {
            "text/plain": [
              "District 19    1422\n",
              "District 17     812\n",
              "District 5      621\n",
              "District 21     584\n",
              "District 6      504\n",
              "District 15     315\n",
              "District 7      230\n",
              "District 18     211\n",
              "District 2      182\n",
              "District 20     150\n",
              "District 24     128\n",
              "District 8      126\n",
              "District 16     107\n",
              "District 26      84\n",
              "District 14      76\n",
              "District 13      72\n",
              "District 12      60\n",
              "District 25      54\n",
              "District 1       46\n",
              "District 29      43\n",
              "District 3       42\n",
              "District 30      40\n",
              "District 23      38\n",
              "District 10      36\n",
              "District 4       31\n",
              "District 27      30\n",
              "District 35      28\n",
              "District 22      27\n",
              "District 11      25\n",
              "District 32      23\n",
              "District 33      22\n",
              "District 31      22\n",
              "District 28      21\n",
              "District 9       16\n",
              "District 34      12\n",
              "Name: neighbourhood, dtype: int64"
            ]
          },
          "metadata": {},
          "execution_count": 17
        }
      ]
    },
    {
      "cell_type": "markdown",
      "metadata": {
        "id": "IXn2oIo5qx-w"
      },
      "source": [
        "# **5. Qual a correlação existente entre as variáveis?**\n",
        "---"
      ]
    },
    {
      "cell_type": "code",
      "metadata": {
        "id": "x2ayzBajqxyd",
        "colab": {
          "base_uri": "https://localhost:8080/",
          "height": 235
        },
        "outputId": "08aa01eb-be3c-4220-9f47-4b1361d04274"
      },
      "source": [
        "#Correlações e heatmap\n",
        "\n",
        "corr = dados_filtrados[['price', 'minimum_nights', 'number_of_reviews', 'reviews_per_month',\n",
        "    'calculated_host_listings_count', 'availability_365']].corr().style.background_gradient(cmap='coolwarm')\n",
        "corr"
      ],
      "execution_count": 18,
      "outputs": [
        {
          "output_type": "execute_result",
          "data": {
            "text/html": [
              "<style  type=\"text/css\" >\n",
              "#T_7de06a0a_4734_11ec_b9e3_0242ac1c0002row0_col0,#T_7de06a0a_4734_11ec_b9e3_0242ac1c0002row1_col1,#T_7de06a0a_4734_11ec_b9e3_0242ac1c0002row2_col2,#T_7de06a0a_4734_11ec_b9e3_0242ac1c0002row3_col3,#T_7de06a0a_4734_11ec_b9e3_0242ac1c0002row4_col4,#T_7de06a0a_4734_11ec_b9e3_0242ac1c0002row5_col5{\n",
              "            background-color:  #b40426;\n",
              "            color:  #f1f1f1;\n",
              "        }#T_7de06a0a_4734_11ec_b9e3_0242ac1c0002row0_col1{\n",
              "            background-color:  #a2c1ff;\n",
              "            color:  #000000;\n",
              "        }#T_7de06a0a_4734_11ec_b9e3_0242ac1c0002row0_col2,#T_7de06a0a_4734_11ec_b9e3_0242ac1c0002row1_col3,#T_7de06a0a_4734_11ec_b9e3_0242ac1c0002row2_col0,#T_7de06a0a_4734_11ec_b9e3_0242ac1c0002row2_col1,#T_7de06a0a_4734_11ec_b9e3_0242ac1c0002row2_col4,#T_7de06a0a_4734_11ec_b9e3_0242ac1c0002row2_col5{\n",
              "            background-color:  #3b4cc0;\n",
              "            color:  #f1f1f1;\n",
              "        }#T_7de06a0a_4734_11ec_b9e3_0242ac1c0002row0_col3,#T_7de06a0a_4734_11ec_b9e3_0242ac1c0002row3_col1{\n",
              "            background-color:  #455cce;\n",
              "            color:  #f1f1f1;\n",
              "        }#T_7de06a0a_4734_11ec_b9e3_0242ac1c0002row0_col4{\n",
              "            background-color:  #7a9df8;\n",
              "            color:  #000000;\n",
              "        }#T_7de06a0a_4734_11ec_b9e3_0242ac1c0002row0_col5{\n",
              "            background-color:  #9bbcff;\n",
              "            color:  #000000;\n",
              "        }#T_7de06a0a_4734_11ec_b9e3_0242ac1c0002row1_col0,#T_7de06a0a_4734_11ec_b9e3_0242ac1c0002row3_col2{\n",
              "            background-color:  #afcafc;\n",
              "            color:  #000000;\n",
              "        }#T_7de06a0a_4734_11ec_b9e3_0242ac1c0002row1_col2{\n",
              "            background-color:  #4b64d5;\n",
              "            color:  #f1f1f1;\n",
              "        }#T_7de06a0a_4734_11ec_b9e3_0242ac1c0002row1_col4{\n",
              "            background-color:  #6e90f2;\n",
              "            color:  #000000;\n",
              "        }#T_7de06a0a_4734_11ec_b9e3_0242ac1c0002row1_col5{\n",
              "            background-color:  #4257c9;\n",
              "            color:  #f1f1f1;\n",
              "        }#T_7de06a0a_4734_11ec_b9e3_0242ac1c0002row2_col3{\n",
              "            background-color:  #98b9ff;\n",
              "            color:  #000000;\n",
              "        }#T_7de06a0a_4734_11ec_b9e3_0242ac1c0002row3_col0{\n",
              "            background-color:  #6282ea;\n",
              "            color:  #000000;\n",
              "        }#T_7de06a0a_4734_11ec_b9e3_0242ac1c0002row3_col4{\n",
              "            background-color:  #5b7ae5;\n",
              "            color:  #000000;\n",
              "        }#T_7de06a0a_4734_11ec_b9e3_0242ac1c0002row3_col5{\n",
              "            background-color:  #4358cb;\n",
              "            color:  #f1f1f1;\n",
              "        }#T_7de06a0a_4734_11ec_b9e3_0242ac1c0002row4_col0{\n",
              "            background-color:  #89acfd;\n",
              "            color:  #000000;\n",
              "        }#T_7de06a0a_4734_11ec_b9e3_0242ac1c0002row4_col1{\n",
              "            background-color:  #6c8ff1;\n",
              "            color:  #000000;\n",
              "        }#T_7de06a0a_4734_11ec_b9e3_0242ac1c0002row4_col2{\n",
              "            background-color:  #4961d2;\n",
              "            color:  #f1f1f1;\n",
              "        }#T_7de06a0a_4734_11ec_b9e3_0242ac1c0002row4_col3{\n",
              "            background-color:  #4e68d8;\n",
              "            color:  #000000;\n",
              "        }#T_7de06a0a_4734_11ec_b9e3_0242ac1c0002row4_col5{\n",
              "            background-color:  #aec9fc;\n",
              "            color:  #000000;\n",
              "        }#T_7de06a0a_4734_11ec_b9e3_0242ac1c0002row5_col0{\n",
              "            background-color:  #bfd3f6;\n",
              "            color:  #000000;\n",
              "        }#T_7de06a0a_4734_11ec_b9e3_0242ac1c0002row5_col1{\n",
              "            background-color:  #6180e9;\n",
              "            color:  #000000;\n",
              "        }#T_7de06a0a_4734_11ec_b9e3_0242ac1c0002row5_col2{\n",
              "            background-color:  #6a8bef;\n",
              "            color:  #000000;\n",
              "        }#T_7de06a0a_4734_11ec_b9e3_0242ac1c0002row5_col3{\n",
              "            background-color:  #5673e0;\n",
              "            color:  #000000;\n",
              "        }#T_7de06a0a_4734_11ec_b9e3_0242ac1c0002row5_col4{\n",
              "            background-color:  #c5d6f2;\n",
              "            color:  #000000;\n",
              "        }</style><table id=\"T_7de06a0a_4734_11ec_b9e3_0242ac1c0002\" class=\"dataframe\"><thead>    <tr>        <th class=\"blank level0\" ></th>        <th class=\"col_heading level0 col0\" >price</th>        <th class=\"col_heading level0 col1\" >minimum_nights</th>        <th class=\"col_heading level0 col2\" >number_of_reviews</th>        <th class=\"col_heading level0 col3\" >reviews_per_month</th>        <th class=\"col_heading level0 col4\" >calculated_host_listings_count</th>        <th class=\"col_heading level0 col5\" >availability_365</th>    </tr></thead><tbody>\n",
              "                <tr>\n",
              "                        <th id=\"T_7de06a0a_4734_11ec_b9e3_0242ac1c0002level0_row0\" class=\"row_heading level0 row0\" >price</th>\n",
              "                        <td id=\"T_7de06a0a_4734_11ec_b9e3_0242ac1c0002row0_col0\" class=\"data row0 col0\" >1.000000</td>\n",
              "                        <td id=\"T_7de06a0a_4734_11ec_b9e3_0242ac1c0002row0_col1\" class=\"data row0 col1\" >0.201124</td>\n",
              "                        <td id=\"T_7de06a0a_4734_11ec_b9e3_0242ac1c0002row0_col2\" class=\"data row0 col2\" >-0.226289</td>\n",
              "                        <td id=\"T_7de06a0a_4734_11ec_b9e3_0242ac1c0002row0_col3\" class=\"data row0 col3\" >-0.071290</td>\n",
              "                        <td id=\"T_7de06a0a_4734_11ec_b9e3_0242ac1c0002row0_col4\" class=\"data row0 col4\" >0.066388</td>\n",
              "                        <td id=\"T_7de06a0a_4734_11ec_b9e3_0242ac1c0002row0_col5\" class=\"data row0 col5\" >0.259752</td>\n",
              "            </tr>\n",
              "            <tr>\n",
              "                        <th id=\"T_7de06a0a_4734_11ec_b9e3_0242ac1c0002level0_row1\" class=\"row_heading level0 row1\" >minimum_nights</th>\n",
              "                        <td id=\"T_7de06a0a_4734_11ec_b9e3_0242ac1c0002row1_col0\" class=\"data row1 col0\" >0.201124</td>\n",
              "                        <td id=\"T_7de06a0a_4734_11ec_b9e3_0242ac1c0002row1_col1\" class=\"data row1 col1\" >1.000000</td>\n",
              "                        <td id=\"T_7de06a0a_4734_11ec_b9e3_0242ac1c0002row1_col2\" class=\"data row1 col2\" >-0.157232</td>\n",
              "                        <td id=\"T_7de06a0a_4734_11ec_b9e3_0242ac1c0002row1_col3\" class=\"data row1 col3\" >-0.112647</td>\n",
              "                        <td id=\"T_7de06a0a_4734_11ec_b9e3_0242ac1c0002row1_col4\" class=\"data row1 col4\" >0.024175</td>\n",
              "                        <td id=\"T_7de06a0a_4734_11ec_b9e3_0242ac1c0002row1_col5\" class=\"data row1 col5\" >-0.015021</td>\n",
              "            </tr>\n",
              "            <tr>\n",
              "                        <th id=\"T_7de06a0a_4734_11ec_b9e3_0242ac1c0002level0_row2\" class=\"row_heading level0 row2\" >number_of_reviews</th>\n",
              "                        <td id=\"T_7de06a0a_4734_11ec_b9e3_0242ac1c0002row2_col0\" class=\"data row2 col0\" >-0.226289</td>\n",
              "                        <td id=\"T_7de06a0a_4734_11ec_b9e3_0242ac1c0002row2_col1\" class=\"data row2 col1\" >-0.157232</td>\n",
              "                        <td id=\"T_7de06a0a_4734_11ec_b9e3_0242ac1c0002row2_col2\" class=\"data row2 col2\" >1.000000</td>\n",
              "                        <td id=\"T_7de06a0a_4734_11ec_b9e3_0242ac1c0002row2_col3\" class=\"data row2 col3\" >0.204383</td>\n",
              "                        <td id=\"T_7de06a0a_4734_11ec_b9e3_0242ac1c0002row2_col4\" class=\"data row2 col4\" >-0.164742</td>\n",
              "                        <td id=\"T_7de06a0a_4734_11ec_b9e3_0242ac1c0002row2_col5\" class=\"data row2 col5\" >-0.042218</td>\n",
              "            </tr>\n",
              "            <tr>\n",
              "                        <th id=\"T_7de06a0a_4734_11ec_b9e3_0242ac1c0002level0_row3\" class=\"row_heading level0 row3\" >reviews_per_month</th>\n",
              "                        <td id=\"T_7de06a0a_4734_11ec_b9e3_0242ac1c0002row3_col0\" class=\"data row3 col0\" >-0.071290</td>\n",
              "                        <td id=\"T_7de06a0a_4734_11ec_b9e3_0242ac1c0002row3_col1\" class=\"data row3 col1\" >-0.112647</td>\n",
              "                        <td id=\"T_7de06a0a_4734_11ec_b9e3_0242ac1c0002row3_col2\" class=\"data row3 col2\" >0.204383</td>\n",
              "                        <td id=\"T_7de06a0a_4734_11ec_b9e3_0242ac1c0002row3_col3\" class=\"data row3 col3\" >1.000000</td>\n",
              "                        <td id=\"T_7de06a0a_4734_11ec_b9e3_0242ac1c0002row3_col4\" class=\"data row3 col4\" >-0.040802</td>\n",
              "                        <td id=\"T_7de06a0a_4734_11ec_b9e3_0242ac1c0002row3_col5\" class=\"data row3 col5\" >-0.012391</td>\n",
              "            </tr>\n",
              "            <tr>\n",
              "                        <th id=\"T_7de06a0a_4734_11ec_b9e3_0242ac1c0002level0_row4\" class=\"row_heading level0 row4\" >calculated_host_listings_count</th>\n",
              "                        <td id=\"T_7de06a0a_4734_11ec_b9e3_0242ac1c0002row4_col0\" class=\"data row4 col0\" >0.066388</td>\n",
              "                        <td id=\"T_7de06a0a_4734_11ec_b9e3_0242ac1c0002row4_col1\" class=\"data row4 col1\" >0.024175</td>\n",
              "                        <td id=\"T_7de06a0a_4734_11ec_b9e3_0242ac1c0002row4_col2\" class=\"data row4 col2\" >-0.164742</td>\n",
              "                        <td id=\"T_7de06a0a_4734_11ec_b9e3_0242ac1c0002row4_col3\" class=\"data row4 col3\" >-0.040802</td>\n",
              "                        <td id=\"T_7de06a0a_4734_11ec_b9e3_0242ac1c0002row4_col4\" class=\"data row4 col4\" >1.000000</td>\n",
              "                        <td id=\"T_7de06a0a_4734_11ec_b9e3_0242ac1c0002row4_col5\" class=\"data row4 col5\" >0.318234</td>\n",
              "            </tr>\n",
              "            <tr>\n",
              "                        <th id=\"T_7de06a0a_4734_11ec_b9e3_0242ac1c0002level0_row5\" class=\"row_heading level0 row5\" >availability_365</th>\n",
              "                        <td id=\"T_7de06a0a_4734_11ec_b9e3_0242ac1c0002row5_col0\" class=\"data row5 col0\" >0.259752</td>\n",
              "                        <td id=\"T_7de06a0a_4734_11ec_b9e3_0242ac1c0002row5_col1\" class=\"data row5 col1\" >-0.015021</td>\n",
              "                        <td id=\"T_7de06a0a_4734_11ec_b9e3_0242ac1c0002row5_col2\" class=\"data row5 col2\" >-0.042218</td>\n",
              "                        <td id=\"T_7de06a0a_4734_11ec_b9e3_0242ac1c0002row5_col3\" class=\"data row5 col3\" >-0.012391</td>\n",
              "                        <td id=\"T_7de06a0a_4734_11ec_b9e3_0242ac1c0002row5_col4\" class=\"data row5 col4\" >0.318234</td>\n",
              "                        <td id=\"T_7de06a0a_4734_11ec_b9e3_0242ac1c0002row5_col5\" class=\"data row5 col5\" >1.000000</td>\n",
              "            </tr>\n",
              "    </tbody></table>"
            ],
            "text/plain": [
              "<pandas.io.formats.style.Styler at 0x7fe3bfdbee10>"
            ]
          },
          "metadata": {},
          "execution_count": 18
        }
      ]
    },
    {
      "cell_type": "markdown",
      "metadata": {
        "id": "7b6RMWpuHKN-"
      },
      "source": [
        "# **6. Qual o tipo de imóvel mais alugado no Airbnb?**\n",
        "---"
      ]
    },
    {
      "cell_type": "code",
      "metadata": {
        "id": "ueLPNWvPHgfB",
        "colab": {
          "base_uri": "https://localhost:8080/"
        },
        "outputId": "6554f590-134c-4d20-beac-524bdae0dc40"
      },
      "source": [
        "# mostrar a quantidade de cada tipo de imóvel disponível\n",
        "dados_filtrados['room_type'].value_counts()"
      ],
      "execution_count": 19,
      "outputs": [
        {
          "output_type": "execute_result",
          "data": {
            "text/plain": [
              "Entire home/apt    4443\n",
              "Private room        511\n",
              "Hotel room           53\n",
              "Shared room          11\n",
              "Name: room_type, dtype: int64"
            ]
          },
          "metadata": {},
          "execution_count": 19
        }
      ]
    },
    {
      "cell_type": "code",
      "metadata": {
        "id": "EvwoO-XAHhIm",
        "colab": {
          "base_uri": "https://localhost:8080/"
        },
        "outputId": "4f5e6e82-c34a-47aa-e317-79649529b1e8"
      },
      "source": [
        "# mostrar a porcentagem de cada tipo de imóvel disponível\n",
        "(dados_filtrados['room_type'].value_counts() / dados_filtrados.shape[0]) * 100"
      ],
      "execution_count": 20,
      "outputs": [
        {
          "output_type": "execute_result",
          "data": {
            "text/plain": [
              "Entire home/apt    88.541251\n",
              "Private room       10.183340\n",
              "Hotel room          1.056198\n",
              "Shared room         0.219211\n",
              "Name: room_type, dtype: float64"
            ]
          },
          "metadata": {},
          "execution_count": 20
        }
      ]
    },
    {
      "cell_type": "markdown",
      "metadata": {
        "id": "MFa5NbnLJMcd"
      },
      "source": [
        "# **7. Qual a localidade mais cara do dataset?**\n",
        "---"
      ]
    },
    {
      "cell_type": "code",
      "metadata": {
        "id": "MD_xa143JZpi",
        "colab": {
          "base_uri": "https://localhost:8080/"
        },
        "outputId": "7471cb2f-bca1-4a04-d404-737576d3280e"
      },
      "source": [
        "#Aqui eu exibo uma média de preços por bairros\n",
        "\n",
        "dados_filtrados.groupby('neighbourhood').mean()['price'].sort_values(ascending= False).round(2)"
      ],
      "execution_count": 21,
      "outputs": [
        {
          "output_type": "execute_result",
          "data": {
            "text/plain": [
              "neighbourhood\n",
              "District 2     268.42\n",
              "District 5     261.30\n",
              "District 21    260.89\n",
              "District 17    258.09\n",
              "District 19    249.05\n",
              "District 18    240.99\n",
              "District 20    225.41\n",
              "District 6     212.92\n",
              "District 24    207.75\n",
              "District 3     203.56\n",
              "District 25    198.64\n",
              "District 1     183.84\n",
              "District 15    182.01\n",
              "District 13    181.22\n",
              "District 10    181.00\n",
              "District 7     179.07\n",
              "District 29    174.81\n",
              "District 8     173.58\n",
              "District 23    171.00\n",
              "District 14    167.28\n",
              "District 22    166.54\n",
              "District 16    151.19\n",
              "District 12    149.30\n",
              "District 26    147.65\n",
              "District 33    146.83\n",
              "District 11    142.46\n",
              "District 30    129.58\n",
              "District 35    126.80\n",
              "District 4     126.19\n",
              "District 9     126.14\n",
              "District 27    124.88\n",
              "District 32    120.57\n",
              "District 34    117.00\n",
              "District 28    112.41\n",
              "District 31     81.30\n",
              "Name: price, dtype: float64"
            ]
          },
          "metadata": {},
          "execution_count": 21
        }
      ]
    },
    {
      "cell_type": "code",
      "metadata": {
        "id": "WAxL5ie_CN1q",
        "colab": {
          "base_uri": "https://localhost:8080/"
        },
        "outputId": "6e3080da-173a-496f-e5c6-46a609618d7a"
      },
      "source": [
        "# Exibindo os 5 primeiros bairros com mais anúncios\n",
        "dados_filtrados['neighbourhood'].value_counts().head()"
      ],
      "execution_count": 22,
      "outputs": [
        {
          "output_type": "execute_result",
          "data": {
            "text/plain": [
              "District 19    1214\n",
              "District 17     649\n",
              "District 5      529\n",
              "District 21     461\n",
              "District 6      424\n",
              "Name: neighbourhood, dtype: int64"
            ]
          },
          "metadata": {},
          "execution_count": 22
        }
      ]
    },
    {
      "cell_type": "markdown",
      "metadata": {
        "id": "C6N42_P7CN1q"
      },
      "source": [
        "# **Tratando dados nulos**\n",
        "---"
      ]
    },
    {
      "cell_type": "code",
      "metadata": {
        "id": "jD3zyaATCN1q",
        "colab": {
          "base_uri": "https://localhost:8080/"
        },
        "outputId": "c3ef698b-e139-47f8-bf66-a6e55f8c09e3"
      },
      "source": [
        "dados_filtrados.isnull().sum()"
      ],
      "execution_count": 23,
      "outputs": [
        {
          "output_type": "execute_result",
          "data": {
            "text/plain": [
              "id                                  0\n",
              "name                                0\n",
              "host_id                             0\n",
              "host_name                          56\n",
              "neighbourhood                       0\n",
              "latitude                            0\n",
              "longitude                           0\n",
              "room_type                           0\n",
              "price                               0\n",
              "minimum_nights                      0\n",
              "number_of_reviews                   0\n",
              "last_review                       361\n",
              "reviews_per_month                 361\n",
              "calculated_host_listings_count      0\n",
              "availability_365                    0\n",
              "number_of_reviews_ltm               0\n",
              "dtype: int64"
            ]
          },
          "metadata": {},
          "execution_count": 23
        }
      ]
    },
    {
      "cell_type": "markdown",
      "metadata": {
        "id": "VVLPKFPWCN1r"
      },
      "source": [
        "## \"reviews_per_month\""
      ]
    },
    {
      "cell_type": "markdown",
      "metadata": {
        "id": "VUARlMthCN1r"
      },
      "source": [
        "* A coluna `reviews_per_month` são a quantidade de reviews que os imóveis recebem por mês. As entradas nulas eram de imóveis que não tinha recebido nenhum review. Optei por setar o valor 0 para estas entradas."
      ]
    },
    {
      "cell_type": "code",
      "metadata": {
        "id": "LZQ1vEuGCN1r",
        "colab": {
          "base_uri": "https://localhost:8080/"
        },
        "outputId": "f25f8e8c-0558-459f-f1dd-374e22cec2aa"
      },
      "source": [
        "#Antes do tratamento\n",
        "dados_filtrados['reviews_per_month'].isnull().sum()"
      ],
      "execution_count": 24,
      "outputs": [
        {
          "output_type": "execute_result",
          "data": {
            "text/plain": [
              "361"
            ]
          },
          "metadata": {},
          "execution_count": 24
        }
      ]
    },
    {
      "cell_type": "code",
      "metadata": {
        "id": "8UGk6YSYCN1r"
      },
      "source": [
        "dados_filtrados['reviews_per_month'].fillna(value= 0, inplace= True)"
      ],
      "execution_count": 25,
      "outputs": []
    },
    {
      "cell_type": "code",
      "metadata": {
        "id": "072OTxYHCN1r",
        "colab": {
          "base_uri": "https://localhost:8080/"
        },
        "outputId": "5b1ee117-9f69-44d7-e7ff-d1891c828d93"
      },
      "source": [
        "# Depois do tratamento\n",
        "dados_filtrados['reviews_per_month'].isnull().sum()"
      ],
      "execution_count": 26,
      "outputs": [
        {
          "output_type": "execute_result",
          "data": {
            "text/plain": [
              "0"
            ]
          },
          "metadata": {},
          "execution_count": 26
        }
      ]
    },
    {
      "cell_type": "markdown",
      "metadata": {
        "id": "O9qmvMsNCN1s"
      },
      "source": [
        "## \"last_review\""
      ]
    },
    {
      "cell_type": "code",
      "metadata": {
        "id": "VGZO2ty7CN1s",
        "colab": {
          "base_uri": "https://localhost:8080/"
        },
        "outputId": "5e2414c1-c350-44ee-e9d3-f98e9ab9f6e3"
      },
      "source": [
        "#Antes da limpeza\n",
        "dados_filtrados['last_review'].isnull().sum()"
      ],
      "execution_count": 27,
      "outputs": [
        {
          "output_type": "execute_result",
          "data": {
            "text/plain": [
              "361"
            ]
          },
          "metadata": {},
          "execution_count": 27
        }
      ]
    },
    {
      "cell_type": "code",
      "metadata": {
        "id": "uUkOWQk_CN1s"
      },
      "source": [
        "# Convertendo a coluna last_review para tipo datetime.\n",
        "dados_filtrados['last_review'] = pd.to_datetime(dados_filtrados['last_review'], format=\"%Y-%m-%d\")"
      ],
      "execution_count": 28,
      "outputs": []
    },
    {
      "cell_type": "code",
      "metadata": {
        "id": "wd9r3o96CN1s",
        "colab": {
          "base_uri": "https://localhost:8080/"
        },
        "outputId": "bff5e738-77ef-43f7-9231-367ba3694993"
      },
      "source": [
        "dados_filtrados['last_review'].mean()"
      ],
      "execution_count": 29,
      "outputs": [
        {
          "output_type": "execute_result",
          "data": {
            "text/plain": [
              "Timestamp('2021-06-11 22:14:14.970997504')"
            ]
          },
          "metadata": {},
          "execution_count": 29
        }
      ]
    },
    {
      "cell_type": "markdown",
      "metadata": {
        "id": "HuuTIwjbCN1s"
      },
      "source": [
        "---\n",
        "* Para substituição dos dados nulos, optei por usar a média das datas da coluna\n",
        "\n",
        "* Ao usar o fillna() de maneira direta(só passando a data média obtida acima) na coluna `last_review`, os valores preenchidos foram com dados de horário. Então para manter somente os valores da data, usei o `.dt.date` e em seguida o  `.fillna(value= '2021-6-11')`. Dessa forma fiz com que somente a data fosse substituída\n",
        "---"
      ]
    },
    {
      "cell_type": "code",
      "metadata": {
        "id": "q02uA-l2CN1s"
      },
      "source": [
        "dados_filtrados['last_review'] = dados_filtrados['last_review'].dt.date.fillna(value= '2021-6-11')"
      ],
      "execution_count": 30,
      "outputs": []
    },
    {
      "cell_type": "code",
      "metadata": {
        "id": "yP7UOpLYCN1t",
        "colab": {
          "base_uri": "https://localhost:8080/"
        },
        "outputId": "b4db09e8-8395-48ac-b900-c4e5e4a0417b"
      },
      "source": [
        "#Depois da limpeza\n",
        "dados_filtrados['last_review'].isnull().sum()"
      ],
      "execution_count": 31,
      "outputs": [
        {
          "output_type": "execute_result",
          "data": {
            "text/plain": [
              "0"
            ]
          },
          "metadata": {},
          "execution_count": 31
        }
      ]
    },
    {
      "cell_type": "markdown",
      "metadata": {
        "id": "gKdvgl-RCN1t"
      },
      "source": [
        "## \"host_name\""
      ]
    },
    {
      "cell_type": "markdown",
      "metadata": {
        "id": "ziy6RK2PCN1t"
      },
      "source": [
        "* Neste cenário, como não me é relevante a informação do nome do anfitrião, optei por remover toda coluna.\n",
        "* A remoção de linhas não seria interessante, visto que as outras colunas estão com informações relevantes e resultaria somente em perda de dados."
      ]
    },
    {
      "cell_type": "code",
      "metadata": {
        "id": "6o0SrPEXCN1t",
        "colab": {
          "base_uri": "https://localhost:8080/",
          "height": 1000
        },
        "outputId": "413ecef7-ec37-4596-c857-4c448b4c0610"
      },
      "source": [
        "nulos = dados_filtrados['host_name'].isnull()\n",
        "dados_filtrados[nulos]"
      ],
      "execution_count": 32,
      "outputs": [
        {
          "output_type": "execute_result",
          "data": {
            "text/html": [
              "<div>\n",
              "<style scoped>\n",
              "    .dataframe tbody tr th:only-of-type {\n",
              "        vertical-align: middle;\n",
              "    }\n",
              "\n",
              "    .dataframe tbody tr th {\n",
              "        vertical-align: top;\n",
              "    }\n",
              "\n",
              "    .dataframe thead th {\n",
              "        text-align: right;\n",
              "    }\n",
              "</style>\n",
              "<table border=\"1\" class=\"dataframe\">\n",
              "  <thead>\n",
              "    <tr style=\"text-align: right;\">\n",
              "      <th></th>\n",
              "      <th>id</th>\n",
              "      <th>name</th>\n",
              "      <th>host_id</th>\n",
              "      <th>host_name</th>\n",
              "      <th>neighbourhood</th>\n",
              "      <th>latitude</th>\n",
              "      <th>longitude</th>\n",
              "      <th>room_type</th>\n",
              "      <th>price</th>\n",
              "      <th>minimum_nights</th>\n",
              "      <th>number_of_reviews</th>\n",
              "      <th>last_review</th>\n",
              "      <th>reviews_per_month</th>\n",
              "      <th>calculated_host_listings_count</th>\n",
              "      <th>availability_365</th>\n",
              "      <th>number_of_reviews_ltm</th>\n",
              "    </tr>\n",
              "  </thead>\n",
              "  <tbody>\n",
              "    <tr>\n",
              "      <th>2913</th>\n",
              "      <td>35679923</td>\n",
              "      <td>Sunny Club Wyndham Nashville, 1 Bedroom Suite</td>\n",
              "      <td>194953121</td>\n",
              "      <td>NaN</td>\n",
              "      <td>District 7</td>\n",
              "      <td>36.21944</td>\n",
              "      <td>-86.70746</td>\n",
              "      <td>Entire home/apt</td>\n",
              "      <td>136</td>\n",
              "      <td>2</td>\n",
              "      <td>2</td>\n",
              "      <td>2020-01-01</td>\n",
              "      <td>0.09</td>\n",
              "      <td>56</td>\n",
              "      <td>329</td>\n",
              "      <td>0</td>\n",
              "    </tr>\n",
              "    <tr>\n",
              "      <th>2957</th>\n",
              "      <td>36132444</td>\n",
              "      <td>Commodious Club Wyndham Nashville, 2 Bedroom C...</td>\n",
              "      <td>194953121</td>\n",
              "      <td>NaN</td>\n",
              "      <td>District 15</td>\n",
              "      <td>36.22111</td>\n",
              "      <td>-86.70536</td>\n",
              "      <td>Entire home/apt</td>\n",
              "      <td>170</td>\n",
              "      <td>2</td>\n",
              "      <td>3</td>\n",
              "      <td>2021-04-25</td>\n",
              "      <td>0.15</td>\n",
              "      <td>56</td>\n",
              "      <td>0</td>\n",
              "      <td>2</td>\n",
              "    </tr>\n",
              "    <tr>\n",
              "      <th>3087</th>\n",
              "      <td>37599205</td>\n",
              "      <td>Sunny Club Wyndham Nashville, 2 Bedroom Condo</td>\n",
              "      <td>194953121</td>\n",
              "      <td>NaN</td>\n",
              "      <td>District 15</td>\n",
              "      <td>36.21921</td>\n",
              "      <td>-86.70460</td>\n",
              "      <td>Entire home/apt</td>\n",
              "      <td>170</td>\n",
              "      <td>2</td>\n",
              "      <td>2</td>\n",
              "      <td>2021-06-01</td>\n",
              "      <td>0.08</td>\n",
              "      <td>56</td>\n",
              "      <td>0</td>\n",
              "      <td>1</td>\n",
              "    </tr>\n",
              "    <tr>\n",
              "      <th>3217</th>\n",
              "      <td>38716138</td>\n",
              "      <td>Exquisite Club Wyndham Nashville, 1 Bedroom Suite</td>\n",
              "      <td>194953121</td>\n",
              "      <td>NaN</td>\n",
              "      <td>District 7</td>\n",
              "      <td>36.22098</td>\n",
              "      <td>-86.70790</td>\n",
              "      <td>Entire home/apt</td>\n",
              "      <td>136</td>\n",
              "      <td>2</td>\n",
              "      <td>10</td>\n",
              "      <td>2021-09-19</td>\n",
              "      <td>7.32</td>\n",
              "      <td>56</td>\n",
              "      <td>324</td>\n",
              "      <td>8</td>\n",
              "    </tr>\n",
              "    <tr>\n",
              "      <th>3282</th>\n",
              "      <td>39280367</td>\n",
              "      <td>Club Wyndham Nashville, Tennessee, 1 Bedroom S...</td>\n",
              "      <td>194953121</td>\n",
              "      <td>NaN</td>\n",
              "      <td>District 7</td>\n",
              "      <td>36.22087</td>\n",
              "      <td>-86.70782</td>\n",
              "      <td>Entire home/apt</td>\n",
              "      <td>136</td>\n",
              "      <td>2</td>\n",
              "      <td>1</td>\n",
              "      <td>2020-01-01</td>\n",
              "      <td>0.05</td>\n",
              "      <td>56</td>\n",
              "      <td>324</td>\n",
              "      <td>0</td>\n",
              "    </tr>\n",
              "    <tr>\n",
              "      <th>3283</th>\n",
              "      <td>39280370</td>\n",
              "      <td>Extravagant Club Wyndham Nashville, 1 Bedroom</td>\n",
              "      <td>194953121</td>\n",
              "      <td>NaN</td>\n",
              "      <td>District 7</td>\n",
              "      <td>36.21996</td>\n",
              "      <td>-86.70783</td>\n",
              "      <td>Entire home/apt</td>\n",
              "      <td>136</td>\n",
              "      <td>2</td>\n",
              "      <td>0</td>\n",
              "      <td>2021-6-11</td>\n",
              "      <td>0.00</td>\n",
              "      <td>56</td>\n",
              "      <td>332</td>\n",
              "      <td>0</td>\n",
              "    </tr>\n",
              "    <tr>\n",
              "      <th>3284</th>\n",
              "      <td>39280372</td>\n",
              "      <td>Exquisite Club Wyndham Nashville, 1 Bedroom Suite</td>\n",
              "      <td>194953121</td>\n",
              "      <td>NaN</td>\n",
              "      <td>District 15</td>\n",
              "      <td>36.21973</td>\n",
              "      <td>-86.70599</td>\n",
              "      <td>Entire home/apt</td>\n",
              "      <td>136</td>\n",
              "      <td>3</td>\n",
              "      <td>2</td>\n",
              "      <td>2021-08-25</td>\n",
              "      <td>0.40</td>\n",
              "      <td>56</td>\n",
              "      <td>331</td>\n",
              "      <td>2</td>\n",
              "    </tr>\n",
              "    <tr>\n",
              "      <th>3285</th>\n",
              "      <td>39280375</td>\n",
              "      <td>Sunny Club Wyndham Nashville, 1 Bedroom Suite</td>\n",
              "      <td>194953121</td>\n",
              "      <td>NaN</td>\n",
              "      <td>District 15</td>\n",
              "      <td>36.22127</td>\n",
              "      <td>-86.70661</td>\n",
              "      <td>Entire home/apt</td>\n",
              "      <td>136</td>\n",
              "      <td>2</td>\n",
              "      <td>1</td>\n",
              "      <td>2020-02-01</td>\n",
              "      <td>0.05</td>\n",
              "      <td>56</td>\n",
              "      <td>331</td>\n",
              "      <td>0</td>\n",
              "    </tr>\n",
              "    <tr>\n",
              "      <th>3286</th>\n",
              "      <td>39280377</td>\n",
              "      <td>Exquisite Club Wyndham Nashville, 1 Bedroom Suite</td>\n",
              "      <td>194953121</td>\n",
              "      <td>NaN</td>\n",
              "      <td>District 15</td>\n",
              "      <td>36.21932</td>\n",
              "      <td>-86.70678</td>\n",
              "      <td>Entire home/apt</td>\n",
              "      <td>136</td>\n",
              "      <td>4</td>\n",
              "      <td>0</td>\n",
              "      <td>2021-6-11</td>\n",
              "      <td>0.00</td>\n",
              "      <td>56</td>\n",
              "      <td>324</td>\n",
              "      <td>0</td>\n",
              "    </tr>\n",
              "    <tr>\n",
              "      <th>3287</th>\n",
              "      <td>39280378</td>\n",
              "      <td>Extravagant Club Wyndham Nashville, 1 Bedroom</td>\n",
              "      <td>194953121</td>\n",
              "      <td>NaN</td>\n",
              "      <td>District 7</td>\n",
              "      <td>36.21958</td>\n",
              "      <td>-86.70813</td>\n",
              "      <td>Entire home/apt</td>\n",
              "      <td>136</td>\n",
              "      <td>2</td>\n",
              "      <td>0</td>\n",
              "      <td>2021-6-11</td>\n",
              "      <td>0.00</td>\n",
              "      <td>56</td>\n",
              "      <td>328</td>\n",
              "      <td>0</td>\n",
              "    </tr>\n",
              "    <tr>\n",
              "      <th>3288</th>\n",
              "      <td>39280383</td>\n",
              "      <td>Extravagant Club Wyndham Nashville, 2 Bedroom</td>\n",
              "      <td>194953121</td>\n",
              "      <td>NaN</td>\n",
              "      <td>District 15</td>\n",
              "      <td>36.21939</td>\n",
              "      <td>-86.70422</td>\n",
              "      <td>Entire home/apt</td>\n",
              "      <td>170</td>\n",
              "      <td>2</td>\n",
              "      <td>1</td>\n",
              "      <td>2020-08-15</td>\n",
              "      <td>0.07</td>\n",
              "      <td>56</td>\n",
              "      <td>0</td>\n",
              "      <td>0</td>\n",
              "    </tr>\n",
              "    <tr>\n",
              "      <th>3289</th>\n",
              "      <td>39280384</td>\n",
              "      <td>Spacious Club Wyndham Nashville, 2 Bedroom Condo</td>\n",
              "      <td>194953121</td>\n",
              "      <td>NaN</td>\n",
              "      <td>District 15</td>\n",
              "      <td>36.22079</td>\n",
              "      <td>-86.70383</td>\n",
              "      <td>Entire home/apt</td>\n",
              "      <td>170</td>\n",
              "      <td>3</td>\n",
              "      <td>1</td>\n",
              "      <td>2021-05-02</td>\n",
              "      <td>0.21</td>\n",
              "      <td>56</td>\n",
              "      <td>0</td>\n",
              "      <td>1</td>\n",
              "    </tr>\n",
              "    <tr>\n",
              "      <th>3290</th>\n",
              "      <td>39280386</td>\n",
              "      <td>Exquisite Club Wyndham Nashville, 2 Bedroom Condo</td>\n",
              "      <td>194953121</td>\n",
              "      <td>NaN</td>\n",
              "      <td>District 15</td>\n",
              "      <td>36.22126</td>\n",
              "      <td>-86.70399</td>\n",
              "      <td>Entire home/apt</td>\n",
              "      <td>170</td>\n",
              "      <td>3</td>\n",
              "      <td>0</td>\n",
              "      <td>2021-6-11</td>\n",
              "      <td>0.00</td>\n",
              "      <td>56</td>\n",
              "      <td>0</td>\n",
              "      <td>0</td>\n",
              "    </tr>\n",
              "    <tr>\n",
              "      <th>3291</th>\n",
              "      <td>39280389</td>\n",
              "      <td>Club Wyndham Nashville, Tennessee, 2 Bedroom C...</td>\n",
              "      <td>194953121</td>\n",
              "      <td>NaN</td>\n",
              "      <td>District 15</td>\n",
              "      <td>36.22096</td>\n",
              "      <td>-86.70421</td>\n",
              "      <td>Entire home/apt</td>\n",
              "      <td>170</td>\n",
              "      <td>4</td>\n",
              "      <td>0</td>\n",
              "      <td>2021-6-11</td>\n",
              "      <td>0.00</td>\n",
              "      <td>56</td>\n",
              "      <td>0</td>\n",
              "      <td>0</td>\n",
              "    </tr>\n",
              "    <tr>\n",
              "      <th>3292</th>\n",
              "      <td>39280394</td>\n",
              "      <td>Sunny Club Wyndham Nashville, 2 Bedroom Condo</td>\n",
              "      <td>194953121</td>\n",
              "      <td>NaN</td>\n",
              "      <td>District 15</td>\n",
              "      <td>36.22090</td>\n",
              "      <td>-86.70414</td>\n",
              "      <td>Entire home/apt</td>\n",
              "      <td>170</td>\n",
              "      <td>4</td>\n",
              "      <td>0</td>\n",
              "      <td>2021-6-11</td>\n",
              "      <td>0.00</td>\n",
              "      <td>56</td>\n",
              "      <td>5</td>\n",
              "      <td>0</td>\n",
              "    </tr>\n",
              "    <tr>\n",
              "      <th>3293</th>\n",
              "      <td>39280396</td>\n",
              "      <td>Sunny Club Wyndham Nashville, 2 Bedroom Condo</td>\n",
              "      <td>194953121</td>\n",
              "      <td>NaN</td>\n",
              "      <td>District 15</td>\n",
              "      <td>36.21938</td>\n",
              "      <td>-86.70565</td>\n",
              "      <td>Entire home/apt</td>\n",
              "      <td>170</td>\n",
              "      <td>5</td>\n",
              "      <td>0</td>\n",
              "      <td>2021-6-11</td>\n",
              "      <td>0.00</td>\n",
              "      <td>56</td>\n",
              "      <td>0</td>\n",
              "      <td>0</td>\n",
              "    </tr>\n",
              "    <tr>\n",
              "      <th>3361</th>\n",
              "      <td>39915659</td>\n",
              "      <td>Club Wyndham Nashville, Tennessee, 2 Bedroom C...</td>\n",
              "      <td>194953121</td>\n",
              "      <td>NaN</td>\n",
              "      <td>District 15</td>\n",
              "      <td>36.22073</td>\n",
              "      <td>-86.70380</td>\n",
              "      <td>Entire home/apt</td>\n",
              "      <td>170</td>\n",
              "      <td>4</td>\n",
              "      <td>6</td>\n",
              "      <td>2021-01-02</td>\n",
              "      <td>0.30</td>\n",
              "      <td>56</td>\n",
              "      <td>0</td>\n",
              "      <td>3</td>\n",
              "    </tr>\n",
              "    <tr>\n",
              "      <th>3508</th>\n",
              "      <td>40805104</td>\n",
              "      <td>Commodious Club Wyndham Nashville, 2 Bedroom C...</td>\n",
              "      <td>194953121</td>\n",
              "      <td>NaN</td>\n",
              "      <td>District 15</td>\n",
              "      <td>36.21934</td>\n",
              "      <td>-86.70505</td>\n",
              "      <td>Entire home/apt</td>\n",
              "      <td>170</td>\n",
              "      <td>2</td>\n",
              "      <td>4</td>\n",
              "      <td>2020-11-22</td>\n",
              "      <td>0.20</td>\n",
              "      <td>56</td>\n",
              "      <td>0</td>\n",
              "      <td>1</td>\n",
              "    </tr>\n",
              "    <tr>\n",
              "      <th>3598</th>\n",
              "      <td>41564194</td>\n",
              "      <td>Club Wyndham Nashville, Tennessee, 2 Bedroom C...</td>\n",
              "      <td>194953121</td>\n",
              "      <td>NaN</td>\n",
              "      <td>District 15</td>\n",
              "      <td>36.21938</td>\n",
              "      <td>-86.70560</td>\n",
              "      <td>Entire home/apt</td>\n",
              "      <td>170</td>\n",
              "      <td>2</td>\n",
              "      <td>0</td>\n",
              "      <td>2021-6-11</td>\n",
              "      <td>0.00</td>\n",
              "      <td>56</td>\n",
              "      <td>0</td>\n",
              "      <td>0</td>\n",
              "    </tr>\n",
              "    <tr>\n",
              "      <th>3599</th>\n",
              "      <td>41564610</td>\n",
              "      <td>Commodious Club Wyndham Nashville, 2 Bedroom C...</td>\n",
              "      <td>194953121</td>\n",
              "      <td>NaN</td>\n",
              "      <td>District 15</td>\n",
              "      <td>36.21971</td>\n",
              "      <td>-86.70455</td>\n",
              "      <td>Entire home/apt</td>\n",
              "      <td>170</td>\n",
              "      <td>4</td>\n",
              "      <td>0</td>\n",
              "      <td>2021-6-11</td>\n",
              "      <td>0.00</td>\n",
              "      <td>56</td>\n",
              "      <td>0</td>\n",
              "      <td>0</td>\n",
              "    </tr>\n",
              "    <tr>\n",
              "      <th>3621</th>\n",
              "      <td>41743180</td>\n",
              "      <td>Club Wyndham Nashville, Tennessee, 2 Bedroom C...</td>\n",
              "      <td>194953121</td>\n",
              "      <td>NaN</td>\n",
              "      <td>District 15</td>\n",
              "      <td>36.21953</td>\n",
              "      <td>-86.70429</td>\n",
              "      <td>Entire home/apt</td>\n",
              "      <td>170</td>\n",
              "      <td>5</td>\n",
              "      <td>3</td>\n",
              "      <td>2020-12-22</td>\n",
              "      <td>0.20</td>\n",
              "      <td>56</td>\n",
              "      <td>0</td>\n",
              "      <td>1</td>\n",
              "    </tr>\n",
              "    <tr>\n",
              "      <th>3622</th>\n",
              "      <td>41743197</td>\n",
              "      <td>Extravagant Club Wyndham Nashville, 1 Bedroom</td>\n",
              "      <td>194953121</td>\n",
              "      <td>NaN</td>\n",
              "      <td>District 15</td>\n",
              "      <td>36.22117</td>\n",
              "      <td>-86.70608</td>\n",
              "      <td>Entire home/apt</td>\n",
              "      <td>136</td>\n",
              "      <td>2</td>\n",
              "      <td>2</td>\n",
              "      <td>2021-08-19</td>\n",
              "      <td>0.44</td>\n",
              "      <td>56</td>\n",
              "      <td>330</td>\n",
              "      <td>2</td>\n",
              "    </tr>\n",
              "    <tr>\n",
              "      <th>3623</th>\n",
              "      <td>41743201</td>\n",
              "      <td>Club Wyndham Nashville, Tennessee, 1 Bedroom S...</td>\n",
              "      <td>194953121</td>\n",
              "      <td>NaN</td>\n",
              "      <td>District 7</td>\n",
              "      <td>36.21941</td>\n",
              "      <td>-86.70740</td>\n",
              "      <td>Entire home/apt</td>\n",
              "      <td>136</td>\n",
              "      <td>2</td>\n",
              "      <td>2</td>\n",
              "      <td>2021-08-01</td>\n",
              "      <td>0.46</td>\n",
              "      <td>56</td>\n",
              "      <td>331</td>\n",
              "      <td>2</td>\n",
              "    </tr>\n",
              "    <tr>\n",
              "      <th>3624</th>\n",
              "      <td>41743204</td>\n",
              "      <td>Club Wyndham Nashville, Tennessee, 1 Bedroom S...</td>\n",
              "      <td>194953121</td>\n",
              "      <td>NaN</td>\n",
              "      <td>District 7</td>\n",
              "      <td>36.22109</td>\n",
              "      <td>-86.70821</td>\n",
              "      <td>Entire home/apt</td>\n",
              "      <td>136</td>\n",
              "      <td>3</td>\n",
              "      <td>0</td>\n",
              "      <td>2021-6-11</td>\n",
              "      <td>0.00</td>\n",
              "      <td>56</td>\n",
              "      <td>333</td>\n",
              "      <td>0</td>\n",
              "    </tr>\n",
              "    <tr>\n",
              "      <th>3681</th>\n",
              "      <td>42094266</td>\n",
              "      <td>Exquisite Club Wyndham Nashville, 1 Bedroom Suite</td>\n",
              "      <td>194953121</td>\n",
              "      <td>NaN</td>\n",
              "      <td>District 15</td>\n",
              "      <td>36.22138</td>\n",
              "      <td>-86.70603</td>\n",
              "      <td>Entire home/apt</td>\n",
              "      <td>136</td>\n",
              "      <td>2</td>\n",
              "      <td>1</td>\n",
              "      <td>2021-08-09</td>\n",
              "      <td>0.68</td>\n",
              "      <td>56</td>\n",
              "      <td>331</td>\n",
              "      <td>1</td>\n",
              "    </tr>\n",
              "    <tr>\n",
              "      <th>3682</th>\n",
              "      <td>42094271</td>\n",
              "      <td>Club Wyndham Nashville, Tennessee, 1 Bedroom S...</td>\n",
              "      <td>194953121</td>\n",
              "      <td>NaN</td>\n",
              "      <td>District 7</td>\n",
              "      <td>36.21996</td>\n",
              "      <td>-86.70739</td>\n",
              "      <td>Entire home/apt</td>\n",
              "      <td>136</td>\n",
              "      <td>2</td>\n",
              "      <td>0</td>\n",
              "      <td>2021-6-11</td>\n",
              "      <td>0.00</td>\n",
              "      <td>56</td>\n",
              "      <td>329</td>\n",
              "      <td>0</td>\n",
              "    </tr>\n",
              "    <tr>\n",
              "      <th>3683</th>\n",
              "      <td>42094272</td>\n",
              "      <td>Exquisite Club Wyndham Nashville, 2 Bedroom Condo</td>\n",
              "      <td>194953121</td>\n",
              "      <td>NaN</td>\n",
              "      <td>District 15</td>\n",
              "      <td>36.21981</td>\n",
              "      <td>-86.70390</td>\n",
              "      <td>Entire home/apt</td>\n",
              "      <td>170</td>\n",
              "      <td>3</td>\n",
              "      <td>0</td>\n",
              "      <td>2021-6-11</td>\n",
              "      <td>0.00</td>\n",
              "      <td>56</td>\n",
              "      <td>0</td>\n",
              "      <td>0</td>\n",
              "    </tr>\n",
              "    <tr>\n",
              "      <th>3684</th>\n",
              "      <td>42094285</td>\n",
              "      <td>Club Wyndham Nashville, Tennessee, 2 Bedroom C...</td>\n",
              "      <td>194953121</td>\n",
              "      <td>NaN</td>\n",
              "      <td>District 15</td>\n",
              "      <td>36.21984</td>\n",
              "      <td>-86.70374</td>\n",
              "      <td>Entire home/apt</td>\n",
              "      <td>170</td>\n",
              "      <td>4</td>\n",
              "      <td>0</td>\n",
              "      <td>2021-6-11</td>\n",
              "      <td>0.00</td>\n",
              "      <td>56</td>\n",
              "      <td>0</td>\n",
              "      <td>0</td>\n",
              "    </tr>\n",
              "    <tr>\n",
              "      <th>3685</th>\n",
              "      <td>42094288</td>\n",
              "      <td>Commodious Club Wyndham Nashville, 2 Bedroom C...</td>\n",
              "      <td>194953121</td>\n",
              "      <td>NaN</td>\n",
              "      <td>District 15</td>\n",
              "      <td>36.22139</td>\n",
              "      <td>-86.70435</td>\n",
              "      <td>Entire home/apt</td>\n",
              "      <td>170</td>\n",
              "      <td>5</td>\n",
              "      <td>1</td>\n",
              "      <td>2020-12-05</td>\n",
              "      <td>0.10</td>\n",
              "      <td>56</td>\n",
              "      <td>0</td>\n",
              "      <td>1</td>\n",
              "    </tr>\n",
              "    <tr>\n",
              "      <th>3735</th>\n",
              "      <td>42323519</td>\n",
              "      <td>Margaritaville Vacation Club, South Nashville</td>\n",
              "      <td>194953121</td>\n",
              "      <td>NaN</td>\n",
              "      <td>District 19</td>\n",
              "      <td>36.15609</td>\n",
              "      <td>-86.77639</td>\n",
              "      <td>Entire home/apt</td>\n",
              "      <td>320</td>\n",
              "      <td>2</td>\n",
              "      <td>0</td>\n",
              "      <td>2021-6-11</td>\n",
              "      <td>0.00</td>\n",
              "      <td>56</td>\n",
              "      <td>300</td>\n",
              "      <td>0</td>\n",
              "    </tr>\n",
              "    <tr>\n",
              "      <th>3736</th>\n",
              "      <td>42323520</td>\n",
              "      <td>Lavish Margaritaville Vacation Club, Studio</td>\n",
              "      <td>194953121</td>\n",
              "      <td>NaN</td>\n",
              "      <td>District 19</td>\n",
              "      <td>36.15443</td>\n",
              "      <td>-86.77610</td>\n",
              "      <td>Entire home/apt</td>\n",
              "      <td>320</td>\n",
              "      <td>2</td>\n",
              "      <td>0</td>\n",
              "      <td>2021-6-11</td>\n",
              "      <td>0.00</td>\n",
              "      <td>56</td>\n",
              "      <td>305</td>\n",
              "      <td>0</td>\n",
              "    </tr>\n",
              "    <tr>\n",
              "      <th>3737</th>\n",
              "      <td>42323522</td>\n",
              "      <td>Margaritaville Vacation Club by Wyndham</td>\n",
              "      <td>194953121</td>\n",
              "      <td>NaN</td>\n",
              "      <td>District 19</td>\n",
              "      <td>36.15630</td>\n",
              "      <td>-86.77468</td>\n",
              "      <td>Entire home/apt</td>\n",
              "      <td>320</td>\n",
              "      <td>2</td>\n",
              "      <td>2</td>\n",
              "      <td>2021-07-23</td>\n",
              "      <td>0.14</td>\n",
              "      <td>56</td>\n",
              "      <td>305</td>\n",
              "      <td>1</td>\n",
              "    </tr>\n",
              "    <tr>\n",
              "      <th>3738</th>\n",
              "      <td>42323523</td>\n",
              "      <td>Margaritaville Vacation Club, South Nashville</td>\n",
              "      <td>194953121</td>\n",
              "      <td>NaN</td>\n",
              "      <td>District 19</td>\n",
              "      <td>36.15434</td>\n",
              "      <td>-86.77477</td>\n",
              "      <td>Entire home/apt</td>\n",
              "      <td>320</td>\n",
              "      <td>3</td>\n",
              "      <td>0</td>\n",
              "      <td>2021-6-11</td>\n",
              "      <td>0.00</td>\n",
              "      <td>56</td>\n",
              "      <td>299</td>\n",
              "      <td>0</td>\n",
              "    </tr>\n",
              "    <tr>\n",
              "      <th>3739</th>\n",
              "      <td>42323525</td>\n",
              "      <td>Margaritaville Vacation Club, Studio Deluxe</td>\n",
              "      <td>194953121</td>\n",
              "      <td>NaN</td>\n",
              "      <td>District 19</td>\n",
              "      <td>36.15578</td>\n",
              "      <td>-86.77650</td>\n",
              "      <td>Entire home/apt</td>\n",
              "      <td>320</td>\n",
              "      <td>3</td>\n",
              "      <td>0</td>\n",
              "      <td>2021-6-11</td>\n",
              "      <td>0.00</td>\n",
              "      <td>56</td>\n",
              "      <td>300</td>\n",
              "      <td>0</td>\n",
              "    </tr>\n",
              "    <tr>\n",
              "      <th>3740</th>\n",
              "      <td>42323533</td>\n",
              "      <td>Lavish Margaritaville Vacation Club, Studio De...</td>\n",
              "      <td>194953121</td>\n",
              "      <td>NaN</td>\n",
              "      <td>District 19</td>\n",
              "      <td>36.15586</td>\n",
              "      <td>-86.77653</td>\n",
              "      <td>Entire home/apt</td>\n",
              "      <td>320</td>\n",
              "      <td>4</td>\n",
              "      <td>0</td>\n",
              "      <td>2021-6-11</td>\n",
              "      <td>0.00</td>\n",
              "      <td>56</td>\n",
              "      <td>297</td>\n",
              "      <td>0</td>\n",
              "    </tr>\n",
              "    <tr>\n",
              "      <th>3741</th>\n",
              "      <td>42323536</td>\n",
              "      <td>Margaritaville Vacation Club, South Nashville</td>\n",
              "      <td>194953121</td>\n",
              "      <td>NaN</td>\n",
              "      <td>District 19</td>\n",
              "      <td>36.15585</td>\n",
              "      <td>-86.77687</td>\n",
              "      <td>Entire home/apt</td>\n",
              "      <td>320</td>\n",
              "      <td>4</td>\n",
              "      <td>1</td>\n",
              "      <td>2020-10-20</td>\n",
              "      <td>0.09</td>\n",
              "      <td>56</td>\n",
              "      <td>295</td>\n",
              "      <td>1</td>\n",
              "    </tr>\n",
              "    <tr>\n",
              "      <th>3742</th>\n",
              "      <td>42323548</td>\n",
              "      <td>Margaritaville Vacation Club, Studio Deluxe</td>\n",
              "      <td>194953121</td>\n",
              "      <td>NaN</td>\n",
              "      <td>District 19</td>\n",
              "      <td>36.15500</td>\n",
              "      <td>-86.77513</td>\n",
              "      <td>Entire home/apt</td>\n",
              "      <td>320</td>\n",
              "      <td>3</td>\n",
              "      <td>0</td>\n",
              "      <td>2021-6-11</td>\n",
              "      <td>0.00</td>\n",
              "      <td>56</td>\n",
              "      <td>296</td>\n",
              "      <td>0</td>\n",
              "    </tr>\n",
              "    <tr>\n",
              "      <th>3917</th>\n",
              "      <td>43241371</td>\n",
              "      <td>Wyndham Nashville - 4 Bedroom Presidential</td>\n",
              "      <td>194953121</td>\n",
              "      <td>NaN</td>\n",
              "      <td>District 15</td>\n",
              "      <td>36.21960</td>\n",
              "      <td>-86.70421</td>\n",
              "      <td>Entire home/apt</td>\n",
              "      <td>220</td>\n",
              "      <td>4</td>\n",
              "      <td>0</td>\n",
              "      <td>2021-6-11</td>\n",
              "      <td>0.00</td>\n",
              "      <td>56</td>\n",
              "      <td>0</td>\n",
              "      <td>0</td>\n",
              "    </tr>\n",
              "    <tr>\n",
              "      <th>3918</th>\n",
              "      <td>43241377</td>\n",
              "      <td>Wyndham Nashville - 2 Bedroom Condo</td>\n",
              "      <td>194953121</td>\n",
              "      <td>NaN</td>\n",
              "      <td>District 15</td>\n",
              "      <td>36.22113</td>\n",
              "      <td>-86.70415</td>\n",
              "      <td>Entire home/apt</td>\n",
              "      <td>170</td>\n",
              "      <td>5</td>\n",
              "      <td>0</td>\n",
              "      <td>2021-6-11</td>\n",
              "      <td>0.00</td>\n",
              "      <td>56</td>\n",
              "      <td>0</td>\n",
              "      <td>0</td>\n",
              "    </tr>\n",
              "    <tr>\n",
              "      <th>3919</th>\n",
              "      <td>43241380</td>\n",
              "      <td>Wyndham Nashville - 2 Bedroom Condo</td>\n",
              "      <td>194953121</td>\n",
              "      <td>NaN</td>\n",
              "      <td>District 15</td>\n",
              "      <td>36.21955</td>\n",
              "      <td>-86.70563</td>\n",
              "      <td>Entire home/apt</td>\n",
              "      <td>170</td>\n",
              "      <td>5</td>\n",
              "      <td>1</td>\n",
              "      <td>2021-04-07</td>\n",
              "      <td>0.18</td>\n",
              "      <td>56</td>\n",
              "      <td>0</td>\n",
              "      <td>1</td>\n",
              "    </tr>\n",
              "    <tr>\n",
              "      <th>3920</th>\n",
              "      <td>43241383</td>\n",
              "      <td>Wyndham Nashville - 2 Bedroom Condo</td>\n",
              "      <td>194953121</td>\n",
              "      <td>NaN</td>\n",
              "      <td>District 15</td>\n",
              "      <td>36.22133</td>\n",
              "      <td>-86.70597</td>\n",
              "      <td>Entire home/apt</td>\n",
              "      <td>170</td>\n",
              "      <td>4</td>\n",
              "      <td>1</td>\n",
              "      <td>2021-04-18</td>\n",
              "      <td>0.19</td>\n",
              "      <td>56</td>\n",
              "      <td>0</td>\n",
              "      <td>1</td>\n",
              "    </tr>\n",
              "    <tr>\n",
              "      <th>3921</th>\n",
              "      <td>43241393</td>\n",
              "      <td>Wyndham Nashville - 2 Bedroom Condo</td>\n",
              "      <td>194953121</td>\n",
              "      <td>NaN</td>\n",
              "      <td>District 15</td>\n",
              "      <td>36.22115</td>\n",
              "      <td>-86.70373</td>\n",
              "      <td>Entire home/apt</td>\n",
              "      <td>170</td>\n",
              "      <td>4</td>\n",
              "      <td>1</td>\n",
              "      <td>2021-01-22</td>\n",
              "      <td>0.12</td>\n",
              "      <td>56</td>\n",
              "      <td>0</td>\n",
              "      <td>1</td>\n",
              "    </tr>\n",
              "    <tr>\n",
              "      <th>3922</th>\n",
              "      <td>43241399</td>\n",
              "      <td>Wyndham Nashville - 2 Bedroom Condo</td>\n",
              "      <td>194953121</td>\n",
              "      <td>NaN</td>\n",
              "      <td>District 15</td>\n",
              "      <td>36.22002</td>\n",
              "      <td>-86.70433</td>\n",
              "      <td>Entire home/apt</td>\n",
              "      <td>170</td>\n",
              "      <td>4</td>\n",
              "      <td>3</td>\n",
              "      <td>2020-10-31</td>\n",
              "      <td>0.23</td>\n",
              "      <td>56</td>\n",
              "      <td>0</td>\n",
              "      <td>2</td>\n",
              "    </tr>\n",
              "    <tr>\n",
              "      <th>3923</th>\n",
              "      <td>43241401</td>\n",
              "      <td>Wyndham Nashville - 2 Bedroom Condo</td>\n",
              "      <td>194953121</td>\n",
              "      <td>NaN</td>\n",
              "      <td>District 15</td>\n",
              "      <td>36.22015</td>\n",
              "      <td>-86.70507</td>\n",
              "      <td>Entire home/apt</td>\n",
              "      <td>170</td>\n",
              "      <td>4</td>\n",
              "      <td>0</td>\n",
              "      <td>2021-6-11</td>\n",
              "      <td>0.00</td>\n",
              "      <td>56</td>\n",
              "      <td>0</td>\n",
              "      <td>0</td>\n",
              "    </tr>\n",
              "    <tr>\n",
              "      <th>3924</th>\n",
              "      <td>43241404</td>\n",
              "      <td>Wyndham Nashville - 2 Bedroom Condo</td>\n",
              "      <td>194953121</td>\n",
              "      <td>NaN</td>\n",
              "      <td>District 15</td>\n",
              "      <td>36.21947</td>\n",
              "      <td>-86.70589</td>\n",
              "      <td>Entire home/apt</td>\n",
              "      <td>170</td>\n",
              "      <td>3</td>\n",
              "      <td>0</td>\n",
              "      <td>2021-6-11</td>\n",
              "      <td>0.00</td>\n",
              "      <td>56</td>\n",
              "      <td>0</td>\n",
              "      <td>0</td>\n",
              "    </tr>\n",
              "    <tr>\n",
              "      <th>3925</th>\n",
              "      <td>43241408</td>\n",
              "      <td>Wyndham Nashville - 2 Bedroom Condo</td>\n",
              "      <td>194953121</td>\n",
              "      <td>NaN</td>\n",
              "      <td>District 15</td>\n",
              "      <td>36.22158</td>\n",
              "      <td>-86.70462</td>\n",
              "      <td>Entire home/apt</td>\n",
              "      <td>170</td>\n",
              "      <td>2</td>\n",
              "      <td>0</td>\n",
              "      <td>2021-6-11</td>\n",
              "      <td>0.00</td>\n",
              "      <td>56</td>\n",
              "      <td>0</td>\n",
              "      <td>0</td>\n",
              "    </tr>\n",
              "    <tr>\n",
              "      <th>3926</th>\n",
              "      <td>43241410</td>\n",
              "      <td>Wyndham Nashville - 2 Bedroom Condo</td>\n",
              "      <td>194953121</td>\n",
              "      <td>NaN</td>\n",
              "      <td>District 15</td>\n",
              "      <td>36.22062</td>\n",
              "      <td>-86.70394</td>\n",
              "      <td>Entire home/apt</td>\n",
              "      <td>170</td>\n",
              "      <td>2</td>\n",
              "      <td>0</td>\n",
              "      <td>2021-6-11</td>\n",
              "      <td>0.00</td>\n",
              "      <td>56</td>\n",
              "      <td>0</td>\n",
              "      <td>0</td>\n",
              "    </tr>\n",
              "    <tr>\n",
              "      <th>3927</th>\n",
              "      <td>43241414</td>\n",
              "      <td>Wyndham Nashville - 2 Bedroom Condo</td>\n",
              "      <td>194953121</td>\n",
              "      <td>NaN</td>\n",
              "      <td>District 15</td>\n",
              "      <td>36.21974</td>\n",
              "      <td>-86.70444</td>\n",
              "      <td>Entire home/apt</td>\n",
              "      <td>170</td>\n",
              "      <td>2</td>\n",
              "      <td>0</td>\n",
              "      <td>2021-6-11</td>\n",
              "      <td>0.00</td>\n",
              "      <td>56</td>\n",
              "      <td>0</td>\n",
              "      <td>0</td>\n",
              "    </tr>\n",
              "    <tr>\n",
              "      <th>3928</th>\n",
              "      <td>43241420</td>\n",
              "      <td>Sunny Club Wyndham Nashville, 1 Bedroom Suite</td>\n",
              "      <td>194953121</td>\n",
              "      <td>NaN</td>\n",
              "      <td>District 7</td>\n",
              "      <td>36.22060</td>\n",
              "      <td>-86.70738</td>\n",
              "      <td>Entire home/apt</td>\n",
              "      <td>136</td>\n",
              "      <td>3</td>\n",
              "      <td>2</td>\n",
              "      <td>2021-08-09</td>\n",
              "      <td>1.02</td>\n",
              "      <td>56</td>\n",
              "      <td>329</td>\n",
              "      <td>2</td>\n",
              "    </tr>\n",
              "    <tr>\n",
              "      <th>3929</th>\n",
              "      <td>43241422</td>\n",
              "      <td>Club Wyndham Nashville, Tennessee, 1 Bedroom S...</td>\n",
              "      <td>194953121</td>\n",
              "      <td>NaN</td>\n",
              "      <td>District 15</td>\n",
              "      <td>36.22126</td>\n",
              "      <td>-86.70732</td>\n",
              "      <td>Entire home/apt</td>\n",
              "      <td>136</td>\n",
              "      <td>2</td>\n",
              "      <td>2</td>\n",
              "      <td>2021-07-26</td>\n",
              "      <td>0.38</td>\n",
              "      <td>56</td>\n",
              "      <td>326</td>\n",
              "      <td>2</td>\n",
              "    </tr>\n",
              "    <tr>\n",
              "      <th>3930</th>\n",
              "      <td>43241427</td>\n",
              "      <td>Wyndham Nashville - 1 Bedroom Suite</td>\n",
              "      <td>194953121</td>\n",
              "      <td>NaN</td>\n",
              "      <td>District 15</td>\n",
              "      <td>36.21950</td>\n",
              "      <td>-86.70649</td>\n",
              "      <td>Entire home/apt</td>\n",
              "      <td>136</td>\n",
              "      <td>3</td>\n",
              "      <td>0</td>\n",
              "      <td>2021-6-11</td>\n",
              "      <td>0.00</td>\n",
              "      <td>56</td>\n",
              "      <td>331</td>\n",
              "      <td>0</td>\n",
              "    </tr>\n",
              "    <tr>\n",
              "      <th>3932</th>\n",
              "      <td>43259094</td>\n",
              "      <td>Wyndham Nashville - 2 Bedroom Condo</td>\n",
              "      <td>194953121</td>\n",
              "      <td>NaN</td>\n",
              "      <td>District 15</td>\n",
              "      <td>36.22107</td>\n",
              "      <td>-86.70368</td>\n",
              "      <td>Entire home/apt</td>\n",
              "      <td>170</td>\n",
              "      <td>5</td>\n",
              "      <td>0</td>\n",
              "      <td>2021-6-11</td>\n",
              "      <td>0.00</td>\n",
              "      <td>56</td>\n",
              "      <td>0</td>\n",
              "      <td>0</td>\n",
              "    </tr>\n",
              "    <tr>\n",
              "      <th>3949</th>\n",
              "      <td>43365978</td>\n",
              "      <td>Wyndham Nashville - 4 Bedroom Presidential</td>\n",
              "      <td>194953121</td>\n",
              "      <td>NaN</td>\n",
              "      <td>District 15</td>\n",
              "      <td>36.22123</td>\n",
              "      <td>-86.70402</td>\n",
              "      <td>Entire home/apt</td>\n",
              "      <td>220</td>\n",
              "      <td>2</td>\n",
              "      <td>0</td>\n",
              "      <td>2021-6-11</td>\n",
              "      <td>0.00</td>\n",
              "      <td>56</td>\n",
              "      <td>0</td>\n",
              "      <td>0</td>\n",
              "    </tr>\n",
              "    <tr>\n",
              "      <th>4568</th>\n",
              "      <td>46553416</td>\n",
              "      <td>Wyndham Nashville - 2 Bedroom Condo</td>\n",
              "      <td>194953121</td>\n",
              "      <td>NaN</td>\n",
              "      <td>District 15</td>\n",
              "      <td>36.22093</td>\n",
              "      <td>-86.70370</td>\n",
              "      <td>Entire home/apt</td>\n",
              "      <td>170</td>\n",
              "      <td>5</td>\n",
              "      <td>0</td>\n",
              "      <td>2021-6-11</td>\n",
              "      <td>0.00</td>\n",
              "      <td>56</td>\n",
              "      <td>0</td>\n",
              "      <td>0</td>\n",
              "    </tr>\n",
              "    <tr>\n",
              "      <th>5239</th>\n",
              "      <td>49282311</td>\n",
              "      <td>Wyndham Nashville - 1 Bedroom Suite</td>\n",
              "      <td>194953121</td>\n",
              "      <td>NaN</td>\n",
              "      <td>District 15</td>\n",
              "      <td>36.21992</td>\n",
              "      <td>-86.70611</td>\n",
              "      <td>Entire home/apt</td>\n",
              "      <td>136</td>\n",
              "      <td>4</td>\n",
              "      <td>0</td>\n",
              "      <td>2021-6-11</td>\n",
              "      <td>0.00</td>\n",
              "      <td>56</td>\n",
              "      <td>329</td>\n",
              "      <td>0</td>\n",
              "    </tr>\n",
              "    <tr>\n",
              "      <th>5348</th>\n",
              "      <td>49710990</td>\n",
              "      <td>Spacious Wyndham Nashville - 3 Bedroom Condo</td>\n",
              "      <td>194953121</td>\n",
              "      <td>NaN</td>\n",
              "      <td>District 15</td>\n",
              "      <td>36.22127</td>\n",
              "      <td>-86.70584</td>\n",
              "      <td>Entire home/apt</td>\n",
              "      <td>170</td>\n",
              "      <td>4</td>\n",
              "      <td>0</td>\n",
              "      <td>2021-6-11</td>\n",
              "      <td>0.00</td>\n",
              "      <td>56</td>\n",
              "      <td>0</td>\n",
              "      <td>0</td>\n",
              "    </tr>\n",
              "  </tbody>\n",
              "</table>\n",
              "</div>"
            ],
            "text/plain": [
              "            id  ... number_of_reviews_ltm\n",
              "2913  35679923  ...                     0\n",
              "2957  36132444  ...                     2\n",
              "3087  37599205  ...                     1\n",
              "3217  38716138  ...                     8\n",
              "3282  39280367  ...                     0\n",
              "3283  39280370  ...                     0\n",
              "3284  39280372  ...                     2\n",
              "3285  39280375  ...                     0\n",
              "3286  39280377  ...                     0\n",
              "3287  39280378  ...                     0\n",
              "3288  39280383  ...                     0\n",
              "3289  39280384  ...                     1\n",
              "3290  39280386  ...                     0\n",
              "3291  39280389  ...                     0\n",
              "3292  39280394  ...                     0\n",
              "3293  39280396  ...                     0\n",
              "3361  39915659  ...                     3\n",
              "3508  40805104  ...                     1\n",
              "3598  41564194  ...                     0\n",
              "3599  41564610  ...                     0\n",
              "3621  41743180  ...                     1\n",
              "3622  41743197  ...                     2\n",
              "3623  41743201  ...                     2\n",
              "3624  41743204  ...                     0\n",
              "3681  42094266  ...                     1\n",
              "3682  42094271  ...                     0\n",
              "3683  42094272  ...                     0\n",
              "3684  42094285  ...                     0\n",
              "3685  42094288  ...                     1\n",
              "3735  42323519  ...                     0\n",
              "3736  42323520  ...                     0\n",
              "3737  42323522  ...                     1\n",
              "3738  42323523  ...                     0\n",
              "3739  42323525  ...                     0\n",
              "3740  42323533  ...                     0\n",
              "3741  42323536  ...                     1\n",
              "3742  42323548  ...                     0\n",
              "3917  43241371  ...                     0\n",
              "3918  43241377  ...                     0\n",
              "3919  43241380  ...                     1\n",
              "3920  43241383  ...                     1\n",
              "3921  43241393  ...                     1\n",
              "3922  43241399  ...                     2\n",
              "3923  43241401  ...                     0\n",
              "3924  43241404  ...                     0\n",
              "3925  43241408  ...                     0\n",
              "3926  43241410  ...                     0\n",
              "3927  43241414  ...                     0\n",
              "3928  43241420  ...                     2\n",
              "3929  43241422  ...                     2\n",
              "3930  43241427  ...                     0\n",
              "3932  43259094  ...                     0\n",
              "3949  43365978  ...                     0\n",
              "4568  46553416  ...                     0\n",
              "5239  49282311  ...                     0\n",
              "5348  49710990  ...                     0\n",
              "\n",
              "[56 rows x 16 columns]"
            ]
          },
          "metadata": {},
          "execution_count": 32
        }
      ]
    },
    {
      "cell_type": "code",
      "metadata": {
        "id": "2-wLBTSDCN1t"
      },
      "source": [
        "dados_filtrados.drop(columns= 'host_name', axis= 1, inplace= True)"
      ],
      "execution_count": 33,
      "outputs": []
    },
    {
      "cell_type": "code",
      "metadata": {
        "id": "dl_uXCoMCN1t",
        "colab": {
          "base_uri": "https://localhost:8080/"
        },
        "outputId": "30aec823-e414-4c23-dc46-5267c43a9a64"
      },
      "source": [
        "#Dataset com os dados nulos limpos\n",
        "dados_filtrados.isnull().sum()"
      ],
      "execution_count": 34,
      "outputs": [
        {
          "output_type": "execute_result",
          "data": {
            "text/plain": [
              "id                                0\n",
              "name                              0\n",
              "host_id                           0\n",
              "neighbourhood                     0\n",
              "latitude                          0\n",
              "longitude                         0\n",
              "room_type                         0\n",
              "price                             0\n",
              "minimum_nights                    0\n",
              "number_of_reviews                 0\n",
              "last_review                       0\n",
              "reviews_per_month                 0\n",
              "calculated_host_listings_count    0\n",
              "availability_365                  0\n",
              "number_of_reviews_ltm             0\n",
              "dtype: int64"
            ]
          },
          "metadata": {},
          "execution_count": 34
        }
      ]
    },
    {
      "cell_type": "markdown",
      "metadata": {
        "id": "vTneAMRUYvr1"
      },
      "source": [
        "# **8. Qual é a média do mínimo de noites para aluguel (minimum_nights)?**\n",
        "---"
      ]
    },
    {
      "cell_type": "code",
      "metadata": {
        "id": "_VzNhrEgY82N",
        "colab": {
          "base_uri": "https://localhost:8080/"
        },
        "outputId": "d12fca4b-46ba-4253-fa9e-8f82d1c4429e"
      },
      "source": [
        "# verificando a média da coluna `minimum_nights``\n",
        "dados_filtrados['minimum_nights'].mean()"
      ],
      "execution_count": 35,
      "outputs": [
        {
          "output_type": "execute_result",
          "data": {
            "text/plain": [
              "1.810880829015544"
            ]
          },
          "metadata": {},
          "execution_count": 35
        }
      ]
    },
    {
      "cell_type": "markdown",
      "metadata": {
        "id": "GkvAg623RjoR"
      },
      "source": [
        "# **Conclusões**\n",
        "---"
      ]
    },
    {
      "cell_type": "markdown",
      "metadata": {
        "id": "rbZ3Hsy9Ypw8"
      },
      "source": [
        "\n",
        "* Foi feita apenas uma análise superficial na base de dados do Airbnb, porém já se percebeu que existem outliers em algumas das variáveis.\n",
        "\n",
        "* Nota-se também que em algumas localidades há poucos imóveis disponíveis, o que pode distorcer as informações estatísticas de alguns atributos.\n",
        "\n",
        "* Por fim, lembra-se que este dataset é uma versão resumida, ideal apenas para uma abordagem inicial. Recomenda-se que seja usado, em uma próxima análise exploratória, o conjunto de dados completos, com 106 atributos disponíveis."
      ]
    }
  ]
}
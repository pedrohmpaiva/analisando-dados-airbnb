{
  "nbformat": 4,
  "nbformat_minor": 0,
  "metadata": {
    "colab": {
      "name": "Analisando os Dados do Airbnb - Nashville.ipynb",
      "provenance": [],
      "collapsed_sections": [],
      "include_colab_link": true
    },
    "kernelspec": {
      "display_name": "Python 3",
      "language": "python",
      "name": "python3"
    },
    "language_info": {
      "codemirror_mode": {
        "name": "ipython",
        "version": 3
      },
      "file_extension": ".py",
      "mimetype": "text/x-python",
      "name": "python",
      "nbconvert_exporter": "python",
      "pygments_lexer": "ipython3",
      "version": "3.8.5"
    }
  },
  "cells": [
    {
      "cell_type": "markdown",
      "metadata": {
        "id": "view-in-github",
        "colab_type": "text"
      },
      "source": [
        "<a href=\"https://colab.research.google.com/github/pedrohmpaiva/analisando-dados-airbnb/blob/main/Analisando_os_Dados_do_Airbnb_Nashville.ipynb\" target=\"_parent\"><img src=\"https://colab.research.google.com/assets/colab-badge.svg\" alt=\"Open In Colab\"/></a>"
      ]
    },
    {
      "cell_type": "markdown",
      "metadata": {
        "id": "kLI0gJtzDGuQ"
      },
      "source": [
        "<img alt=\"Colaboratory logo\" width=\"15%\" src=\"https://github.com/pedrohmpaiva/portfolio/blob/main/banner.png?raw=true\">\n",
        "\n",
        "*por: [Pedro Henrique M. Paiva](https://www.linkedin.com/in/pedro-henrique-paiva/)*\n",
        "\n",
        "---\n",
        "\n",
        "# Análise dos Dados do Airbnb - *Nashville, Tennessee, Estados Unidos*\n",
        "\n",
        "<center><img alt=\"Analisando Airbnb\" width=\"50%\" src=\"https://rotadeferias.com.br/wp-content/uploads/2019/08/JakeMatthews_HonkeyTonkHwy_2019.jpg\"></center>\n",
        "\n",
        "---\n",
        "O [Airbnb](https://www.airbnb.com.br/) já é considerado como sendo a **maior empresa hoteleira da atualidade**. Ah, o detalhe é que ele **não possui nenhum hotel**!\n",
        "\n",
        "Conectando pessoas que querem viajar (e se hospedar) com anfitriões que querem alugar seus imóveis de maneira prática, o Airbnb fornece uma plataforma inovadora para tornar essa hospedagem alternativa.\n",
        "\n",
        "No final de 2018, a Startup fundada 10 anos atrás, já havia **hospedado mais de 300 milhões** de pessoas ao redor de todo o mundo, desafiando as redes hoteleiras tradicionais.\n",
        "\n",
        "Uma das iniciativas do Airbnb é disponibilizar dados do site, para algumas das principais cidades do mundo. Por meio do portal [Inside Airbnb](http://insideairbnb.com/get-the-data.html), é possível baixar uma grande quantidade de dados para desenvolver projetos e soluções de *Data Science*.\n",
        "\n",
        "<br/><br/>\n",
        "**Neste *notebook*, iremos analisar os dados referentes à cidade Nashville, e ver quais insights podem ser extraídos a partir de dados brutos.**\n",
        "<br/><br/>\n",
        "\n",
        "Nashville é a capital do estado do Tennessee, nos EUA, e é onde fica a Universidade Vanderbilt. Um dos principais espaços de eventos da lendária música country é a Grand Ole Opry House, casa do famoso programa de rádio e palco \"Grand Ole Opry\". O Country Music Hall of Fame and Museum e o histórico Ryman Auditorium ficam no centro da cidade, assim como o Distrito, com bares \"honky-tonk\" com música ao vivo e o Johnny Cash Museum, que celebra a vida do cantor. \n",
        "\n",
        "Fonte ― Google\n",
        "\n",
        "---"
      ]
    },
    {
      "cell_type": "markdown",
      "metadata": {
        "id": "0zxQHhIUDF_2"
      },
      "source": [
        "# **Obtendo os Dados**\n",
        "---"
      ]
    },
    {
      "cell_type": "markdown",
      "metadata": {
        "id": "-14WT3n3CN1a"
      },
      "source": [
        "Para a análise exploratória inicial, foi baixado o seguinte arquivo:\n",
        "\n",
        "* `listings.csv` - *Summary information and metrics for listings in Nashville (good for visualisations).*\n",
        "\n",
        "Este dataset é uma versão resumida, ideal apenas para uma abordagem inicial.\n"
      ]
    },
    {
      "cell_type": "code",
      "metadata": {
        "id": "Vhp2wMPgJ6zX"
      },
      "source": [
        "# importar os pacotes necessarios\n",
        "\n",
        "import pandas as pd\n",
        "\n",
        "import matplotlib.pyplot as plt\n",
        "import seaborn as sns\n",
        "\n",
        "import numpy as np\n",
        "%matplotlib inline"
      ],
      "execution_count": null,
      "outputs": []
    },
    {
      "cell_type": "code",
      "metadata": {
        "id": "tUmoAT8DLQ5T"
      },
      "source": [
        "# importando o arquivo listings.csv para um DataFrame\n",
        "\n",
        "dados = pd.read_csv('http://data.insideairbnb.com/united-states/tn/nashville/2021-09-21/visualisations/listings.csv')"
      ],
      "execution_count": null,
      "outputs": []
    },
    {
      "cell_type": "markdown",
      "metadata": {
        "id": "qb5By2nIMS6m"
      },
      "source": [
        "# **Análise dos Dados**\n",
        "---"
      ]
    },
    {
      "cell_type": "markdown",
      "metadata": {
        "id": "RYgvuebKNg8-"
      },
      "source": [
        "**Dicionário das variáveis**\n",
        "\n",
        "\n",
        "* `id` - número de id gerado para identificar o anúncio do imóvel\n",
        "* `name` - nome da propriedade anunciada\n",
        "* `host_id` - número de id do proprietário (anfitrião) da propriedade\n",
        "* `host_name` - Nome do anfitrião\n",
        "* `neighbourhood_group` - esta coluna não contém nenhum valor válido\n",
        "* `neighbourhood` - nome do bairro\n",
        "* `latitude` - coordenada da latitude da propriedade\n",
        "* `longitude` - coordenada da longitude da propriedade\n",
        "* `room_type` - informa o tipo de quarto que é oferecido\n",
        "* `price` - preço para alugar o imóvel\n",
        "* `minimum_nights` - quantidade mínima de noites para reservar\n",
        "* `number_of_reviews` - número de reviews que a propriedade possui\n",
        "* `last_review` - data do último review\n",
        "* `reviews_per_month` - quantidade de reviews por mês\n",
        "* `calculated_host_listings_count` - quantidade de imóveis do mesmo anfitrião\n",
        "* `availability_365` - número de dias de disponibilidade dentro de 365 dias\n",
        "\n",
        "\n",
        "\n",
        "\n",
        "Antes de iniciar qualquer análise, vamos verificar a cara do nosso *dataset*, analisando as 5 primeiras entradas."
      ]
    },
    {
      "cell_type": "code",
      "metadata": {
        "id": "2iS_dae7YQtO",
        "outputId": "1161fcf0-b12d-41c1-93fb-4dcc3ca9a9e9"
      },
      "source": [
        "# mostrando as 5 primeiras entradas\n",
        "dados.head()"
      ],
      "execution_count": null,
      "outputs": [
        {
          "data": {
            "text/html": [
              "<div>\n",
              "<style scoped>\n",
              "    .dataframe tbody tr th:only-of-type {\n",
              "        vertical-align: middle;\n",
              "    }\n",
              "\n",
              "    .dataframe tbody tr th {\n",
              "        vertical-align: top;\n",
              "    }\n",
              "\n",
              "    .dataframe thead th {\n",
              "        text-align: right;\n",
              "    }\n",
              "</style>\n",
              "<table border=\"1\" class=\"dataframe\">\n",
              "  <thead>\n",
              "    <tr style=\"text-align: right;\">\n",
              "      <th></th>\n",
              "      <th>id</th>\n",
              "      <th>name</th>\n",
              "      <th>host_id</th>\n",
              "      <th>host_name</th>\n",
              "      <th>neighbourhood_group</th>\n",
              "      <th>neighbourhood</th>\n",
              "      <th>latitude</th>\n",
              "      <th>longitude</th>\n",
              "      <th>room_type</th>\n",
              "      <th>price</th>\n",
              "      <th>minimum_nights</th>\n",
              "      <th>number_of_reviews</th>\n",
              "      <th>last_review</th>\n",
              "      <th>reviews_per_month</th>\n",
              "      <th>calculated_host_listings_count</th>\n",
              "      <th>availability_365</th>\n",
              "      <th>number_of_reviews_ltm</th>\n",
              "      <th>license</th>\n",
              "    </tr>\n",
              "  </thead>\n",
              "  <tbody>\n",
              "    <tr>\n",
              "      <th>0</th>\n",
              "      <td>6422</td>\n",
              "      <td>Nashville Charm</td>\n",
              "      <td>12172</td>\n",
              "      <td>Michele</td>\n",
              "      <td>NaN</td>\n",
              "      <td>District 6</td>\n",
              "      <td>36.17315</td>\n",
              "      <td>-86.73581</td>\n",
              "      <td>Private room</td>\n",
              "      <td>40</td>\n",
              "      <td>30</td>\n",
              "      <td>674</td>\n",
              "      <td>2020-03-02</td>\n",
              "      <td>6.72</td>\n",
              "      <td>1</td>\n",
              "      <td>123</td>\n",
              "      <td>0</td>\n",
              "      <td>NaN</td>\n",
              "    </tr>\n",
              "    <tr>\n",
              "      <th>1</th>\n",
              "      <td>25613</td>\n",
              "      <td>Room in Historic East Nashville Craftsman Home</td>\n",
              "      <td>95811</td>\n",
              "      <td>Nell</td>\n",
              "      <td>NaN</td>\n",
              "      <td>District 6</td>\n",
              "      <td>36.17826</td>\n",
              "      <td>-86.74162</td>\n",
              "      <td>Private room</td>\n",
              "      <td>77</td>\n",
              "      <td>2</td>\n",
              "      <td>510</td>\n",
              "      <td>2020-03-14</td>\n",
              "      <td>5.31</td>\n",
              "      <td>1</td>\n",
              "      <td>256</td>\n",
              "      <td>0</td>\n",
              "      <td>NaN</td>\n",
              "    </tr>\n",
              "    <tr>\n",
              "      <th>2</th>\n",
              "      <td>258817</td>\n",
              "      <td>ButterflyRoom-private bath- open in oct</td>\n",
              "      <td>22296</td>\n",
              "      <td>Diana</td>\n",
              "      <td>NaN</td>\n",
              "      <td>District 12</td>\n",
              "      <td>36.16249</td>\n",
              "      <td>-86.58988</td>\n",
              "      <td>Private room</td>\n",
              "      <td>29</td>\n",
              "      <td>30</td>\n",
              "      <td>96</td>\n",
              "      <td>2019-12-14</td>\n",
              "      <td>1.14</td>\n",
              "      <td>7</td>\n",
              "      <td>276</td>\n",
              "      <td>0</td>\n",
              "      <td>NaN</td>\n",
              "    </tr>\n",
              "    <tr>\n",
              "      <th>3</th>\n",
              "      <td>289242</td>\n",
              "      <td>MorningstarHouse, monthly room- open sept</td>\n",
              "      <td>22296</td>\n",
              "      <td>Diana</td>\n",
              "      <td>NaN</td>\n",
              "      <td>District 12</td>\n",
              "      <td>36.16102</td>\n",
              "      <td>-86.59207</td>\n",
              "      <td>Private room</td>\n",
              "      <td>28</td>\n",
              "      <td>30</td>\n",
              "      <td>76</td>\n",
              "      <td>2019-01-12</td>\n",
              "      <td>0.65</td>\n",
              "      <td>7</td>\n",
              "      <td>325</td>\n",
              "      <td>0</td>\n",
              "      <td>NaN</td>\n",
              "    </tr>\n",
              "    <tr>\n",
              "      <th>4</th>\n",
              "      <td>319705</td>\n",
              "      <td>SuperSweetSTUDIO, jacuzzi, monthly</td>\n",
              "      <td>22296</td>\n",
              "      <td>Diana</td>\n",
              "      <td>NaN</td>\n",
              "      <td>District 12</td>\n",
              "      <td>36.16296</td>\n",
              "      <td>-86.59187</td>\n",
              "      <td>Private room</td>\n",
              "      <td>31</td>\n",
              "      <td>30</td>\n",
              "      <td>48</td>\n",
              "      <td>2020-07-03</td>\n",
              "      <td>0.41</td>\n",
              "      <td>7</td>\n",
              "      <td>347</td>\n",
              "      <td>0</td>\n",
              "      <td>NaN</td>\n",
              "    </tr>\n",
              "  </tbody>\n",
              "</table>\n",
              "</div>"
            ],
            "text/plain": [
              "       id                                            name  host_id host_name  \\\n",
              "0    6422                                 Nashville Charm    12172   Michele   \n",
              "1   25613  Room in Historic East Nashville Craftsman Home    95811      Nell   \n",
              "2  258817         ButterflyRoom-private bath- open in oct    22296     Diana   \n",
              "3  289242       MorningstarHouse, monthly room- open sept    22296     Diana   \n",
              "4  319705              SuperSweetSTUDIO, jacuzzi, monthly    22296     Diana   \n",
              "\n",
              "   neighbourhood_group neighbourhood  latitude  longitude     room_type  \\\n",
              "0                  NaN    District 6  36.17315  -86.73581  Private room   \n",
              "1                  NaN    District 6  36.17826  -86.74162  Private room   \n",
              "2                  NaN   District 12  36.16249  -86.58988  Private room   \n",
              "3                  NaN   District 12  36.16102  -86.59207  Private room   \n",
              "4                  NaN   District 12  36.16296  -86.59187  Private room   \n",
              "\n",
              "   price  minimum_nights  number_of_reviews last_review  reviews_per_month  \\\n",
              "0     40              30                674  2020-03-02               6.72   \n",
              "1     77               2                510  2020-03-14               5.31   \n",
              "2     29              30                 96  2019-12-14               1.14   \n",
              "3     28              30                 76  2019-01-12               0.65   \n",
              "4     31              30                 48  2020-07-03               0.41   \n",
              "\n",
              "   calculated_host_listings_count  availability_365  number_of_reviews_ltm  \\\n",
              "0                               1               123                      0   \n",
              "1                               1               256                      0   \n",
              "2                               7               276                      0   \n",
              "3                               7               325                      0   \n",
              "4                               7               347                      0   \n",
              "\n",
              "   license  \n",
              "0      NaN  \n",
              "1      NaN  \n",
              "2      NaN  \n",
              "3      NaN  \n",
              "4      NaN  "
            ]
          },
          "execution_count": 656,
          "metadata": {},
          "output_type": "execute_result"
        }
      ]
    },
    {
      "cell_type": "markdown",
      "metadata": {
        "id": "6-B_qtEaYEd-"
      },
      "source": [
        "# **1. Quantos atributos (variáveis) e quantas entradas o nosso conjunto de dados possui? Quais os tipos das variáveis?**\n",
        "---"
      ]
    },
    {
      "cell_type": "code",
      "metadata": {
        "id": "TFRK0tniLV-G",
        "outputId": "92d68573-abb5-4d17-faa5-394313a676dd"
      },
      "source": [
        "# Identificando o volume de dados do dataset e posteriormente verificando os tipos das variáveis.\n",
        "\n",
        "print('***************************************************')\n",
        "print('*** O dataset possui {} linhas e {} colunas   ***'.format(dados.shape[0],dados.shape[1]))\n",
        "print('***************************************************')\n",
        "\n",
        "dados.dtypes"
      ],
      "execution_count": null,
      "outputs": [
        {
          "name": "stdout",
          "output_type": "stream",
          "text": [
            "***************************************************\n",
            "*** O dataset possui 6240 linhas e 18 colunas   ***\n",
            "***************************************************\n"
          ]
        },
        {
          "data": {
            "text/plain": [
              "id                                  int64\n",
              "name                               object\n",
              "host_id                             int64\n",
              "host_name                          object\n",
              "neighbourhood_group               float64\n",
              "neighbourhood                      object\n",
              "latitude                          float64\n",
              "longitude                         float64\n",
              "room_type                          object\n",
              "price                               int64\n",
              "minimum_nights                      int64\n",
              "number_of_reviews                   int64\n",
              "last_review                        object\n",
              "reviews_per_month                 float64\n",
              "calculated_host_listings_count      int64\n",
              "availability_365                    int64\n",
              "number_of_reviews_ltm               int64\n",
              "license                           float64\n",
              "dtype: object"
            ]
          },
          "execution_count": 657,
          "metadata": {},
          "output_type": "execute_result"
        }
      ]
    },
    {
      "cell_type": "markdown",
      "metadata": {
        "id": "yz1urSUGW9iE"
      },
      "source": [
        "# **2. Qual a porcentagem de valores ausentes no *dataset*?**\n",
        "---"
      ]
    },
    {
      "cell_type": "code",
      "metadata": {
        "id": "plk2FjbCXOqP",
        "outputId": "5237d03f-000c-4e98-f009-7fdeece7eac3"
      },
      "source": [
        "# Verificando a porcentagem de dados faltantes em cada atributo\n",
        "\n",
        "(dados.isnull().sum() / dados.shape[0]).sort_values(ascending= False) * 100"
      ],
      "execution_count": null,
      "outputs": [
        {
          "data": {
            "text/plain": [
              "license                           100.000000\n",
              "neighbourhood_group               100.000000\n",
              "reviews_per_month                  11.506410\n",
              "last_review                        11.506410\n",
              "host_name                           0.897436\n",
              "longitude                           0.000000\n",
              "name                                0.000000\n",
              "host_id                             0.000000\n",
              "neighbourhood                       0.000000\n",
              "latitude                            0.000000\n",
              "room_type                           0.000000\n",
              "number_of_reviews_ltm               0.000000\n",
              "price                               0.000000\n",
              "minimum_nights                      0.000000\n",
              "number_of_reviews                   0.000000\n",
              "calculated_host_listings_count      0.000000\n",
              "availability_365                    0.000000\n",
              "id                                  0.000000\n",
              "dtype: float64"
            ]
          },
          "execution_count": 658,
          "metadata": {},
          "output_type": "execute_result"
        }
      ]
    },
    {
      "cell_type": "markdown",
      "metadata": {
        "id": "iHXvvHIxaoNc"
      },
      "source": [
        "# **3. Qual o tipo de distribuição das variáveis?** \n",
        "---"
      ]
    },
    {
      "cell_type": "code",
      "metadata": {
        "id": "q2wWSfeRbmBo",
        "outputId": "d174cb13-e9eb-4cef-898e-ad6bbc46a8fe"
      },
      "source": [
        "# Plotando histogramas das variáveis numéricas\n",
        "dados.hist(bins= 15, figsize= (15, 15));"
      ],
      "execution_count": null,
      "outputs": [
        {
          "data": {
            "image/png": "[encoded data removed]",
            "text/plain": [
              "<Figure size 1080x1080 with 16 Axes>"
            ]
          },
          "metadata": {
            "needs_background": "dark"
          },
          "output_type": "display_data"
        }
      ]
    },
    {
      "cell_type": "markdown",
      "metadata": {
        "id": "pjZYrOiHCN1j"
      },
      "source": [
        "---\n",
        "* Vendo os gráficos, logo de cara já percebo outliers em `price` e `minimum_nights`. Como as colunas `neighbourhood_group` e `license` estão com 100% dos dados ausentes, irei excluílos da minha análise\n",
        "---"
      ]
    },
    {
      "cell_type": "code",
      "metadata": {
        "id": "mTUIily0CN1j",
        "outputId": "e0e7eb00-8630-45da-a8bb-3e6e00223ace"
      },
      "source": [
        "dados[['price', 'minimum_nights', 'number_of_reviews', \n",
        "       'reviews_per_month','calculated_host_listings_count', 'availability_365']].describe().round(2)"
      ],
      "execution_count": null,
      "outputs": [
        {
          "data": {
            "text/html": [
              "<div>\n",
              "<style scoped>\n",
              "    .dataframe tbody tr th:only-of-type {\n",
              "        vertical-align: middle;\n",
              "    }\n",
              "\n",
              "    .dataframe tbody tr th {\n",
              "        vertical-align: top;\n",
              "    }\n",
              "\n",
              "    .dataframe thead th {\n",
              "        text-align: right;\n",
              "    }\n",
              "</style>\n",
              "<table border=\"1\" class=\"dataframe\">\n",
              "  <thead>\n",
              "    <tr style=\"text-align: right;\">\n",
              "      <th></th>\n",
              "      <th>price</th>\n",
              "      <th>minimum_nights</th>\n",
              "      <th>number_of_reviews</th>\n",
              "      <th>reviews_per_month</th>\n",
              "      <th>calculated_host_listings_count</th>\n",
              "      <th>availability_365</th>\n",
              "    </tr>\n",
              "  </thead>\n",
              "  <tbody>\n",
              "    <tr>\n",
              "      <th>count</th>\n",
              "      <td>6240.00</td>\n",
              "      <td>6240.00</td>\n",
              "      <td>6240.00</td>\n",
              "      <td>5522.00</td>\n",
              "      <td>6240.00</td>\n",
              "      <td>6240.00</td>\n",
              "    </tr>\n",
              "    <tr>\n",
              "      <th>mean</th>\n",
              "      <td>274.47</td>\n",
              "      <td>7.20</td>\n",
              "      <td>60.40</td>\n",
              "      <td>4.54</td>\n",
              "      <td>18.51</td>\n",
              "      <td>190.65</td>\n",
              "    </tr>\n",
              "    <tr>\n",
              "      <th>std</th>\n",
              "      <td>360.44</td>\n",
              "      <td>19.04</td>\n",
              "      <td>90.21</td>\n",
              "      <td>13.13</td>\n",
              "      <td>33.66</td>\n",
              "      <td>128.72</td>\n",
              "    </tr>\n",
              "    <tr>\n",
              "      <th>min</th>\n",
              "      <td>0.00</td>\n",
              "      <td>1.00</td>\n",
              "      <td>0.00</td>\n",
              "      <td>0.01</td>\n",
              "      <td>1.00</td>\n",
              "      <td>0.00</td>\n",
              "    </tr>\n",
              "    <tr>\n",
              "      <th>25%</th>\n",
              "      <td>118.75</td>\n",
              "      <td>1.00</td>\n",
              "      <td>5.00</td>\n",
              "      <td>1.00</td>\n",
              "      <td>1.00</td>\n",
              "      <td>65.00</td>\n",
              "    </tr>\n",
              "    <tr>\n",
              "      <th>50%</th>\n",
              "      <td>199.00</td>\n",
              "      <td>2.00</td>\n",
              "      <td>27.00</td>\n",
              "      <td>2.29</td>\n",
              "      <td>3.00</td>\n",
              "      <td>204.00</td>\n",
              "    </tr>\n",
              "    <tr>\n",
              "      <th>75%</th>\n",
              "      <td>321.25</td>\n",
              "      <td>3.00</td>\n",
              "      <td>78.00</td>\n",
              "      <td>4.21</td>\n",
              "      <td>17.00</td>\n",
              "      <td>320.00</td>\n",
              "    </tr>\n",
              "    <tr>\n",
              "      <th>max</th>\n",
              "      <td>10000.00</td>\n",
              "      <td>365.00</td>\n",
              "      <td>907.00</td>\n",
              "      <td>493.00</td>\n",
              "      <td>134.00</td>\n",
              "      <td>365.00</td>\n",
              "    </tr>\n",
              "  </tbody>\n",
              "</table>\n",
              "</div>"
            ],
            "text/plain": [
              "          price  minimum_nights  number_of_reviews  reviews_per_month  \\\n",
              "count   6240.00         6240.00            6240.00            5522.00   \n",
              "mean     274.47            7.20              60.40               4.54   \n",
              "std      360.44           19.04              90.21              13.13   \n",
              "min        0.00            1.00               0.00               0.01   \n",
              "25%      118.75            1.00               5.00               1.00   \n",
              "50%      199.00            2.00              27.00               2.29   \n",
              "75%      321.25            3.00              78.00               4.21   \n",
              "max    10000.00          365.00             907.00             493.00   \n",
              "\n",
              "       calculated_host_listings_count  availability_365  \n",
              "count                         6240.00           6240.00  \n",
              "mean                            18.51            190.65  \n",
              "std                             33.66            128.72  \n",
              "min                              1.00              0.00  \n",
              "25%                              1.00             65.00  \n",
              "50%                              3.00            204.00  \n",
              "75%                             17.00            320.00  \n",
              "max                            134.00            365.00  "
            ]
          },
          "execution_count": 660,
          "metadata": {},
          "output_type": "execute_result"
        }
      ]
    },
    {
      "cell_type": "markdown",
      "metadata": {
        "id": "AW1b2-neCN1k"
      },
      "source": [
        "# **Tratando outliers**\n",
        "---"
      ]
    },
    {
      "cell_type": "markdown",
      "metadata": {
        "id": "WiuuqhvECN1k"
      },
      "source": [
        "Sobre os outliers em `price` e `minimum_nights`:\n",
        "\n",
        "* A variável `price` tem o mínimo em 0.\n",
        "* Lembrando que a variável `price` trata do preço da diária dos imóveis em dólares (USD), estamos vendo que o Q3 está em 321 dólares, mas o máximo está em 10 mil dórales. Com certeza, um outlier aqui.\n",
        "* A variável `minimum_nights` tem como seu máximo o valor 365, sendo que o Q3 está em 3. Claramente temos outliers nessa variável.\n",
        "* As variáveis `number_of_reviews`, `calculated_host_listings_count` e `availability_365` também podem conter outliers, porém o objetivo desta análise é conseguir insights observando o preço e a quantidade de noites de cada imóvel\n",
        "\n",
        "\n",
        "\n",
        "\n",
        "Para tratamento dos outliers desse conjunto de dados, fiz uma análise da distribuição estatística, plotei boxplots e calculei os limites utilizando a regra do IQR Score.\n",
        "\n",
        "\n",
        "* O IQR é calculado subtraindo o Terceiro Quartil (75%) pelo Primeiro Quartil (25%). Então com estes valores, podemos descobrir os limites superiores e inferiores do nosso conjunto de dados."
      ]
    },
    {
      "cell_type": "code",
      "metadata": {
        "id": "H1d-5vfHCN1k",
        "outputId": "8d7c35f1-aaaa-4398-a7d9-0443e855ff2f"
      },
      "source": [
        "# Calculando o IQR - Price\n",
        "\n",
        "q1_price = dados.price.quantile(.25)\n",
        "q3_price = dados.price.quantile(.75)\n",
        "IQR_price = q3_price - q1_price\n",
        "print('IQR da variável    \"price\": ', IQR_price)\n",
        "\n",
        "# Definindo os limites                                       \n",
        "sup_price = q3_price + 1.5 * IQR_price\n",
        "inf_price = q1_price - 1.5 * IQR_price\n",
        "\n",
        "print('Limite superior de \"price\": ', sup_price)\n",
        "print('Limite inferior de \"price\": ', inf_price)"
      ],
      "execution_count": null,
      "outputs": [
        {
          "name": "stdout",
          "output_type": "stream",
          "text": [
            "IQR da variável    \"price\":  202.5\n",
            "Limite superior de \"price\":  625.0\n",
            "Limite inferior de \"price\":  -185.0\n"
          ]
        }
      ]
    },
    {
      "cell_type": "code",
      "metadata": {
        "id": "Gs50X1C-CN1l",
        "outputId": "e7a0ece4-c2ef-4001-94ed-c7a7bfc66912"
      },
      "source": [
        "# Calculando o IQR - minimum_nights\n",
        "\n",
        "q1_minimum_nights = dados.minimum_nights.quantile(.25)\n",
        "q3_minimum_nights = dados.minimum_nights.quantile(.75)\n",
        "IQR_minimum_nights = q3_minimum_nights - q1_minimum_nights\n",
        "print('IQR da variável de \"minimum_nights\": ', IQR_minimum_nights)\n",
        "\n",
        "# definindo os limites                                       \n",
        "sup_minimum_nights = q3_minimum_nights + 1.5 * IQR_minimum_nights\n",
        "inf_minimum_nights = q1_minimum_nights - 1.5 * IQR_minimum_nights\n",
        "\n",
        "print('Limite superior de \"minimum_nights\": ', sup_minimum_nights)\n",
        "print('Limite inferior de \"minimum_nights\": ', inf_minimum_nights)"
      ],
      "execution_count": null,
      "outputs": [
        {
          "name": "stdout",
          "output_type": "stream",
          "text": [
            "IQR da variável de \"minimum_nights\":  2.0\n",
            "Limite superior de \"minimum_nights\":  6.0\n",
            "Limite inferior de \"minimum_nights\":  -2.0\n"
          ]
        }
      ]
    },
    {
      "cell_type": "markdown",
      "metadata": {
        "id": "mFWd66dpCN1l"
      },
      "source": [
        "---\n",
        "* **Limites inferiores a 0 quer dizer que não temos outliers negativos. Mas ainda sim, na variável price, preciso remover o valor 0. Apesar de não ser um outlier, não é condizente com a realidade.**\n",
        "---"
      ]
    },
    {
      "cell_type": "code",
      "metadata": {
        "id": "tQJVcLEBCN1l",
        "outputId": "e907f753-e00f-4cbc-a3ed-f86228d6b189"
      },
      "source": [
        "# Conferindo o registro price = 0\n",
        "\n",
        "dados.query('price == 0')"
      ],
      "execution_count": null,
      "outputs": [
        {
          "data": {
            "text/html": [
              "<div>\n",
              "<style scoped>\n",
              "    .dataframe tbody tr th:only-of-type {\n",
              "        vertical-align: middle;\n",
              "    }\n",
              "\n",
              "    .dataframe tbody tr th {\n",
              "        vertical-align: top;\n",
              "    }\n",
              "\n",
              "    .dataframe thead th {\n",
              "        text-align: right;\n",
              "    }\n",
              "</style>\n",
              "<table border=\"1\" class=\"dataframe\">\n",
              "  <thead>\n",
              "    <tr style=\"text-align: right;\">\n",
              "      <th></th>\n",
              "      <th>id</th>\n",
              "      <th>name</th>\n",
              "      <th>host_id</th>\n",
              "      <th>host_name</th>\n",
              "      <th>neighbourhood_group</th>\n",
              "      <th>neighbourhood</th>\n",
              "      <th>latitude</th>\n",
              "      <th>longitude</th>\n",
              "      <th>room_type</th>\n",
              "      <th>price</th>\n",
              "      <th>minimum_nights</th>\n",
              "      <th>number_of_reviews</th>\n",
              "      <th>last_review</th>\n",
              "      <th>reviews_per_month</th>\n",
              "      <th>calculated_host_listings_count</th>\n",
              "      <th>availability_365</th>\n",
              "      <th>number_of_reviews_ltm</th>\n",
              "      <th>license</th>\n",
              "    </tr>\n",
              "  </thead>\n",
              "  <tbody>\n",
              "    <tr>\n",
              "      <th>5141</th>\n",
              "      <td>49069442</td>\n",
              "      <td>Hotel Preston</td>\n",
              "      <td>267913366</td>\n",
              "      <td>Hotel</td>\n",
              "      <td>NaN</td>\n",
              "      <td>District 13</td>\n",
              "      <td>36.142962</td>\n",
              "      <td>-86.701838</td>\n",
              "      <td>Hotel room</td>\n",
              "      <td>0</td>\n",
              "      <td>1</td>\n",
              "      <td>289</td>\n",
              "      <td>2021-09-19</td>\n",
              "      <td>13.68</td>\n",
              "      <td>1</td>\n",
              "      <td>0</td>\n",
              "      <td>185</td>\n",
              "      <td>NaN</td>\n",
              "    </tr>\n",
              "  </tbody>\n",
              "</table>\n",
              "</div>"
            ],
            "text/plain": [
              "            id           name    host_id host_name  neighbourhood_group  \\\n",
              "5141  49069442  Hotel Preston  267913366     Hotel                  NaN   \n",
              "\n",
              "     neighbourhood   latitude  longitude   room_type  price  minimum_nights  \\\n",
              "5141   District 13  36.142962 -86.701838  Hotel room      0               1   \n",
              "\n",
              "      number_of_reviews last_review  reviews_per_month  \\\n",
              "5141                289  2021-09-19              13.68   \n",
              "\n",
              "      calculated_host_listings_count  availability_365  number_of_reviews_ltm  \\\n",
              "5141                               1                 0                    185   \n",
              "\n",
              "      license  \n",
              "5141      NaN  "
            ]
          },
          "execution_count": 663,
          "metadata": {},
          "output_type": "execute_result"
        }
      ]
    },
    {
      "cell_type": "markdown",
      "metadata": {
        "id": "JGJZnjX7CN1m"
      },
      "source": [
        "## Boxplot dos outliers - Antes da limpeza\n",
        "---"
      ]
    },
    {
      "cell_type": "code",
      "metadata": {
        "id": "C4udsBGPCN1m",
        "outputId": "f8de0b9c-fb5d-408f-979b-13f1d3d35d6f"
      },
      "source": [
        "#Plotando um boxplot com outliers da coluna Price\n",
        "dados['price'].plot(kind= 'box', vert= False, figsize= (15,3), \n",
        "                    title= 'Boxplot - Price dataset original')\n",
        "\n",
        "# Verificando quantidade de valores acima de 625 para price. Valor do limite superior obtido no IQR.\n",
        "print(\"\\n-> Price: valores acima de 625 \")\n",
        "print(\"-> {} entradas                   \".format(len(dados[dados.price > 625])))\n",
        "print(\"-> {:.4f}%                       \".format((len(dados[dados.price > 625]) / dados.shape[0])*100))"
      ],
      "execution_count": null,
      "outputs": [
        {
          "name": "stdout",
          "output_type": "stream",
          "text": [
            "\n",
            "-> Price: valores acima de 625 \n",
            "-> 429 entradas                   \n",
            "-> 6.8750%                       \n"
          ]
        },
        {
          "data": {
            "image/png": "[encoded data removed]",
            "text/plain": [
              "<Figure size 1080x216 with 1 Axes>"
            ]
          },
          "metadata": {
            "needs_background": "dark"
          },
          "output_type": "display_data"
        }
      ]
    },
    {
      "cell_type": "code",
      "metadata": {
        "id": "bDxoKzIFCN1m",
        "outputId": "621c631a-5f18-43bd-ced4-7e1c3bc274b3"
      },
      "source": [
        "# Plotando um boxplot com outliers da coluna minimum_nights\n",
        "dados.minimum_nights.plot(kind='box', vert=False, figsize=(15, 3),\n",
        "                          title= 'Boxplot - minimum_nights dataset original')\n",
        "\n",
        "\n",
        "# Verificando quantidade de valores acima de 6 diárias para minimum_nights. Valor do limite superior obtido no IQR.\n",
        "print(\"minimum_nights: valores acima de 6:\")\n",
        "print(\"{} entradas\".format(len(dados[dados.minimum_nights > 6])))\n",
        "print(\"{:.4f}%\".format((len(dados[dados.minimum_nights > 6]) / dados.shape[0])*100))"
      ],
      "execution_count": null,
      "outputs": [
        {
          "name": "stdout",
          "output_type": "stream",
          "text": [
            "minimum_nights: valores acima de 6:\n",
            "808 entradas\n",
            "12.9487%\n"
          ]
        },
        {
          "data": {
            "image/png": "[encoded data removed]",
            "text/plain": [
              "<Figure size 1080x216 with 1 Axes>"
            ]
          },
          "metadata": {
            "needs_background": "dark"
          },
          "output_type": "display_data"
        }
      ]
    },
    {
      "cell_type": "markdown",
      "metadata": {
        "id": "HcUzQSWICN1n"
      },
      "source": [
        "---\n",
        "* Usando os limites superiores obtidos no IQR, cortei os dados acima dos valores, nas colunas `price ` & `minimum_nights`.\n",
        "\n",
        "* Apesar de ter uma porcentagem considerável de perda dos dados, optei pela exclusão mesmo assim, priorizando a **qualidade** dos dados. A variável mais afetada foi `minimum_nights`, com 12% de perda.\n",
        "---"
      ]
    },
    {
      "cell_type": "markdown",
      "metadata": {
        "id": "ggBbPgXICN1n"
      },
      "source": [
        "## Limpando os dados\n",
        "---"
      ]
    },
    {
      "cell_type": "code",
      "metadata": {
        "id": "47i5uFhCCN1n",
        "outputId": "9702ab0b-3e33-4e5c-8927-d9db752ec8c1"
      },
      "source": [
        "#Antes de tudo, faço uma cópia do meu dataset\n",
        "dados_filtrados = dados.copy()\n",
        "\n",
        "# Aqui começo a remover os outliers de price e minimum_nights\n",
        "dados_filtrados.drop(dados_filtrados[dados_filtrados['price'] > 625].index,        axis=0, inplace= True)\n",
        "dados_filtrados.drop(dados_filtrados[dados_filtrados['price'] == 0].index,         axis=0, inplace= True)\n",
        "\n",
        "dados_filtrados.drop(dados_filtrados[dados_filtrados['minimum_nights'] > 6].index, axis=0, inplace= True)\n",
        "\n",
        "#Aqui excluo as duas colunas com os valores 100% ausentes\n",
        "dados_filtrados.drop(['neighbourhood_group', 'license'], axis= 1, inplace= True)\n",
        "\n",
        "print('Shape antes da limpeza: ', dados.shape)\n",
        "print('Shape após a limpeza:   ',dados_filtrados.shape)\n",
        "\n",
        "dados_filtrados.hist(bins= 15, figsize=(15,10));"
      ],
      "execution_count": null,
      "outputs": [
        {
          "name": "stdout",
          "output_type": "stream",
          "text": [
            "Shape antes da limpeza:  (6240, 18)\n",
            "Shape após a limpeza:    (5018, 16)\n"
          ]
        },
        {
          "data": {
            "image/png": "[encoded data removed]",
            "text/plain": [
              "<Figure size 1080x720 with 12 Axes>"
            ]
          },
          "metadata": {
            "needs_background": "dark"
          },
          "output_type": "display_data"
        }
      ]
    },
    {
      "cell_type": "code",
      "metadata": {
        "id": "WfXBtZ57CN1n",
        "outputId": "70a3b8c8-81e4-47d2-e3b7-835a35717e6a"
      },
      "source": [
        "#Boxplot - price limpo\n",
        "dados_filtrados['price'].plot(kind= 'box', vert= False, figsize= (15,3), \n",
        "                    title= 'Boxplot - \"Price\" pós limpeza');\n"
      ],
      "execution_count": null,
      "outputs": [
        {
          "data": {
            "image/png": "[encoded data removed]",
            "text/plain": [
              "<Figure size 1080x216 with 1 Axes>"
            ]
          },
          "metadata": {
            "needs_background": "dark"
          },
          "output_type": "display_data"
        }
      ]
    },
    {
      "cell_type": "code",
      "metadata": {
        "id": "1f4nVA4RCN1o",
        "outputId": "f69fe1d6-85e2-43c2-f136-b4cc55d4eb90"
      },
      "source": [
        "# Boxplot - minimum_nights limpo\n",
        "\n",
        "dados_filtrados.minimum_nights.plot(kind='box', vert=False, figsize=(15, 3),\n",
        "                          title= 'Boxplot - \"minimum_nights\" pós limpeza');"
      ],
      "execution_count": null,
      "outputs": [
        {
          "data": {
            "image/png": "[encoded data removed]",
            "text/plain": [
              "<Figure size 1080x216 with 1 Axes>"
            ]
          },
          "metadata": {
            "needs_background": "dark"
          },
          "output_type": "display_data"
        }
      ]
    },
    {
      "cell_type": "markdown",
      "metadata": {
        "id": "7x4aw1j5wNmn"
      },
      "source": [
        "# **4. Qual a média dos preços de aluguel?**\n",
        "---"
      ]
    },
    {
      "cell_type": "code",
      "metadata": {
        "id": "ff-8gUahLk-C",
        "outputId": "2e3033b1-a523-4510-c122-aa69bd605d85"
      },
      "source": [
        "# ver a média da coluna `price``\n",
        "dados['price'].mean()"
      ],
      "execution_count": null,
      "outputs": [
        {
          "data": {
            "text/plain": [
              "274.47083333333336"
            ]
          },
          "execution_count": 669,
          "metadata": {},
          "output_type": "execute_result"
        }
      ]
    },
    {
      "cell_type": "code",
      "metadata": {
        "id": "IFUpJfZLCN1o",
        "outputId": "64d87f63-e396-4460-83a3-bbd385dbfab2"
      },
      "source": [
        "#Aqui eu verifico quantos anúncios existem por bairro\n",
        "dados['neighbourhood'].value_counts()"
      ],
      "execution_count": null,
      "outputs": [
        {
          "data": {
            "text/plain": [
              "District 19    1422\n",
              "District 17     812\n",
              "District 5      621\n",
              "District 21     584\n",
              "District 6      504\n",
              "District 15     315\n",
              "District 7      230\n",
              "District 18     211\n",
              "District 2      182\n",
              "District 20     150\n",
              "District 24     128\n",
              "District 8      126\n",
              "District 16     107\n",
              "District 26      84\n",
              "District 14      76\n",
              "District 13      72\n",
              "District 12      60\n",
              "District 25      54\n",
              "District 1       46\n",
              "District 29      43\n",
              "District 3       42\n",
              "District 30      40\n",
              "District 23      38\n",
              "District 10      36\n",
              "District 4       31\n",
              "District 27      30\n",
              "District 35      28\n",
              "District 22      27\n",
              "District 11      25\n",
              "District 32      23\n",
              "District 33      22\n",
              "District 31      22\n",
              "District 28      21\n",
              "District 9       16\n",
              "District 34      12\n",
              "Name: neighbourhood, dtype: int64"
            ]
          },
          "execution_count": 670,
          "metadata": {},
          "output_type": "execute_result"
        }
      ]
    },
    {
      "cell_type": "markdown",
      "metadata": {
        "id": "IXn2oIo5qx-w"
      },
      "source": [
        "# **5. Qual a correlação existente entre as variáveis?**\n",
        "---"
      ]
    },
    {
      "cell_type": "code",
      "metadata": {
        "id": "x2ayzBajqxyd",
        "outputId": "d4890d82-cd6c-479f-be3d-8491806b9367"
      },
      "source": [
        "#Correlações e heatmap\n",
        "\n",
        "corr = dados_filtrados[['price', 'minimum_nights', 'number_of_reviews', 'reviews_per_month',\n",
        "    'calculated_host_listings_count', 'availability_365']].corr().style.background_gradient(cmap='coolwarm')\n",
        "corr"
      ],
      "execution_count": null,
      "outputs": [
        {
          "data": {
            "text/html": [
              "<style  type=\"text/css\" >\n",
              "#T_3f4db779_471f_11ec_9c8e_98838977630crow0_col0,#T_3f4db779_471f_11ec_9c8e_98838977630crow1_col1,#T_3f4db779_471f_11ec_9c8e_98838977630crow2_col2,#T_3f4db779_471f_11ec_9c8e_98838977630crow3_col3,#T_3f4db779_471f_11ec_9c8e_98838977630crow4_col4,#T_3f4db779_471f_11ec_9c8e_98838977630crow5_col5{\n",
              "            background-color:  #b40426;\n",
              "            color:  #f1f1f1;\n",
              "        }#T_3f4db779_471f_11ec_9c8e_98838977630crow0_col1{\n",
              "            background-color:  #a2c1ff;\n",
              "            color:  #000000;\n",
              "        }#T_3f4db779_471f_11ec_9c8e_98838977630crow0_col2,#T_3f4db779_471f_11ec_9c8e_98838977630crow1_col3,#T_3f4db779_471f_11ec_9c8e_98838977630crow2_col0,#T_3f4db779_471f_11ec_9c8e_98838977630crow2_col1,#T_3f4db779_471f_11ec_9c8e_98838977630crow2_col4,#T_3f4db779_471f_11ec_9c8e_98838977630crow2_col5{\n",
              "            background-color:  #3b4cc0;\n",
              "            color:  #f1f1f1;\n",
              "        }#T_3f4db779_471f_11ec_9c8e_98838977630crow0_col3,#T_3f4db779_471f_11ec_9c8e_98838977630crow3_col1{\n",
              "            background-color:  #455cce;\n",
              "            color:  #f1f1f1;\n",
              "        }#T_3f4db779_471f_11ec_9c8e_98838977630crow0_col4{\n",
              "            background-color:  #7a9df8;\n",
              "            color:  #000000;\n",
              "        }#T_3f4db779_471f_11ec_9c8e_98838977630crow0_col5{\n",
              "            background-color:  #9bbcff;\n",
              "            color:  #000000;\n",
              "        }#T_3f4db779_471f_11ec_9c8e_98838977630crow1_col0,#T_3f4db779_471f_11ec_9c8e_98838977630crow3_col2{\n",
              "            background-color:  #afcafc;\n",
              "            color:  #000000;\n",
              "        }#T_3f4db779_471f_11ec_9c8e_98838977630crow1_col2{\n",
              "            background-color:  #4b64d5;\n",
              "            color:  #f1f1f1;\n",
              "        }#T_3f4db779_471f_11ec_9c8e_98838977630crow1_col4{\n",
              "            background-color:  #6e90f2;\n",
              "            color:  #000000;\n",
              "        }#T_3f4db779_471f_11ec_9c8e_98838977630crow1_col5{\n",
              "            background-color:  #4257c9;\n",
              "            color:  #f1f1f1;\n",
              "        }#T_3f4db779_471f_11ec_9c8e_98838977630crow2_col3{\n",
              "            background-color:  #98b9ff;\n",
              "            color:  #000000;\n",
              "        }#T_3f4db779_471f_11ec_9c8e_98838977630crow3_col0{\n",
              "            background-color:  #6282ea;\n",
              "            color:  #000000;\n",
              "        }#T_3f4db779_471f_11ec_9c8e_98838977630crow3_col4{\n",
              "            background-color:  #5b7ae5;\n",
              "            color:  #000000;\n",
              "        }#T_3f4db779_471f_11ec_9c8e_98838977630crow3_col5{\n",
              "            background-color:  #4358cb;\n",
              "            color:  #f1f1f1;\n",
              "        }#T_3f4db779_471f_11ec_9c8e_98838977630crow4_col0{\n",
              "            background-color:  #89acfd;\n",
              "            color:  #000000;\n",
              "        }#T_3f4db779_471f_11ec_9c8e_98838977630crow4_col1{\n",
              "            background-color:  #6c8ff1;\n",
              "            color:  #000000;\n",
              "        }#T_3f4db779_471f_11ec_9c8e_98838977630crow4_col2{\n",
              "            background-color:  #4961d2;\n",
              "            color:  #f1f1f1;\n",
              "        }#T_3f4db779_471f_11ec_9c8e_98838977630crow4_col3{\n",
              "            background-color:  #4e68d8;\n",
              "            color:  #000000;\n",
              "        }#T_3f4db779_471f_11ec_9c8e_98838977630crow4_col5{\n",
              "            background-color:  #aec9fc;\n",
              "            color:  #000000;\n",
              "        }#T_3f4db779_471f_11ec_9c8e_98838977630crow5_col0{\n",
              "            background-color:  #bfd3f6;\n",
              "            color:  #000000;\n",
              "        }#T_3f4db779_471f_11ec_9c8e_98838977630crow5_col1{\n",
              "            background-color:  #6180e9;\n",
              "            color:  #000000;\n",
              "        }#T_3f4db779_471f_11ec_9c8e_98838977630crow5_col2{\n",
              "            background-color:  #6a8bef;\n",
              "            color:  #000000;\n",
              "        }#T_3f4db779_471f_11ec_9c8e_98838977630crow5_col3{\n",
              "            background-color:  #5673e0;\n",
              "            color:  #000000;\n",
              "        }#T_3f4db779_471f_11ec_9c8e_98838977630crow5_col4{\n",
              "            background-color:  #c5d6f2;\n",
              "            color:  #000000;\n",
              "        }</style><table id=\"T_3f4db779_471f_11ec_9c8e_98838977630c\" ><thead>    <tr>        <th class=\"blank level0\" ></th>        <th class=\"col_heading level0 col0\" >price</th>        <th class=\"col_heading level0 col1\" >minimum_nights</th>        <th class=\"col_heading level0 col2\" >number_of_reviews</th>        <th class=\"col_heading level0 col3\" >reviews_per_month</th>        <th class=\"col_heading level0 col4\" >calculated_host_listings_count</th>        <th class=\"col_heading level0 col5\" >availability_365</th>    </tr></thead><tbody>\n",
              "                <tr>\n",
              "                        <th id=\"T_3f4db779_471f_11ec_9c8e_98838977630clevel0_row0\" class=\"row_heading level0 row0\" >price</th>\n",
              "                        <td id=\"T_3f4db779_471f_11ec_9c8e_98838977630crow0_col0\" class=\"data row0 col0\" >1.000000</td>\n",
              "                        <td id=\"T_3f4db779_471f_11ec_9c8e_98838977630crow0_col1\" class=\"data row0 col1\" >0.201124</td>\n",
              "                        <td id=\"T_3f4db779_471f_11ec_9c8e_98838977630crow0_col2\" class=\"data row0 col2\" >-0.226289</td>\n",
              "                        <td id=\"T_3f4db779_471f_11ec_9c8e_98838977630crow0_col3\" class=\"data row0 col3\" >-0.071290</td>\n",
              "                        <td id=\"T_3f4db779_471f_11ec_9c8e_98838977630crow0_col4\" class=\"data row0 col4\" >0.066388</td>\n",
              "                        <td id=\"T_3f4db779_471f_11ec_9c8e_98838977630crow0_col5\" class=\"data row0 col5\" >0.259752</td>\n",
              "            </tr>\n",
              "            <tr>\n",
              "                        <th id=\"T_3f4db779_471f_11ec_9c8e_98838977630clevel0_row1\" class=\"row_heading level0 row1\" >minimum_nights</th>\n",
              "                        <td id=\"T_3f4db779_471f_11ec_9c8e_98838977630crow1_col0\" class=\"data row1 col0\" >0.201124</td>\n",
              "                        <td id=\"T_3f4db779_471f_11ec_9c8e_98838977630crow1_col1\" class=\"data row1 col1\" >1.000000</td>\n",
              "                        <td id=\"T_3f4db779_471f_11ec_9c8e_98838977630crow1_col2\" class=\"data row1 col2\" >-0.157232</td>\n",
              "                        <td id=\"T_3f4db779_471f_11ec_9c8e_98838977630crow1_col3\" class=\"data row1 col3\" >-0.112647</td>\n",
              "                        <td id=\"T_3f4db779_471f_11ec_9c8e_98838977630crow1_col4\" class=\"data row1 col4\" >0.024175</td>\n",
              "                        <td id=\"T_3f4db779_471f_11ec_9c8e_98838977630crow1_col5\" class=\"data row1 col5\" >-0.015021</td>\n",
              "            </tr>\n",
              "            <tr>\n",
              "                        <th id=\"T_3f4db779_471f_11ec_9c8e_98838977630clevel0_row2\" class=\"row_heading level0 row2\" >number_of_reviews</th>\n",
              "                        <td id=\"T_3f4db779_471f_11ec_9c8e_98838977630crow2_col0\" class=\"data row2 col0\" >-0.226289</td>\n",
              "                        <td id=\"T_3f4db779_471f_11ec_9c8e_98838977630crow2_col1\" class=\"data row2 col1\" >-0.157232</td>\n",
              "                        <td id=\"T_3f4db779_471f_11ec_9c8e_98838977630crow2_col2\" class=\"data row2 col2\" >1.000000</td>\n",
              "                        <td id=\"T_3f4db779_471f_11ec_9c8e_98838977630crow2_col3\" class=\"data row2 col3\" >0.204383</td>\n",
              "                        <td id=\"T_3f4db779_471f_11ec_9c8e_98838977630crow2_col4\" class=\"data row2 col4\" >-0.164742</td>\n",
              "                        <td id=\"T_3f4db779_471f_11ec_9c8e_98838977630crow2_col5\" class=\"data row2 col5\" >-0.042218</td>\n",
              "            </tr>\n",
              "            <tr>\n",
              "                        <th id=\"T_3f4db779_471f_11ec_9c8e_98838977630clevel0_row3\" class=\"row_heading level0 row3\" >reviews_per_month</th>\n",
              "                        <td id=\"T_3f4db779_471f_11ec_9c8e_98838977630crow3_col0\" class=\"data row3 col0\" >-0.071290</td>\n",
              "                        <td id=\"T_3f4db779_471f_11ec_9c8e_98838977630crow3_col1\" class=\"data row3 col1\" >-0.112647</td>\n",
              "                        <td id=\"T_3f4db779_471f_11ec_9c8e_98838977630crow3_col2\" class=\"data row3 col2\" >0.204383</td>\n",
              "                        <td id=\"T_3f4db779_471f_11ec_9c8e_98838977630crow3_col3\" class=\"data row3 col3\" >1.000000</td>\n",
              "                        <td id=\"T_3f4db779_471f_11ec_9c8e_98838977630crow3_col4\" class=\"data row3 col4\" >-0.040802</td>\n",
              "                        <td id=\"T_3f4db779_471f_11ec_9c8e_98838977630crow3_col5\" class=\"data row3 col5\" >-0.012391</td>\n",
              "            </tr>\n",
              "            <tr>\n",
              "                        <th id=\"T_3f4db779_471f_11ec_9c8e_98838977630clevel0_row4\" class=\"row_heading level0 row4\" >calculated_host_listings_count</th>\n",
              "                        <td id=\"T_3f4db779_471f_11ec_9c8e_98838977630crow4_col0\" class=\"data row4 col0\" >0.066388</td>\n",
              "                        <td id=\"T_3f4db779_471f_11ec_9c8e_98838977630crow4_col1\" class=\"data row4 col1\" >0.024175</td>\n",
              "                        <td id=\"T_3f4db779_471f_11ec_9c8e_98838977630crow4_col2\" class=\"data row4 col2\" >-0.164742</td>\n",
              "                        <td id=\"T_3f4db779_471f_11ec_9c8e_98838977630crow4_col3\" class=\"data row4 col3\" >-0.040802</td>\n",
              "                        <td id=\"T_3f4db779_471f_11ec_9c8e_98838977630crow4_col4\" class=\"data row4 col4\" >1.000000</td>\n",
              "                        <td id=\"T_3f4db779_471f_11ec_9c8e_98838977630crow4_col5\" class=\"data row4 col5\" >0.318234</td>\n",
              "            </tr>\n",
              "            <tr>\n",
              "                        <th id=\"T_3f4db779_471f_11ec_9c8e_98838977630clevel0_row5\" class=\"row_heading level0 row5\" >availability_365</th>\n",
              "                        <td id=\"T_3f4db779_471f_11ec_9c8e_98838977630crow5_col0\" class=\"data row5 col0\" >0.259752</td>\n",
              "                        <td id=\"T_3f4db779_471f_11ec_9c8e_98838977630crow5_col1\" class=\"data row5 col1\" >-0.015021</td>\n",
              "                        <td id=\"T_3f4db779_471f_11ec_9c8e_98838977630crow5_col2\" class=\"data row5 col2\" >-0.042218</td>\n",
              "                        <td id=\"T_3f4db779_471f_11ec_9c8e_98838977630crow5_col3\" class=\"data row5 col3\" >-0.012391</td>\n",
              "                        <td id=\"T_3f4db779_471f_11ec_9c8e_98838977630crow5_col4\" class=\"data row5 col4\" >0.318234</td>\n",
              "                        <td id=\"T_3f4db779_471f_11ec_9c8e_98838977630crow5_col5\" class=\"data row5 col5\" >1.000000</td>\n",
              "            </tr>\n",
              "    </tbody></table>"
            ],
            "text/plain": [
              "<pandas.io.formats.style.Styler at 0x1abfbcd9220>"
            ]
          },
          "execution_count": 671,
          "metadata": {},
          "output_type": "execute_result"
        }
      ]
    },
    {
      "cell_type": "markdown",
      "metadata": {
        "id": "7b6RMWpuHKN-"
      },
      "source": [
        "# **6. Qual o tipo de imóvel mais alugado no Airbnb?**\n",
        "---"
      ]
    },
    {
      "cell_type": "code",
      "metadata": {
        "id": "ueLPNWvPHgfB",
        "outputId": "7ea9ad83-53f6-42f2-e31b-386da6c728a5"
      },
      "source": [
        "# mostrar a quantidade de cada tipo de imóvel disponível\n",
        "dados_filtrados['room_type'].value_counts()"
      ],
      "execution_count": null,
      "outputs": [
        {
          "data": {
            "text/plain": [
              "Entire home/apt    4443\n",
              "Private room        511\n",
              "Hotel room           53\n",
              "Shared room          11\n",
              "Name: room_type, dtype: int64"
            ]
          },
          "execution_count": 672,
          "metadata": {},
          "output_type": "execute_result"
        }
      ]
    },
    {
      "cell_type": "code",
      "metadata": {
        "id": "EvwoO-XAHhIm",
        "outputId": "ecb99367-9fd8-4529-d373-2aec802e7494"
      },
      "source": [
        "# mostrar a porcentagem de cada tipo de imóvel disponível\n",
        "(dados_filtrados['room_type'].value_counts() / dados_filtrados.shape[0]) * 100"
      ],
      "execution_count": null,
      "outputs": [
        {
          "data": {
            "text/plain": [
              "Entire home/apt    88.541251\n",
              "Private room       10.183340\n",
              "Hotel room          1.056198\n",
              "Shared room         0.219211\n",
              "Name: room_type, dtype: float64"
            ]
          },
          "execution_count": 673,
          "metadata": {},
          "output_type": "execute_result"
        }
      ]
    },
    {
      "cell_type": "markdown",
      "metadata": {
        "id": "MFa5NbnLJMcd"
      },
      "source": [
        "# **7. Qual a localidade mais cara do dataset?**\n",
        "---"
      ]
    },
    {
      "cell_type": "code",
      "metadata": {
        "id": "MD_xa143JZpi",
        "outputId": "cb830e3e-6ad3-45e1-ebfa-072da52f4b7a"
      },
      "source": [
        "#Aqui eu exibo uma média de preços por bairros\n",
        "\n",
        "dados_filtrados.groupby('neighbourhood').mean()['price'].sort_values(ascending= False).round(2)"
      ],
      "execution_count": null,
      "outputs": [
        {
          "data": {
            "text/plain": [
              "neighbourhood\n",
              "District 2     268.42\n",
              "District 5     261.30\n",
              "District 21    260.89\n",
              "District 17    258.09\n",
              "District 19    249.05\n",
              "District 18    240.99\n",
              "District 20    225.41\n",
              "District 6     212.92\n",
              "District 24    207.75\n",
              "District 3     203.56\n",
              "District 25    198.64\n",
              "District 1     183.84\n",
              "District 15    182.01\n",
              "District 13    181.22\n",
              "District 10    181.00\n",
              "District 7     179.07\n",
              "District 29    174.81\n",
              "District 8     173.58\n",
              "District 23    171.00\n",
              "District 14    167.28\n",
              "District 22    166.54\n",
              "District 16    151.19\n",
              "District 12    149.30\n",
              "District 26    147.65\n",
              "District 33    146.83\n",
              "District 11    142.46\n",
              "District 30    129.58\n",
              "District 35    126.80\n",
              "District 4     126.19\n",
              "District 9     126.14\n",
              "District 27    124.88\n",
              "District 32    120.57\n",
              "District 34    117.00\n",
              "District 28    112.41\n",
              "District 31     81.30\n",
              "Name: price, dtype: float64"
            ]
          },
          "execution_count": 674,
          "metadata": {},
          "output_type": "execute_result"
        }
      ]
    },
    {
      "cell_type": "code",
      "metadata": {
        "id": "WAxL5ie_CN1q",
        "outputId": "dc1b1361-78cc-409e-a66d-6ac21b33ad65"
      },
      "source": [
        "# Exibindo os 5 primeiros bairros com mais anúncios\n",
        "dados_filtrados['neighbourhood'].value_counts().head()"
      ],
      "execution_count": null,
      "outputs": [
        {
          "data": {
            "text/plain": [
              "District 19    1214\n",
              "District 17     649\n",
              "District 5      529\n",
              "District 21     461\n",
              "District 6      424\n",
              "Name: neighbourhood, dtype: int64"
            ]
          },
          "execution_count": 675,
          "metadata": {},
          "output_type": "execute_result"
        }
      ]
    },
    {
      "cell_type": "markdown",
      "metadata": {
        "id": "C6N42_P7CN1q"
      },
      "source": [
        "# **Tratando dados nulos**\n",
        "---"
      ]
    },
    {
      "cell_type": "code",
      "metadata": {
        "id": "jD3zyaATCN1q",
        "outputId": "b20b6170-10ee-4b65-a7fa-55f9943d44d1"
      },
      "source": [
        "dados_filtrados.isnull().sum()"
      ],
      "execution_count": null,
      "outputs": [
        {
          "data": {
            "text/plain": [
              "id                                  0\n",
              "name                                0\n",
              "host_id                             0\n",
              "host_name                          56\n",
              "neighbourhood                       0\n",
              "latitude                            0\n",
              "longitude                           0\n",
              "room_type                           0\n",
              "price                               0\n",
              "minimum_nights                      0\n",
              "number_of_reviews                   0\n",
              "last_review                       361\n",
              "reviews_per_month                 361\n",
              "calculated_host_listings_count      0\n",
              "availability_365                    0\n",
              "number_of_reviews_ltm               0\n",
              "dtype: int64"
            ]
          },
          "execution_count": 676,
          "metadata": {},
          "output_type": "execute_result"
        }
      ]
    },
    {
      "cell_type": "markdown",
      "metadata": {
        "id": "VVLPKFPWCN1r"
      },
      "source": [
        "## \"reviews_per_month\""
      ]
    },
    {
      "cell_type": "markdown",
      "metadata": {
        "id": "VUARlMthCN1r"
      },
      "source": [
        "* A coluna `reviews_per_month` são a quantidade de reviews que os imóveis recebem por mês. As entradas nulas eram de imóveis que não tinha recebido nenhum review. Optei por setar o valor 0 para estas entradas."
      ]
    },
    {
      "cell_type": "code",
      "metadata": {
        "id": "LZQ1vEuGCN1r",
        "outputId": "07c29bfb-4e4f-4e2d-be2e-65464fad57f6"
      },
      "source": [
        "#Antes do tratamento\n",
        "dados_filtrados['reviews_per_month'].isnull().sum()"
      ],
      "execution_count": null,
      "outputs": [
        {
          "data": {
            "text/plain": [
              "361"
            ]
          },
          "execution_count": 677,
          "metadata": {},
          "output_type": "execute_result"
        }
      ]
    },
    {
      "cell_type": "code",
      "metadata": {
        "id": "8UGk6YSYCN1r"
      },
      "source": [
        "dados_filtrados['reviews_per_month'].fillna(value= 0, inplace= True)"
      ],
      "execution_count": null,
      "outputs": []
    },
    {
      "cell_type": "code",
      "metadata": {
        "id": "072OTxYHCN1r",
        "outputId": "4492d2e4-b913-4a9c-d9a8-19a82762f926"
      },
      "source": [
        "# Depois do tratamento\n",
        "dados_filtrados['reviews_per_month'].isnull().sum()"
      ],
      "execution_count": null,
      "outputs": [
        {
          "data": {
            "text/plain": [
              "0"
            ]
          },
          "execution_count": 679,
          "metadata": {},
          "output_type": "execute_result"
        }
      ]
    },
    {
      "cell_type": "markdown",
      "metadata": {
        "id": "O9qmvMsNCN1s"
      },
      "source": [
        "## \"last_review\""
      ]
    },
    {
      "cell_type": "code",
      "metadata": {
        "id": "VGZO2ty7CN1s",
        "outputId": "011eaea2-95de-426d-f96d-c0ba2c36e069"
      },
      "source": [
        "#Antes da limpeza\n",
        "dados_filtrados['last_review'].isnull().sum()"
      ],
      "execution_count": null,
      "outputs": [
        {
          "data": {
            "text/plain": [
              "361"
            ]
          },
          "execution_count": 680,
          "metadata": {},
          "output_type": "execute_result"
        }
      ]
    },
    {
      "cell_type": "code",
      "metadata": {
        "id": "uUkOWQk_CN1s"
      },
      "source": [
        "# Convertendo a coluna last_review para tipo datetime.\n",
        "dados_filtrados['last_review'] = pd.to_datetime(dados_filtrados['last_review'], format=\"%Y-%m-%d\")"
      ],
      "execution_count": null,
      "outputs": []
    },
    {
      "cell_type": "code",
      "metadata": {
        "id": "wd9r3o96CN1s",
        "outputId": "d4e485fc-7d04-486b-d350-fb97b9ae95b0"
      },
      "source": [
        "dados_filtrados['last_review'].mean()"
      ],
      "execution_count": null,
      "outputs": [
        {
          "data": {
            "text/plain": [
              "Timestamp('2021-06-11 22:14:14.970997504')"
            ]
          },
          "execution_count": 682,
          "metadata": {},
          "output_type": "execute_result"
        }
      ]
    },
    {
      "cell_type": "markdown",
      "metadata": {
        "id": "HuuTIwjbCN1s"
      },
      "source": [
        "---\n",
        "* Para substituição dos dados nulos, optei por usar a média das datas da coluna\n",
        "\n",
        "* Ao usar o fillna() de maneira direta(só passando a data média obtida acima) na coluna `last_review`, os valores preenchidos foram com dados de horário. Então para manter somente os valores da data, usei o `.dt.date` e em seguida o  `.fillna(value= '2021-6-11')`. Dessa forma fiz com que somente a data fosse substituída\n",
        "---"
      ]
    },
    {
      "cell_type": "code",
      "metadata": {
        "id": "q02uA-l2CN1s"
      },
      "source": [
        "dados_filtrados['last_review'] = dados_filtrados['last_review'].dt.date.fillna(value= '2021-6-11')"
      ],
      "execution_count": null,
      "outputs": []
    },
    {
      "cell_type": "code",
      "metadata": {
        "id": "yP7UOpLYCN1t",
        "outputId": "79d30c7b-2711-4dda-da65-baa916e395c3"
      },
      "source": [
        "#Depois da limpeza\n",
        "dados_filtrados['last_review'].isnull().sum()"
      ],
      "execution_count": null,
      "outputs": [
        {
          "data": {
            "text/plain": [
              "0"
            ]
          },
          "execution_count": 684,
          "metadata": {},
          "output_type": "execute_result"
        }
      ]
    },
    {
      "cell_type": "markdown",
      "metadata": {
        "id": "gKdvgl-RCN1t"
      },
      "source": [
        "## \"host_name\""
      ]
    },
    {
      "cell_type": "markdown",
      "metadata": {
        "id": "ziy6RK2PCN1t"
      },
      "source": [
        "* Neste cenário, como não me é relevante a informação do nome do anfitrião, optei por remover toda coluna.\n",
        "* A remoção de linhas não seria interessante, visto que as outras colunas estão com informações relevantes e resultaria somente em perda de dados."
      ]
    },
    {
      "cell_type": "code",
      "metadata": {
        "id": "6o0SrPEXCN1t",
        "outputId": "bea33c3f-1cda-49eb-b2f6-62b19e4e8ee8"
      },
      "source": [
        "nulos = dados_filtrados['host_name'].isnull()\n",
        "dados_filtrados[nulos]"
      ],
      "execution_count": null,
      "outputs": [
        {
          "data": {
            "text/html": [
              "<div>\n",
              "<style scoped>\n",
              "    .dataframe tbody tr th:only-of-type {\n",
              "        vertical-align: middle;\n",
              "    }\n",
              "\n",
              "    .dataframe tbody tr th {\n",
              "        vertical-align: top;\n",
              "    }\n",
              "\n",
              "    .dataframe thead th {\n",
              "        text-align: right;\n",
              "    }\n",
              "</style>\n",
              "<table border=\"1\" class=\"dataframe\">\n",
              "  <thead>\n",
              "    <tr style=\"text-align: right;\">\n",
              "      <th></th>\n",
              "      <th>id</th>\n",
              "      <th>name</th>\n",
              "      <th>host_id</th>\n",
              "      <th>host_name</th>\n",
              "      <th>neighbourhood</th>\n",
              "      <th>latitude</th>\n",
              "      <th>longitude</th>\n",
              "      <th>room_type</th>\n",
              "      <th>price</th>\n",
              "      <th>minimum_nights</th>\n",
              "      <th>number_of_reviews</th>\n",
              "      <th>last_review</th>\n",
              "      <th>reviews_per_month</th>\n",
              "      <th>calculated_host_listings_count</th>\n",
              "      <th>availability_365</th>\n",
              "      <th>number_of_reviews_ltm</th>\n",
              "    </tr>\n",
              "  </thead>\n",
              "  <tbody>\n",
              "    <tr>\n",
              "      <th>2913</th>\n",
              "      <td>35679923</td>\n",
              "      <td>Sunny Club Wyndham Nashville, 1 Bedroom Suite</td>\n",
              "      <td>194953121</td>\n",
              "      <td>NaN</td>\n",
              "      <td>District 7</td>\n",
              "      <td>36.21944</td>\n",
              "      <td>-86.70746</td>\n",
              "      <td>Entire home/apt</td>\n",
              "      <td>136</td>\n",
              "      <td>2</td>\n",
              "      <td>2</td>\n",
              "      <td>2020-01-01</td>\n",
              "      <td>0.09</td>\n",
              "      <td>56</td>\n",
              "      <td>329</td>\n",
              "      <td>0</td>\n",
              "    </tr>\n",
              "    <tr>\n",
              "      <th>2957</th>\n",
              "      <td>36132444</td>\n",
              "      <td>Commodious Club Wyndham Nashville, 2 Bedroom C...</td>\n",
              "      <td>194953121</td>\n",
              "      <td>NaN</td>\n",
              "      <td>District 15</td>\n",
              "      <td>36.22111</td>\n",
              "      <td>-86.70536</td>\n",
              "      <td>Entire home/apt</td>\n",
              "      <td>170</td>\n",
              "      <td>2</td>\n",
              "      <td>3</td>\n",
              "      <td>2021-04-25</td>\n",
              "      <td>0.15</td>\n",
              "      <td>56</td>\n",
              "      <td>0</td>\n",
              "      <td>2</td>\n",
              "    </tr>\n",
              "    <tr>\n",
              "      <th>3087</th>\n",
              "      <td>37599205</td>\n",
              "      <td>Sunny Club Wyndham Nashville, 2 Bedroom Condo</td>\n",
              "      <td>194953121</td>\n",
              "      <td>NaN</td>\n",
              "      <td>District 15</td>\n",
              "      <td>36.21921</td>\n",
              "      <td>-86.70460</td>\n",
              "      <td>Entire home/apt</td>\n",
              "      <td>170</td>\n",
              "      <td>2</td>\n",
              "      <td>2</td>\n",
              "      <td>2021-06-01</td>\n",
              "      <td>0.08</td>\n",
              "      <td>56</td>\n",
              "      <td>0</td>\n",
              "      <td>1</td>\n",
              "    </tr>\n",
              "    <tr>\n",
              "      <th>3217</th>\n",
              "      <td>38716138</td>\n",
              "      <td>Exquisite Club Wyndham Nashville, 1 Bedroom Suite</td>\n",
              "      <td>194953121</td>\n",
              "      <td>NaN</td>\n",
              "      <td>District 7</td>\n",
              "      <td>36.22098</td>\n",
              "      <td>-86.70790</td>\n",
              "      <td>Entire home/apt</td>\n",
              "      <td>136</td>\n",
              "      <td>2</td>\n",
              "      <td>10</td>\n",
              "      <td>2021-09-19</td>\n",
              "      <td>7.32</td>\n",
              "      <td>56</td>\n",
              "      <td>324</td>\n",
              "      <td>8</td>\n",
              "    </tr>\n",
              "    <tr>\n",
              "      <th>3282</th>\n",
              "      <td>39280367</td>\n",
              "      <td>Club Wyndham Nashville, Tennessee, 1 Bedroom S...</td>\n",
              "      <td>194953121</td>\n",
              "      <td>NaN</td>\n",
              "      <td>District 7</td>\n",
              "      <td>36.22087</td>\n",
              "      <td>-86.70782</td>\n",
              "      <td>Entire home/apt</td>\n",
              "      <td>136</td>\n",
              "      <td>2</td>\n",
              "      <td>1</td>\n",
              "      <td>2020-01-01</td>\n",
              "      <td>0.05</td>\n",
              "      <td>56</td>\n",
              "      <td>324</td>\n",
              "      <td>0</td>\n",
              "    </tr>\n",
              "    <tr>\n",
              "      <th>3283</th>\n",
              "      <td>39280370</td>\n",
              "      <td>Extravagant Club Wyndham Nashville, 1 Bedroom</td>\n",
              "      <td>194953121</td>\n",
              "      <td>NaN</td>\n",
              "      <td>District 7</td>\n",
              "      <td>36.21996</td>\n",
              "      <td>-86.70783</td>\n",
              "      <td>Entire home/apt</td>\n",
              "      <td>136</td>\n",
              "      <td>2</td>\n",
              "      <td>0</td>\n",
              "      <td>2021-6-11</td>\n",
              "      <td>0.00</td>\n",
              "      <td>56</td>\n",
              "      <td>332</td>\n",
              "      <td>0</td>\n",
              "    </tr>\n",
              "    <tr>\n",
              "      <th>3284</th>\n",
              "      <td>39280372</td>\n",
              "      <td>Exquisite Club Wyndham Nashville, 1 Bedroom Suite</td>\n",
              "      <td>194953121</td>\n",
              "      <td>NaN</td>\n",
              "      <td>District 15</td>\n",
              "      <td>36.21973</td>\n",
              "      <td>-86.70599</td>\n",
              "      <td>Entire home/apt</td>\n",
              "      <td>136</td>\n",
              "      <td>3</td>\n",
              "      <td>2</td>\n",
              "      <td>2021-08-25</td>\n",
              "      <td>0.40</td>\n",
              "      <td>56</td>\n",
              "      <td>331</td>\n",
              "      <td>2</td>\n",
              "    </tr>\n",
              "    <tr>\n",
              "      <th>3285</th>\n",
              "      <td>39280375</td>\n",
              "      <td>Sunny Club Wyndham Nashville, 1 Bedroom Suite</td>\n",
              "      <td>194953121</td>\n",
              "      <td>NaN</td>\n",
              "      <td>District 15</td>\n",
              "      <td>36.22127</td>\n",
              "      <td>-86.70661</td>\n",
              "      <td>Entire home/apt</td>\n",
              "      <td>136</td>\n",
              "      <td>2</td>\n",
              "      <td>1</td>\n",
              "      <td>2020-02-01</td>\n",
              "      <td>0.05</td>\n",
              "      <td>56</td>\n",
              "      <td>331</td>\n",
              "      <td>0</td>\n",
              "    </tr>\n",
              "    <tr>\n",
              "      <th>3286</th>\n",
              "      <td>39280377</td>\n",
              "      <td>Exquisite Club Wyndham Nashville, 1 Bedroom Suite</td>\n",
              "      <td>194953121</td>\n",
              "      <td>NaN</td>\n",
              "      <td>District 15</td>\n",
              "      <td>36.21932</td>\n",
              "      <td>-86.70678</td>\n",
              "      <td>Entire home/apt</td>\n",
              "      <td>136</td>\n",
              "      <td>4</td>\n",
              "      <td>0</td>\n",
              "      <td>2021-6-11</td>\n",
              "      <td>0.00</td>\n",
              "      <td>56</td>\n",
              "      <td>324</td>\n",
              "      <td>0</td>\n",
              "    </tr>\n",
              "    <tr>\n",
              "      <th>3287</th>\n",
              "      <td>39280378</td>\n",
              "      <td>Extravagant Club Wyndham Nashville, 1 Bedroom</td>\n",
              "      <td>194953121</td>\n",
              "      <td>NaN</td>\n",
              "      <td>District 7</td>\n",
              "      <td>36.21958</td>\n",
              "      <td>-86.70813</td>\n",
              "      <td>Entire home/apt</td>\n",
              "      <td>136</td>\n",
              "      <td>2</td>\n",
              "      <td>0</td>\n",
              "      <td>2021-6-11</td>\n",
              "      <td>0.00</td>\n",
              "      <td>56</td>\n",
              "      <td>328</td>\n",
              "      <td>0</td>\n",
              "    </tr>\n",
              "    <tr>\n",
              "      <th>3288</th>\n",
              "      <td>39280383</td>\n",
              "      <td>Extravagant Club Wyndham Nashville, 2 Bedroom</td>\n",
              "      <td>194953121</td>\n",
              "      <td>NaN</td>\n",
              "      <td>District 15</td>\n",
              "      <td>36.21939</td>\n",
              "      <td>-86.70422</td>\n",
              "      <td>Entire home/apt</td>\n",
              "      <td>170</td>\n",
              "      <td>2</td>\n",
              "      <td>1</td>\n",
              "      <td>2020-08-15</td>\n",
              "      <td>0.07</td>\n",
              "      <td>56</td>\n",
              "      <td>0</td>\n",
              "      <td>0</td>\n",
              "    </tr>\n",
              "    <tr>\n",
              "      <th>3289</th>\n",
              "      <td>39280384</td>\n",
              "      <td>Spacious Club Wyndham Nashville, 2 Bedroom Condo</td>\n",
              "      <td>194953121</td>\n",
              "      <td>NaN</td>\n",
              "      <td>District 15</td>\n",
              "      <td>36.22079</td>\n",
              "      <td>-86.70383</td>\n",
              "      <td>Entire home/apt</td>\n",
              "      <td>170</td>\n",
              "      <td>3</td>\n",
              "      <td>1</td>\n",
              "      <td>2021-05-02</td>\n",
              "      <td>0.21</td>\n",
              "      <td>56</td>\n",
              "      <td>0</td>\n",
              "      <td>1</td>\n",
              "    </tr>\n",
              "    <tr>\n",
              "      <th>3290</th>\n",
              "      <td>39280386</td>\n",
              "      <td>Exquisite Club Wyndham Nashville, 2 Bedroom Condo</td>\n",
              "      <td>194953121</td>\n",
              "      <td>NaN</td>\n",
              "      <td>District 15</td>\n",
              "      <td>36.22126</td>\n",
              "      <td>-86.70399</td>\n",
              "      <td>Entire home/apt</td>\n",
              "      <td>170</td>\n",
              "      <td>3</td>\n",
              "      <td>0</td>\n",
              "      <td>2021-6-11</td>\n",
              "      <td>0.00</td>\n",
              "      <td>56</td>\n",
              "      <td>0</td>\n",
              "      <td>0</td>\n",
              "    </tr>\n",
              "    <tr>\n",
              "      <th>3291</th>\n",
              "      <td>39280389</td>\n",
              "      <td>Club Wyndham Nashville, Tennessee, 2 Bedroom C...</td>\n",
              "      <td>194953121</td>\n",
              "      <td>NaN</td>\n",
              "      <td>District 15</td>\n",
              "      <td>36.22096</td>\n",
              "      <td>-86.70421</td>\n",
              "      <td>Entire home/apt</td>\n",
              "      <td>170</td>\n",
              "      <td>4</td>\n",
              "      <td>0</td>\n",
              "      <td>2021-6-11</td>\n",
              "      <td>0.00</td>\n",
              "      <td>56</td>\n",
              "      <td>0</td>\n",
              "      <td>0</td>\n",
              "    </tr>\n",
              "    <tr>\n",
              "      <th>3292</th>\n",
              "      <td>39280394</td>\n",
              "      <td>Sunny Club Wyndham Nashville, 2 Bedroom Condo</td>\n",
              "      <td>194953121</td>\n",
              "      <td>NaN</td>\n",
              "      <td>District 15</td>\n",
              "      <td>36.22090</td>\n",
              "      <td>-86.70414</td>\n",
              "      <td>Entire home/apt</td>\n",
              "      <td>170</td>\n",
              "      <td>4</td>\n",
              "      <td>0</td>\n",
              "      <td>2021-6-11</td>\n",
              "      <td>0.00</td>\n",
              "      <td>56</td>\n",
              "      <td>5</td>\n",
              "      <td>0</td>\n",
              "    </tr>\n",
              "    <tr>\n",
              "      <th>3293</th>\n",
              "      <td>39280396</td>\n",
              "      <td>Sunny Club Wyndham Nashville, 2 Bedroom Condo</td>\n",
              "      <td>194953121</td>\n",
              "      <td>NaN</td>\n",
              "      <td>District 15</td>\n",
              "      <td>36.21938</td>\n",
              "      <td>-86.70565</td>\n",
              "      <td>Entire home/apt</td>\n",
              "      <td>170</td>\n",
              "      <td>5</td>\n",
              "      <td>0</td>\n",
              "      <td>2021-6-11</td>\n",
              "      <td>0.00</td>\n",
              "      <td>56</td>\n",
              "      <td>0</td>\n",
              "      <td>0</td>\n",
              "    </tr>\n",
              "    <tr>\n",
              "      <th>3361</th>\n",
              "      <td>39915659</td>\n",
              "      <td>Club Wyndham Nashville, Tennessee, 2 Bedroom C...</td>\n",
              "      <td>194953121</td>\n",
              "      <td>NaN</td>\n",
              "      <td>District 15</td>\n",
              "      <td>36.22073</td>\n",
              "      <td>-86.70380</td>\n",
              "      <td>Entire home/apt</td>\n",
              "      <td>170</td>\n",
              "      <td>4</td>\n",
              "      <td>6</td>\n",
              "      <td>2021-01-02</td>\n",
              "      <td>0.30</td>\n",
              "      <td>56</td>\n",
              "      <td>0</td>\n",
              "      <td>3</td>\n",
              "    </tr>\n",
              "    <tr>\n",
              "      <th>3508</th>\n",
              "      <td>40805104</td>\n",
              "      <td>Commodious Club Wyndham Nashville, 2 Bedroom C...</td>\n",
              "      <td>194953121</td>\n",
              "      <td>NaN</td>\n",
              "      <td>District 15</td>\n",
              "      <td>36.21934</td>\n",
              "      <td>-86.70505</td>\n",
              "      <td>Entire home/apt</td>\n",
              "      <td>170</td>\n",
              "      <td>2</td>\n",
              "      <td>4</td>\n",
              "      <td>2020-11-22</td>\n",
              "      <td>0.20</td>\n",
              "      <td>56</td>\n",
              "      <td>0</td>\n",
              "      <td>1</td>\n",
              "    </tr>\n",
              "    <tr>\n",
              "      <th>3598</th>\n",
              "      <td>41564194</td>\n",
              "      <td>Club Wyndham Nashville, Tennessee, 2 Bedroom C...</td>\n",
              "      <td>194953121</td>\n",
              "      <td>NaN</td>\n",
              "      <td>District 15</td>\n",
              "      <td>36.21938</td>\n",
              "      <td>-86.70560</td>\n",
              "      <td>Entire home/apt</td>\n",
              "      <td>170</td>\n",
              "      <td>2</td>\n",
              "      <td>0</td>\n",
              "      <td>2021-6-11</td>\n",
              "      <td>0.00</td>\n",
              "      <td>56</td>\n",
              "      <td>0</td>\n",
              "      <td>0</td>\n",
              "    </tr>\n",
              "    <tr>\n",
              "      <th>3599</th>\n",
              "      <td>41564610</td>\n",
              "      <td>Commodious Club Wyndham Nashville, 2 Bedroom C...</td>\n",
              "      <td>194953121</td>\n",
              "      <td>NaN</td>\n",
              "      <td>District 15</td>\n",
              "      <td>36.21971</td>\n",
              "      <td>-86.70455</td>\n",
              "      <td>Entire home/apt</td>\n",
              "      <td>170</td>\n",
              "      <td>4</td>\n",
              "      <td>0</td>\n",
              "      <td>2021-6-11</td>\n",
              "      <td>0.00</td>\n",
              "      <td>56</td>\n",
              "      <td>0</td>\n",
              "      <td>0</td>\n",
              "    </tr>\n",
              "    <tr>\n",
              "      <th>3621</th>\n",
              "      <td>41743180</td>\n",
              "      <td>Club Wyndham Nashville, Tennessee, 2 Bedroom C...</td>\n",
              "      <td>194953121</td>\n",
              "      <td>NaN</td>\n",
              "      <td>District 15</td>\n",
              "      <td>36.21953</td>\n",
              "      <td>-86.70429</td>\n",
              "      <td>Entire home/apt</td>\n",
              "      <td>170</td>\n",
              "      <td>5</td>\n",
              "      <td>3</td>\n",
              "      <td>2020-12-22</td>\n",
              "      <td>0.20</td>\n",
              "      <td>56</td>\n",
              "      <td>0</td>\n",
              "      <td>1</td>\n",
              "    </tr>\n",
              "    <tr>\n",
              "      <th>3622</th>\n",
              "      <td>41743197</td>\n",
              "      <td>Extravagant Club Wyndham Nashville, 1 Bedroom</td>\n",
              "      <td>194953121</td>\n",
              "      <td>NaN</td>\n",
              "      <td>District 15</td>\n",
              "      <td>36.22117</td>\n",
              "      <td>-86.70608</td>\n",
              "      <td>Entire home/apt</td>\n",
              "      <td>136</td>\n",
              "      <td>2</td>\n",
              "      <td>2</td>\n",
              "      <td>2021-08-19</td>\n",
              "      <td>0.44</td>\n",
              "      <td>56</td>\n",
              "      <td>330</td>\n",
              "      <td>2</td>\n",
              "    </tr>\n",
              "    <tr>\n",
              "      <th>3623</th>\n",
              "      <td>41743201</td>\n",
              "      <td>Club Wyndham Nashville, Tennessee, 1 Bedroom S...</td>\n",
              "      <td>194953121</td>\n",
              "      <td>NaN</td>\n",
              "      <td>District 7</td>\n",
              "      <td>36.21941</td>\n",
              "      <td>-86.70740</td>\n",
              "      <td>Entire home/apt</td>\n",
              "      <td>136</td>\n",
              "      <td>2</td>\n",
              "      <td>2</td>\n",
              "      <td>2021-08-01</td>\n",
              "      <td>0.46</td>\n",
              "      <td>56</td>\n",
              "      <td>331</td>\n",
              "      <td>2</td>\n",
              "    </tr>\n",
              "    <tr>\n",
              "      <th>3624</th>\n",
              "      <td>41743204</td>\n",
              "      <td>Club Wyndham Nashville, Tennessee, 1 Bedroom S...</td>\n",
              "      <td>194953121</td>\n",
              "      <td>NaN</td>\n",
              "      <td>District 7</td>\n",
              "      <td>36.22109</td>\n",
              "      <td>-86.70821</td>\n",
              "      <td>Entire home/apt</td>\n",
              "      <td>136</td>\n",
              "      <td>3</td>\n",
              "      <td>0</td>\n",
              "      <td>2021-6-11</td>\n",
              "      <td>0.00</td>\n",
              "      <td>56</td>\n",
              "      <td>333</td>\n",
              "      <td>0</td>\n",
              "    </tr>\n",
              "    <tr>\n",
              "      <th>3681</th>\n",
              "      <td>42094266</td>\n",
              "      <td>Exquisite Club Wyndham Nashville, 1 Bedroom Suite</td>\n",
              "      <td>194953121</td>\n",
              "      <td>NaN</td>\n",
              "      <td>District 15</td>\n",
              "      <td>36.22138</td>\n",
              "      <td>-86.70603</td>\n",
              "      <td>Entire home/apt</td>\n",
              "      <td>136</td>\n",
              "      <td>2</td>\n",
              "      <td>1</td>\n",
              "      <td>2021-08-09</td>\n",
              "      <td>0.68</td>\n",
              "      <td>56</td>\n",
              "      <td>331</td>\n",
              "      <td>1</td>\n",
              "    </tr>\n",
              "    <tr>\n",
              "      <th>3682</th>\n",
              "      <td>42094271</td>\n",
              "      <td>Club Wyndham Nashville, Tennessee, 1 Bedroom S...</td>\n",
              "      <td>194953121</td>\n",
              "      <td>NaN</td>\n",
              "      <td>District 7</td>\n",
              "      <td>36.21996</td>\n",
              "      <td>-86.70739</td>\n",
              "      <td>Entire home/apt</td>\n",
              "      <td>136</td>\n",
              "      <td>2</td>\n",
              "      <td>0</td>\n",
              "      <td>2021-6-11</td>\n",
              "      <td>0.00</td>\n",
              "      <td>56</td>\n",
              "      <td>329</td>\n",
              "      <td>0</td>\n",
              "    </tr>\n",
              "    <tr>\n",
              "      <th>3683</th>\n",
              "      <td>42094272</td>\n",
              "      <td>Exquisite Club Wyndham Nashville, 2 Bedroom Condo</td>\n",
              "      <td>194953121</td>\n",
              "      <td>NaN</td>\n",
              "      <td>District 15</td>\n",
              "      <td>36.21981</td>\n",
              "      <td>-86.70390</td>\n",
              "      <td>Entire home/apt</td>\n",
              "      <td>170</td>\n",
              "      <td>3</td>\n",
              "      <td>0</td>\n",
              "      <td>2021-6-11</td>\n",
              "      <td>0.00</td>\n",
              "      <td>56</td>\n",
              "      <td>0</td>\n",
              "      <td>0</td>\n",
              "    </tr>\n",
              "    <tr>\n",
              "      <th>3684</th>\n",
              "      <td>42094285</td>\n",
              "      <td>Club Wyndham Nashville, Tennessee, 2 Bedroom C...</td>\n",
              "      <td>194953121</td>\n",
              "      <td>NaN</td>\n",
              "      <td>District 15</td>\n",
              "      <td>36.21984</td>\n",
              "      <td>-86.70374</td>\n",
              "      <td>Entire home/apt</td>\n",
              "      <td>170</td>\n",
              "      <td>4</td>\n",
              "      <td>0</td>\n",
              "      <td>2021-6-11</td>\n",
              "      <td>0.00</td>\n",
              "      <td>56</td>\n",
              "      <td>0</td>\n",
              "      <td>0</td>\n",
              "    </tr>\n",
              "    <tr>\n",
              "      <th>3685</th>\n",
              "      <td>42094288</td>\n",
              "      <td>Commodious Club Wyndham Nashville, 2 Bedroom C...</td>\n",
              "      <td>194953121</td>\n",
              "      <td>NaN</td>\n",
              "      <td>District 15</td>\n",
              "      <td>36.22139</td>\n",
              "      <td>-86.70435</td>\n",
              "      <td>Entire home/apt</td>\n",
              "      <td>170</td>\n",
              "      <td>5</td>\n",
              "      <td>1</td>\n",
              "      <td>2020-12-05</td>\n",
              "      <td>0.10</td>\n",
              "      <td>56</td>\n",
              "      <td>0</td>\n",
              "      <td>1</td>\n",
              "    </tr>\n",
              "    <tr>\n",
              "      <th>3735</th>\n",
              "      <td>42323519</td>\n",
              "      <td>Margaritaville Vacation Club, South Nashville</td>\n",
              "      <td>194953121</td>\n",
              "      <td>NaN</td>\n",
              "      <td>District 19</td>\n",
              "      <td>36.15609</td>\n",
              "      <td>-86.77639</td>\n",
              "      <td>Entire home/apt</td>\n",
              "      <td>320</td>\n",
              "      <td>2</td>\n",
              "      <td>0</td>\n",
              "      <td>2021-6-11</td>\n",
              "      <td>0.00</td>\n",
              "      <td>56</td>\n",
              "      <td>300</td>\n",
              "      <td>0</td>\n",
              "    </tr>\n",
              "    <tr>\n",
              "      <th>3736</th>\n",
              "      <td>42323520</td>\n",
              "      <td>Lavish Margaritaville Vacation Club, Studio</td>\n",
              "      <td>194953121</td>\n",
              "      <td>NaN</td>\n",
              "      <td>District 19</td>\n",
              "      <td>36.15443</td>\n",
              "      <td>-86.77610</td>\n",
              "      <td>Entire home/apt</td>\n",
              "      <td>320</td>\n",
              "      <td>2</td>\n",
              "      <td>0</td>\n",
              "      <td>2021-6-11</td>\n",
              "      <td>0.00</td>\n",
              "      <td>56</td>\n",
              "      <td>305</td>\n",
              "      <td>0</td>\n",
              "    </tr>\n",
              "    <tr>\n",
              "      <th>3737</th>\n",
              "      <td>42323522</td>\n",
              "      <td>Margaritaville Vacation Club by Wyndham</td>\n",
              "      <td>194953121</td>\n",
              "      <td>NaN</td>\n",
              "      <td>District 19</td>\n",
              "      <td>36.15630</td>\n",
              "      <td>-86.77468</td>\n",
              "      <td>Entire home/apt</td>\n",
              "      <td>320</td>\n",
              "      <td>2</td>\n",
              "      <td>2</td>\n",
              "      <td>2021-07-23</td>\n",
              "      <td>0.14</td>\n",
              "      <td>56</td>\n",
              "      <td>305</td>\n",
              "      <td>1</td>\n",
              "    </tr>\n",
              "    <tr>\n",
              "      <th>3738</th>\n",
              "      <td>42323523</td>\n",
              "      <td>Margaritaville Vacation Club, South Nashville</td>\n",
              "      <td>194953121</td>\n",
              "      <td>NaN</td>\n",
              "      <td>District 19</td>\n",
              "      <td>36.15434</td>\n",
              "      <td>-86.77477</td>\n",
              "      <td>Entire home/apt</td>\n",
              "      <td>320</td>\n",
              "      <td>3</td>\n",
              "      <td>0</td>\n",
              "      <td>2021-6-11</td>\n",
              "      <td>0.00</td>\n",
              "      <td>56</td>\n",
              "      <td>299</td>\n",
              "      <td>0</td>\n",
              "    </tr>\n",
              "    <tr>\n",
              "      <th>3739</th>\n",
              "      <td>42323525</td>\n",
              "      <td>Margaritaville Vacation Club, Studio Deluxe</td>\n",
              "      <td>194953121</td>\n",
              "      <td>NaN</td>\n",
              "      <td>District 19</td>\n",
              "      <td>36.15578</td>\n",
              "      <td>-86.77650</td>\n",
              "      <td>Entire home/apt</td>\n",
              "      <td>320</td>\n",
              "      <td>3</td>\n",
              "      <td>0</td>\n",
              "      <td>2021-6-11</td>\n",
              "      <td>0.00</td>\n",
              "      <td>56</td>\n",
              "      <td>300</td>\n",
              "      <td>0</td>\n",
              "    </tr>\n",
              "    <tr>\n",
              "      <th>3740</th>\n",
              "      <td>42323533</td>\n",
              "      <td>Lavish Margaritaville Vacation Club, Studio De...</td>\n",
              "      <td>194953121</td>\n",
              "      <td>NaN</td>\n",
              "      <td>District 19</td>\n",
              "      <td>36.15586</td>\n",
              "      <td>-86.77653</td>\n",
              "      <td>Entire home/apt</td>\n",
              "      <td>320</td>\n",
              "      <td>4</td>\n",
              "      <td>0</td>\n",
              "      <td>2021-6-11</td>\n",
              "      <td>0.00</td>\n",
              "      <td>56</td>\n",
              "      <td>297</td>\n",
              "      <td>0</td>\n",
              "    </tr>\n",
              "    <tr>\n",
              "      <th>3741</th>\n",
              "      <td>42323536</td>\n",
              "      <td>Margaritaville Vacation Club, South Nashville</td>\n",
              "      <td>194953121</td>\n",
              "      <td>NaN</td>\n",
              "      <td>District 19</td>\n",
              "      <td>36.15585</td>\n",
              "      <td>-86.77687</td>\n",
              "      <td>Entire home/apt</td>\n",
              "      <td>320</td>\n",
              "      <td>4</td>\n",
              "      <td>1</td>\n",
              "      <td>2020-10-20</td>\n",
              "      <td>0.09</td>\n",
              "      <td>56</td>\n",
              "      <td>295</td>\n",
              "      <td>1</td>\n",
              "    </tr>\n",
              "    <tr>\n",
              "      <th>3742</th>\n",
              "      <td>42323548</td>\n",
              "      <td>Margaritaville Vacation Club, Studio Deluxe</td>\n",
              "      <td>194953121</td>\n",
              "      <td>NaN</td>\n",
              "      <td>District 19</td>\n",
              "      <td>36.15500</td>\n",
              "      <td>-86.77513</td>\n",
              "      <td>Entire home/apt</td>\n",
              "      <td>320</td>\n",
              "      <td>3</td>\n",
              "      <td>0</td>\n",
              "      <td>2021-6-11</td>\n",
              "      <td>0.00</td>\n",
              "      <td>56</td>\n",
              "      <td>296</td>\n",
              "      <td>0</td>\n",
              "    </tr>\n",
              "    <tr>\n",
              "      <th>3917</th>\n",
              "      <td>43241371</td>\n",
              "      <td>Wyndham Nashville - 4 Bedroom Presidential</td>\n",
              "      <td>194953121</td>\n",
              "      <td>NaN</td>\n",
              "      <td>District 15</td>\n",
              "      <td>36.21960</td>\n",
              "      <td>-86.70421</td>\n",
              "      <td>Entire home/apt</td>\n",
              "      <td>220</td>\n",
              "      <td>4</td>\n",
              "      <td>0</td>\n",
              "      <td>2021-6-11</td>\n",
              "      <td>0.00</td>\n",
              "      <td>56</td>\n",
              "      <td>0</td>\n",
              "      <td>0</td>\n",
              "    </tr>\n",
              "    <tr>\n",
              "      <th>3918</th>\n",
              "      <td>43241377</td>\n",
              "      <td>Wyndham Nashville - 2 Bedroom Condo</td>\n",
              "      <td>194953121</td>\n",
              "      <td>NaN</td>\n",
              "      <td>District 15</td>\n",
              "      <td>36.22113</td>\n",
              "      <td>-86.70415</td>\n",
              "      <td>Entire home/apt</td>\n",
              "      <td>170</td>\n",
              "      <td>5</td>\n",
              "      <td>0</td>\n",
              "      <td>2021-6-11</td>\n",
              "      <td>0.00</td>\n",
              "      <td>56</td>\n",
              "      <td>0</td>\n",
              "      <td>0</td>\n",
              "    </tr>\n",
              "    <tr>\n",
              "      <th>3919</th>\n",
              "      <td>43241380</td>\n",
              "      <td>Wyndham Nashville - 2 Bedroom Condo</td>\n",
              "      <td>194953121</td>\n",
              "      <td>NaN</td>\n",
              "      <td>District 15</td>\n",
              "      <td>36.21955</td>\n",
              "      <td>-86.70563</td>\n",
              "      <td>Entire home/apt</td>\n",
              "      <td>170</td>\n",
              "      <td>5</td>\n",
              "      <td>1</td>\n",
              "      <td>2021-04-07</td>\n",
              "      <td>0.18</td>\n",
              "      <td>56</td>\n",
              "      <td>0</td>\n",
              "      <td>1</td>\n",
              "    </tr>\n",
              "    <tr>\n",
              "      <th>3920</th>\n",
              "      <td>43241383</td>\n",
              "      <td>Wyndham Nashville - 2 Bedroom Condo</td>\n",
              "      <td>194953121</td>\n",
              "      <td>NaN</td>\n",
              "      <td>District 15</td>\n",
              "      <td>36.22133</td>\n",
              "      <td>-86.70597</td>\n",
              "      <td>Entire home/apt</td>\n",
              "      <td>170</td>\n",
              "      <td>4</td>\n",
              "      <td>1</td>\n",
              "      <td>2021-04-18</td>\n",
              "      <td>0.19</td>\n",
              "      <td>56</td>\n",
              "      <td>0</td>\n",
              "      <td>1</td>\n",
              "    </tr>\n",
              "    <tr>\n",
              "      <th>3921</th>\n",
              "      <td>43241393</td>\n",
              "      <td>Wyndham Nashville - 2 Bedroom Condo</td>\n",
              "      <td>194953121</td>\n",
              "      <td>NaN</td>\n",
              "      <td>District 15</td>\n",
              "      <td>36.22115</td>\n",
              "      <td>-86.70373</td>\n",
              "      <td>Entire home/apt</td>\n",
              "      <td>170</td>\n",
              "      <td>4</td>\n",
              "      <td>1</td>\n",
              "      <td>2021-01-22</td>\n",
              "      <td>0.12</td>\n",
              "      <td>56</td>\n",
              "      <td>0</td>\n",
              "      <td>1</td>\n",
              "    </tr>\n",
              "    <tr>\n",
              "      <th>3922</th>\n",
              "      <td>43241399</td>\n",
              "      <td>Wyndham Nashville - 2 Bedroom Condo</td>\n",
              "      <td>194953121</td>\n",
              "      <td>NaN</td>\n",
              "      <td>District 15</td>\n",
              "      <td>36.22002</td>\n",
              "      <td>-86.70433</td>\n",
              "      <td>Entire home/apt</td>\n",
              "      <td>170</td>\n",
              "      <td>4</td>\n",
              "      <td>3</td>\n",
              "      <td>2020-10-31</td>\n",
              "      <td>0.23</td>\n",
              "      <td>56</td>\n",
              "      <td>0</td>\n",
              "      <td>2</td>\n",
              "    </tr>\n",
              "    <tr>\n",
              "      <th>3923</th>\n",
              "      <td>43241401</td>\n",
              "      <td>Wyndham Nashville - 2 Bedroom Condo</td>\n",
              "      <td>194953121</td>\n",
              "      <td>NaN</td>\n",
              "      <td>District 15</td>\n",
              "      <td>36.22015</td>\n",
              "      <td>-86.70507</td>\n",
              "      <td>Entire home/apt</td>\n",
              "      <td>170</td>\n",
              "      <td>4</td>\n",
              "      <td>0</td>\n",
              "      <td>2021-6-11</td>\n",
              "      <td>0.00</td>\n",
              "      <td>56</td>\n",
              "      <td>0</td>\n",
              "      <td>0</td>\n",
              "    </tr>\n",
              "    <tr>\n",
              "      <th>3924</th>\n",
              "      <td>43241404</td>\n",
              "      <td>Wyndham Nashville - 2 Bedroom Condo</td>\n",
              "      <td>194953121</td>\n",
              "      <td>NaN</td>\n",
              "      <td>District 15</td>\n",
              "      <td>36.21947</td>\n",
              "      <td>-86.70589</td>\n",
              "      <td>Entire home/apt</td>\n",
              "      <td>170</td>\n",
              "      <td>3</td>\n",
              "      <td>0</td>\n",
              "      <td>2021-6-11</td>\n",
              "      <td>0.00</td>\n",
              "      <td>56</td>\n",
              "      <td>0</td>\n",
              "      <td>0</td>\n",
              "    </tr>\n",
              "    <tr>\n",
              "      <th>3925</th>\n",
              "      <td>43241408</td>\n",
              "      <td>Wyndham Nashville - 2 Bedroom Condo</td>\n",
              "      <td>194953121</td>\n",
              "      <td>NaN</td>\n",
              "      <td>District 15</td>\n",
              "      <td>36.22158</td>\n",
              "      <td>-86.70462</td>\n",
              "      <td>Entire home/apt</td>\n",
              "      <td>170</td>\n",
              "      <td>2</td>\n",
              "      <td>0</td>\n",
              "      <td>2021-6-11</td>\n",
              "      <td>0.00</td>\n",
              "      <td>56</td>\n",
              "      <td>0</td>\n",
              "      <td>0</td>\n",
              "    </tr>\n",
              "    <tr>\n",
              "      <th>3926</th>\n",
              "      <td>43241410</td>\n",
              "      <td>Wyndham Nashville - 2 Bedroom Condo</td>\n",
              "      <td>194953121</td>\n",
              "      <td>NaN</td>\n",
              "      <td>District 15</td>\n",
              "      <td>36.22062</td>\n",
              "      <td>-86.70394</td>\n",
              "      <td>Entire home/apt</td>\n",
              "      <td>170</td>\n",
              "      <td>2</td>\n",
              "      <td>0</td>\n",
              "      <td>2021-6-11</td>\n",
              "      <td>0.00</td>\n",
              "      <td>56</td>\n",
              "      <td>0</td>\n",
              "      <td>0</td>\n",
              "    </tr>\n",
              "    <tr>\n",
              "      <th>3927</th>\n",
              "      <td>43241414</td>\n",
              "      <td>Wyndham Nashville - 2 Bedroom Condo</td>\n",
              "      <td>194953121</td>\n",
              "      <td>NaN</td>\n",
              "      <td>District 15</td>\n",
              "      <td>36.21974</td>\n",
              "      <td>-86.70444</td>\n",
              "      <td>Entire home/apt</td>\n",
              "      <td>170</td>\n",
              "      <td>2</td>\n",
              "      <td>0</td>\n",
              "      <td>2021-6-11</td>\n",
              "      <td>0.00</td>\n",
              "      <td>56</td>\n",
              "      <td>0</td>\n",
              "      <td>0</td>\n",
              "    </tr>\n",
              "    <tr>\n",
              "      <th>3928</th>\n",
              "      <td>43241420</td>\n",
              "      <td>Sunny Club Wyndham Nashville, 1 Bedroom Suite</td>\n",
              "      <td>194953121</td>\n",
              "      <td>NaN</td>\n",
              "      <td>District 7</td>\n",
              "      <td>36.22060</td>\n",
              "      <td>-86.70738</td>\n",
              "      <td>Entire home/apt</td>\n",
              "      <td>136</td>\n",
              "      <td>3</td>\n",
              "      <td>2</td>\n",
              "      <td>2021-08-09</td>\n",
              "      <td>1.02</td>\n",
              "      <td>56</td>\n",
              "      <td>329</td>\n",
              "      <td>2</td>\n",
              "    </tr>\n",
              "    <tr>\n",
              "      <th>3929</th>\n",
              "      <td>43241422</td>\n",
              "      <td>Club Wyndham Nashville, Tennessee, 1 Bedroom S...</td>\n",
              "      <td>194953121</td>\n",
              "      <td>NaN</td>\n",
              "      <td>District 15</td>\n",
              "      <td>36.22126</td>\n",
              "      <td>-86.70732</td>\n",
              "      <td>Entire home/apt</td>\n",
              "      <td>136</td>\n",
              "      <td>2</td>\n",
              "      <td>2</td>\n",
              "      <td>2021-07-26</td>\n",
              "      <td>0.38</td>\n",
              "      <td>56</td>\n",
              "      <td>326</td>\n",
              "      <td>2</td>\n",
              "    </tr>\n",
              "    <tr>\n",
              "      <th>3930</th>\n",
              "      <td>43241427</td>\n",
              "      <td>Wyndham Nashville - 1 Bedroom Suite</td>\n",
              "      <td>194953121</td>\n",
              "      <td>NaN</td>\n",
              "      <td>District 15</td>\n",
              "      <td>36.21950</td>\n",
              "      <td>-86.70649</td>\n",
              "      <td>Entire home/apt</td>\n",
              "      <td>136</td>\n",
              "      <td>3</td>\n",
              "      <td>0</td>\n",
              "      <td>2021-6-11</td>\n",
              "      <td>0.00</td>\n",
              "      <td>56</td>\n",
              "      <td>331</td>\n",
              "      <td>0</td>\n",
              "    </tr>\n",
              "    <tr>\n",
              "      <th>3932</th>\n",
              "      <td>43259094</td>\n",
              "      <td>Wyndham Nashville - 2 Bedroom Condo</td>\n",
              "      <td>194953121</td>\n",
              "      <td>NaN</td>\n",
              "      <td>District 15</td>\n",
              "      <td>36.22107</td>\n",
              "      <td>-86.70368</td>\n",
              "      <td>Entire home/apt</td>\n",
              "      <td>170</td>\n",
              "      <td>5</td>\n",
              "      <td>0</td>\n",
              "      <td>2021-6-11</td>\n",
              "      <td>0.00</td>\n",
              "      <td>56</td>\n",
              "      <td>0</td>\n",
              "      <td>0</td>\n",
              "    </tr>\n",
              "    <tr>\n",
              "      <th>3949</th>\n",
              "      <td>43365978</td>\n",
              "      <td>Wyndham Nashville - 4 Bedroom Presidential</td>\n",
              "      <td>194953121</td>\n",
              "      <td>NaN</td>\n",
              "      <td>District 15</td>\n",
              "      <td>36.22123</td>\n",
              "      <td>-86.70402</td>\n",
              "      <td>Entire home/apt</td>\n",
              "      <td>220</td>\n",
              "      <td>2</td>\n",
              "      <td>0</td>\n",
              "      <td>2021-6-11</td>\n",
              "      <td>0.00</td>\n",
              "      <td>56</td>\n",
              "      <td>0</td>\n",
              "      <td>0</td>\n",
              "    </tr>\n",
              "    <tr>\n",
              "      <th>4568</th>\n",
              "      <td>46553416</td>\n",
              "      <td>Wyndham Nashville - 2 Bedroom Condo</td>\n",
              "      <td>194953121</td>\n",
              "      <td>NaN</td>\n",
              "      <td>District 15</td>\n",
              "      <td>36.22093</td>\n",
              "      <td>-86.70370</td>\n",
              "      <td>Entire home/apt</td>\n",
              "      <td>170</td>\n",
              "      <td>5</td>\n",
              "      <td>0</td>\n",
              "      <td>2021-6-11</td>\n",
              "      <td>0.00</td>\n",
              "      <td>56</td>\n",
              "      <td>0</td>\n",
              "      <td>0</td>\n",
              "    </tr>\n",
              "    <tr>\n",
              "      <th>5239</th>\n",
              "      <td>49282311</td>\n",
              "      <td>Wyndham Nashville - 1 Bedroom Suite</td>\n",
              "      <td>194953121</td>\n",
              "      <td>NaN</td>\n",
              "      <td>District 15</td>\n",
              "      <td>36.21992</td>\n",
              "      <td>-86.70611</td>\n",
              "      <td>Entire home/apt</td>\n",
              "      <td>136</td>\n",
              "      <td>4</td>\n",
              "      <td>0</td>\n",
              "      <td>2021-6-11</td>\n",
              "      <td>0.00</td>\n",
              "      <td>56</td>\n",
              "      <td>329</td>\n",
              "      <td>0</td>\n",
              "    </tr>\n",
              "    <tr>\n",
              "      <th>5348</th>\n",
              "      <td>49710990</td>\n",
              "      <td>Spacious Wyndham Nashville - 3 Bedroom Condo</td>\n",
              "      <td>194953121</td>\n",
              "      <td>NaN</td>\n",
              "      <td>District 15</td>\n",
              "      <td>36.22127</td>\n",
              "      <td>-86.70584</td>\n",
              "      <td>Entire home/apt</td>\n",
              "      <td>170</td>\n",
              "      <td>4</td>\n",
              "      <td>0</td>\n",
              "      <td>2021-6-11</td>\n",
              "      <td>0.00</td>\n",
              "      <td>56</td>\n",
              "      <td>0</td>\n",
              "      <td>0</td>\n",
              "    </tr>\n",
              "  </tbody>\n",
              "</table>\n",
              "</div>"
            ],
            "text/plain": [
              "            id                                               name    host_id  \\\n",
              "2913  35679923      Sunny Club Wyndham Nashville, 1 Bedroom Suite  194953121   \n",
              "2957  36132444  Commodious Club Wyndham Nashville, 2 Bedroom C...  194953121   \n",
              "3087  37599205      Sunny Club Wyndham Nashville, 2 Bedroom Condo  194953121   \n",
              "3217  38716138  Exquisite Club Wyndham Nashville, 1 Bedroom Suite  194953121   \n",
              "3282  39280367  Club Wyndham Nashville, Tennessee, 1 Bedroom S...  194953121   \n",
              "3283  39280370      Extravagant Club Wyndham Nashville, 1 Bedroom  194953121   \n",
              "3284  39280372  Exquisite Club Wyndham Nashville, 1 Bedroom Suite  194953121   \n",
              "3285  39280375      Sunny Club Wyndham Nashville, 1 Bedroom Suite  194953121   \n",
              "3286  39280377  Exquisite Club Wyndham Nashville, 1 Bedroom Suite  194953121   \n",
              "3287  39280378      Extravagant Club Wyndham Nashville, 1 Bedroom  194953121   \n",
              "3288  39280383      Extravagant Club Wyndham Nashville, 2 Bedroom  194953121   \n",
              "3289  39280384   Spacious Club Wyndham Nashville, 2 Bedroom Condo  194953121   \n",
              "3290  39280386  Exquisite Club Wyndham Nashville, 2 Bedroom Condo  194953121   \n",
              "3291  39280389  Club Wyndham Nashville, Tennessee, 2 Bedroom C...  194953121   \n",
              "3292  39280394      Sunny Club Wyndham Nashville, 2 Bedroom Condo  194953121   \n",
              "3293  39280396      Sunny Club Wyndham Nashville, 2 Bedroom Condo  194953121   \n",
              "3361  39915659  Club Wyndham Nashville, Tennessee, 2 Bedroom C...  194953121   \n",
              "3508  40805104  Commodious Club Wyndham Nashville, 2 Bedroom C...  194953121   \n",
              "3598  41564194  Club Wyndham Nashville, Tennessee, 2 Bedroom C...  194953121   \n",
              "3599  41564610  Commodious Club Wyndham Nashville, 2 Bedroom C...  194953121   \n",
              "3621  41743180  Club Wyndham Nashville, Tennessee, 2 Bedroom C...  194953121   \n",
              "3622  41743197      Extravagant Club Wyndham Nashville, 1 Bedroom  194953121   \n",
              "3623  41743201  Club Wyndham Nashville, Tennessee, 1 Bedroom S...  194953121   \n",
              "3624  41743204  Club Wyndham Nashville, Tennessee, 1 Bedroom S...  194953121   \n",
              "3681  42094266  Exquisite Club Wyndham Nashville, 1 Bedroom Suite  194953121   \n",
              "3682  42094271  Club Wyndham Nashville, Tennessee, 1 Bedroom S...  194953121   \n",
              "3683  42094272  Exquisite Club Wyndham Nashville, 2 Bedroom Condo  194953121   \n",
              "3684  42094285  Club Wyndham Nashville, Tennessee, 2 Bedroom C...  194953121   \n",
              "3685  42094288  Commodious Club Wyndham Nashville, 2 Bedroom C...  194953121   \n",
              "3735  42323519      Margaritaville Vacation Club, South Nashville  194953121   \n",
              "3736  42323520        Lavish Margaritaville Vacation Club, Studio  194953121   \n",
              "3737  42323522            Margaritaville Vacation Club by Wyndham  194953121   \n",
              "3738  42323523      Margaritaville Vacation Club, South Nashville  194953121   \n",
              "3739  42323525        Margaritaville Vacation Club, Studio Deluxe  194953121   \n",
              "3740  42323533  Lavish Margaritaville Vacation Club, Studio De...  194953121   \n",
              "3741  42323536      Margaritaville Vacation Club, South Nashville  194953121   \n",
              "3742  42323548        Margaritaville Vacation Club, Studio Deluxe  194953121   \n",
              "3917  43241371         Wyndham Nashville - 4 Bedroom Presidential  194953121   \n",
              "3918  43241377                Wyndham Nashville - 2 Bedroom Condo  194953121   \n",
              "3919  43241380                Wyndham Nashville - 2 Bedroom Condo  194953121   \n",
              "3920  43241383                Wyndham Nashville - 2 Bedroom Condo  194953121   \n",
              "3921  43241393                Wyndham Nashville - 2 Bedroom Condo  194953121   \n",
              "3922  43241399                Wyndham Nashville - 2 Bedroom Condo  194953121   \n",
              "3923  43241401                Wyndham Nashville - 2 Bedroom Condo  194953121   \n",
              "3924  43241404                Wyndham Nashville - 2 Bedroom Condo  194953121   \n",
              "3925  43241408                Wyndham Nashville - 2 Bedroom Condo  194953121   \n",
              "3926  43241410                Wyndham Nashville - 2 Bedroom Condo  194953121   \n",
              "3927  43241414                Wyndham Nashville - 2 Bedroom Condo  194953121   \n",
              "3928  43241420      Sunny Club Wyndham Nashville, 1 Bedroom Suite  194953121   \n",
              "3929  43241422  Club Wyndham Nashville, Tennessee, 1 Bedroom S...  194953121   \n",
              "3930  43241427                Wyndham Nashville - 1 Bedroom Suite  194953121   \n",
              "3932  43259094                Wyndham Nashville - 2 Bedroom Condo  194953121   \n",
              "3949  43365978         Wyndham Nashville - 4 Bedroom Presidential  194953121   \n",
              "4568  46553416                Wyndham Nashville - 2 Bedroom Condo  194953121   \n",
              "5239  49282311                Wyndham Nashville - 1 Bedroom Suite  194953121   \n",
              "5348  49710990       Spacious Wyndham Nashville - 3 Bedroom Condo  194953121   \n",
              "\n",
              "     host_name neighbourhood  latitude  longitude        room_type  price  \\\n",
              "2913       NaN    District 7  36.21944  -86.70746  Entire home/apt    136   \n",
              "2957       NaN   District 15  36.22111  -86.70536  Entire home/apt    170   \n",
              "3087       NaN   District 15  36.21921  -86.70460  Entire home/apt    170   \n",
              "3217       NaN    District 7  36.22098  -86.70790  Entire home/apt    136   \n",
              "3282       NaN    District 7  36.22087  -86.70782  Entire home/apt    136   \n",
              "3283       NaN    District 7  36.21996  -86.70783  Entire home/apt    136   \n",
              "3284       NaN   District 15  36.21973  -86.70599  Entire home/apt    136   \n",
              "3285       NaN   District 15  36.22127  -86.70661  Entire home/apt    136   \n",
              "3286       NaN   District 15  36.21932  -86.70678  Entire home/apt    136   \n",
              "3287       NaN    District 7  36.21958  -86.70813  Entire home/apt    136   \n",
              "3288       NaN   District 15  36.21939  -86.70422  Entire home/apt    170   \n",
              "3289       NaN   District 15  36.22079  -86.70383  Entire home/apt    170   \n",
              "3290       NaN   District 15  36.22126  -86.70399  Entire home/apt    170   \n",
              "3291       NaN   District 15  36.22096  -86.70421  Entire home/apt    170   \n",
              "3292       NaN   District 15  36.22090  -86.70414  Entire home/apt    170   \n",
              "3293       NaN   District 15  36.21938  -86.70565  Entire home/apt    170   \n",
              "3361       NaN   District 15  36.22073  -86.70380  Entire home/apt    170   \n",
              "3508       NaN   District 15  36.21934  -86.70505  Entire home/apt    170   \n",
              "3598       NaN   District 15  36.21938  -86.70560  Entire home/apt    170   \n",
              "3599       NaN   District 15  36.21971  -86.70455  Entire home/apt    170   \n",
              "3621       NaN   District 15  36.21953  -86.70429  Entire home/apt    170   \n",
              "3622       NaN   District 15  36.22117  -86.70608  Entire home/apt    136   \n",
              "3623       NaN    District 7  36.21941  -86.70740  Entire home/apt    136   \n",
              "3624       NaN    District 7  36.22109  -86.70821  Entire home/apt    136   \n",
              "3681       NaN   District 15  36.22138  -86.70603  Entire home/apt    136   \n",
              "3682       NaN    District 7  36.21996  -86.70739  Entire home/apt    136   \n",
              "3683       NaN   District 15  36.21981  -86.70390  Entire home/apt    170   \n",
              "3684       NaN   District 15  36.21984  -86.70374  Entire home/apt    170   \n",
              "3685       NaN   District 15  36.22139  -86.70435  Entire home/apt    170   \n",
              "3735       NaN   District 19  36.15609  -86.77639  Entire home/apt    320   \n",
              "3736       NaN   District 19  36.15443  -86.77610  Entire home/apt    320   \n",
              "3737       NaN   District 19  36.15630  -86.77468  Entire home/apt    320   \n",
              "3738       NaN   District 19  36.15434  -86.77477  Entire home/apt    320   \n",
              "3739       NaN   District 19  36.15578  -86.77650  Entire home/apt    320   \n",
              "3740       NaN   District 19  36.15586  -86.77653  Entire home/apt    320   \n",
              "3741       NaN   District 19  36.15585  -86.77687  Entire home/apt    320   \n",
              "3742       NaN   District 19  36.15500  -86.77513  Entire home/apt    320   \n",
              "3917       NaN   District 15  36.21960  -86.70421  Entire home/apt    220   \n",
              "3918       NaN   District 15  36.22113  -86.70415  Entire home/apt    170   \n",
              "3919       NaN   District 15  36.21955  -86.70563  Entire home/apt    170   \n",
              "3920       NaN   District 15  36.22133  -86.70597  Entire home/apt    170   \n",
              "3921       NaN   District 15  36.22115  -86.70373  Entire home/apt    170   \n",
              "3922       NaN   District 15  36.22002  -86.70433  Entire home/apt    170   \n",
              "3923       NaN   District 15  36.22015  -86.70507  Entire home/apt    170   \n",
              "3924       NaN   District 15  36.21947  -86.70589  Entire home/apt    170   \n",
              "3925       NaN   District 15  36.22158  -86.70462  Entire home/apt    170   \n",
              "3926       NaN   District 15  36.22062  -86.70394  Entire home/apt    170   \n",
              "3927       NaN   District 15  36.21974  -86.70444  Entire home/apt    170   \n",
              "3928       NaN    District 7  36.22060  -86.70738  Entire home/apt    136   \n",
              "3929       NaN   District 15  36.22126  -86.70732  Entire home/apt    136   \n",
              "3930       NaN   District 15  36.21950  -86.70649  Entire home/apt    136   \n",
              "3932       NaN   District 15  36.22107  -86.70368  Entire home/apt    170   \n",
              "3949       NaN   District 15  36.22123  -86.70402  Entire home/apt    220   \n",
              "4568       NaN   District 15  36.22093  -86.70370  Entire home/apt    170   \n",
              "5239       NaN   District 15  36.21992  -86.70611  Entire home/apt    136   \n",
              "5348       NaN   District 15  36.22127  -86.70584  Entire home/apt    170   \n",
              "\n",
              "      minimum_nights  number_of_reviews last_review  reviews_per_month  \\\n",
              "2913               2                  2  2020-01-01               0.09   \n",
              "2957               2                  3  2021-04-25               0.15   \n",
              "3087               2                  2  2021-06-01               0.08   \n",
              "3217               2                 10  2021-09-19               7.32   \n",
              "3282               2                  1  2020-01-01               0.05   \n",
              "3283               2                  0   2021-6-11               0.00   \n",
              "3284               3                  2  2021-08-25               0.40   \n",
              "3285               2                  1  2020-02-01               0.05   \n",
              "3286               4                  0   2021-6-11               0.00   \n",
              "3287               2                  0   2021-6-11               0.00   \n",
              "3288               2                  1  2020-08-15               0.07   \n",
              "3289               3                  1  2021-05-02               0.21   \n",
              "3290               3                  0   2021-6-11               0.00   \n",
              "3291               4                  0   2021-6-11               0.00   \n",
              "3292               4                  0   2021-6-11               0.00   \n",
              "3293               5                  0   2021-6-11               0.00   \n",
              "3361               4                  6  2021-01-02               0.30   \n",
              "3508               2                  4  2020-11-22               0.20   \n",
              "3598               2                  0   2021-6-11               0.00   \n",
              "3599               4                  0   2021-6-11               0.00   \n",
              "3621               5                  3  2020-12-22               0.20   \n",
              "3622               2                  2  2021-08-19               0.44   \n",
              "3623               2                  2  2021-08-01               0.46   \n",
              "3624               3                  0   2021-6-11               0.00   \n",
              "3681               2                  1  2021-08-09               0.68   \n",
              "3682               2                  0   2021-6-11               0.00   \n",
              "3683               3                  0   2021-6-11               0.00   \n",
              "3684               4                  0   2021-6-11               0.00   \n",
              "3685               5                  1  2020-12-05               0.10   \n",
              "3735               2                  0   2021-6-11               0.00   \n",
              "3736               2                  0   2021-6-11               0.00   \n",
              "3737               2                  2  2021-07-23               0.14   \n",
              "3738               3                  0   2021-6-11               0.00   \n",
              "3739               3                  0   2021-6-11               0.00   \n",
              "3740               4                  0   2021-6-11               0.00   \n",
              "3741               4                  1  2020-10-20               0.09   \n",
              "3742               3                  0   2021-6-11               0.00   \n",
              "3917               4                  0   2021-6-11               0.00   \n",
              "3918               5                  0   2021-6-11               0.00   \n",
              "3919               5                  1  2021-04-07               0.18   \n",
              "3920               4                  1  2021-04-18               0.19   \n",
              "3921               4                  1  2021-01-22               0.12   \n",
              "3922               4                  3  2020-10-31               0.23   \n",
              "3923               4                  0   2021-6-11               0.00   \n",
              "3924               3                  0   2021-6-11               0.00   \n",
              "3925               2                  0   2021-6-11               0.00   \n",
              "3926               2                  0   2021-6-11               0.00   \n",
              "3927               2                  0   2021-6-11               0.00   \n",
              "3928               3                  2  2021-08-09               1.02   \n",
              "3929               2                  2  2021-07-26               0.38   \n",
              "3930               3                  0   2021-6-11               0.00   \n",
              "3932               5                  0   2021-6-11               0.00   \n",
              "3949               2                  0   2021-6-11               0.00   \n",
              "4568               5                  0   2021-6-11               0.00   \n",
              "5239               4                  0   2021-6-11               0.00   \n",
              "5348               4                  0   2021-6-11               0.00   \n",
              "\n",
              "      calculated_host_listings_count  availability_365  number_of_reviews_ltm  \n",
              "2913                              56               329                      0  \n",
              "2957                              56                 0                      2  \n",
              "3087                              56                 0                      1  \n",
              "3217                              56               324                      8  \n",
              "3282                              56               324                      0  \n",
              "3283                              56               332                      0  \n",
              "3284                              56               331                      2  \n",
              "3285                              56               331                      0  \n",
              "3286                              56               324                      0  \n",
              "3287                              56               328                      0  \n",
              "3288                              56                 0                      0  \n",
              "3289                              56                 0                      1  \n",
              "3290                              56                 0                      0  \n",
              "3291                              56                 0                      0  \n",
              "3292                              56                 5                      0  \n",
              "3293                              56                 0                      0  \n",
              "3361                              56                 0                      3  \n",
              "3508                              56                 0                      1  \n",
              "3598                              56                 0                      0  \n",
              "3599                              56                 0                      0  \n",
              "3621                              56                 0                      1  \n",
              "3622                              56               330                      2  \n",
              "3623                              56               331                      2  \n",
              "3624                              56               333                      0  \n",
              "3681                              56               331                      1  \n",
              "3682                              56               329                      0  \n",
              "3683                              56                 0                      0  \n",
              "3684                              56                 0                      0  \n",
              "3685                              56                 0                      1  \n",
              "3735                              56               300                      0  \n",
              "3736                              56               305                      0  \n",
              "3737                              56               305                      1  \n",
              "3738                              56               299                      0  \n",
              "3739                              56               300                      0  \n",
              "3740                              56               297                      0  \n",
              "3741                              56               295                      1  \n",
              "3742                              56               296                      0  \n",
              "3917                              56                 0                      0  \n",
              "3918                              56                 0                      0  \n",
              "3919                              56                 0                      1  \n",
              "3920                              56                 0                      1  \n",
              "3921                              56                 0                      1  \n",
              "3922                              56                 0                      2  \n",
              "3923                              56                 0                      0  \n",
              "3924                              56                 0                      0  \n",
              "3925                              56                 0                      0  \n",
              "3926                              56                 0                      0  \n",
              "3927                              56                 0                      0  \n",
              "3928                              56               329                      2  \n",
              "3929                              56               326                      2  \n",
              "3930                              56               331                      0  \n",
              "3932                              56                 0                      0  \n",
              "3949                              56                 0                      0  \n",
              "4568                              56                 0                      0  \n",
              "5239                              56               329                      0  \n",
              "5348                              56                 0                      0  "
            ]
          },
          "execution_count": 685,
          "metadata": {},
          "output_type": "execute_result"
        }
      ]
    },
    {
      "cell_type": "code",
      "metadata": {
        "id": "2-wLBTSDCN1t"
      },
      "source": [
        "dados_filtrados.drop(columns= 'host_name', axis= 1, inplace= True)"
      ],
      "execution_count": null,
      "outputs": []
    },
    {
      "cell_type": "code",
      "metadata": {
        "id": "dl_uXCoMCN1t",
        "outputId": "61b3eaee-7cb9-4b11-f116-e495154259c3"
      },
      "source": [
        "#Dataset com os dados nulos limpos\n",
        "dados_filtrados.isnull().sum()"
      ],
      "execution_count": null,
      "outputs": [
        {
          "data": {
            "text/plain": [
              "id                                0\n",
              "name                              0\n",
              "host_id                           0\n",
              "neighbourhood                     0\n",
              "latitude                          0\n",
              "longitude                         0\n",
              "room_type                         0\n",
              "price                             0\n",
              "minimum_nights                    0\n",
              "number_of_reviews                 0\n",
              "last_review                       0\n",
              "reviews_per_month                 0\n",
              "calculated_host_listings_count    0\n",
              "availability_365                  0\n",
              "number_of_reviews_ltm             0\n",
              "dtype: int64"
            ]
          },
          "execution_count": 687,
          "metadata": {},
          "output_type": "execute_result"
        }
      ]
    },
    {
      "cell_type": "markdown",
      "metadata": {
        "id": "vTneAMRUYvr1"
      },
      "source": [
        "# **8. Qual é a média do mínimo de noites para aluguel (minimum_nights)?**\n",
        "---"
      ]
    },
    {
      "cell_type": "code",
      "metadata": {
        "id": "_VzNhrEgY82N",
        "outputId": "9a44db01-4e31-46b3-a582-fef61773ab65"
      },
      "source": [
        "# verificando a média da coluna `minimum_nights``\n",
        "dados_filtrados['minimum_nights'].mean()"
      ],
      "execution_count": null,
      "outputs": [
        {
          "data": {
            "text/plain": [
              "1.810880829015544"
            ]
          },
          "execution_count": 688,
          "metadata": {},
          "output_type": "execute_result"
        }
      ]
    },
    {
      "cell_type": "markdown",
      "metadata": {
        "id": "GkvAg623RjoR"
      },
      "source": [
        "# **Conclusões**\n",
        "---"
      ]
    },
    {
      "cell_type": "markdown",
      "metadata": {
        "id": "rbZ3Hsy9Ypw8"
      },
      "source": [
        "\n",
        "* Foi feita apenas uma análise superficial na base de dados do Airbnb, porém já se percebeu que existem outliers em algumas das variáveis.\n",
        "\n",
        "* Nota-se também que em algumas localidades há poucos imóveis disponíveis, o que pode distorcer as informações estatísticas de alguns atributos.\n",
        "\n",
        "* Por fim, lembra-se que este dataset é uma versão resumida, ideal apenas para uma abordagem inicial. Recomenda-se que seja usado, em uma próxima análise exploratória, o conjunto de dados completos, com 106 atributos disponíveis."
      ]
    }
  ]
}